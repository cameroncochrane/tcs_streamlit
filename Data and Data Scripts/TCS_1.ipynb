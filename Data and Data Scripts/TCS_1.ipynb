{
 "cells": [
  {
   "cell_type": "markdown",
   "metadata": {},
   "source": [
    "<h3> Toy Car Sales Data Project: Part 1"
   ]
  },
  {
   "cell_type": "code",
   "execution_count": 40,
   "metadata": {},
   "outputs": [],
   "source": [
    "import pandas as pd\n",
    "import numpy as np \n",
    "import matplotlib.pyplot as plt \n",
    "from pandas import ExcelWriter\n",
    "import openpyxl"
   ]
  },
  {
   "cell_type": "code",
   "execution_count": 41,
   "metadata": {},
   "outputs": [],
   "source": [
    "raw_data = pd.read_csv(\"Data/sales_data_sample_formatted.csv\")"
   ]
  },
  {
   "cell_type": "markdown",
   "metadata": {},
   "source": [
    "- Based on an initial look at the data we will just do some detailed visualisation to get used to matplotlib.\n",
    "- Will see if any ML modelling is appropriate later."
   ]
  },
  {
   "cell_type": "code",
   "execution_count": 42,
   "metadata": {},
   "outputs": [
    {
     "data": {
      "text/html": [
       "<div>\n",
       "<style scoped>\n",
       "    .dataframe tbody tr th:only-of-type {\n",
       "        vertical-align: middle;\n",
       "    }\n",
       "\n",
       "    .dataframe tbody tr th {\n",
       "        vertical-align: top;\n",
       "    }\n",
       "\n",
       "    .dataframe thead th {\n",
       "        text-align: right;\n",
       "    }\n",
       "</style>\n",
       "<table border=\"1\" class=\"dataframe\">\n",
       "  <thead>\n",
       "    <tr style=\"text-align: right;\">\n",
       "      <th></th>\n",
       "      <th>ORDERNUMBER</th>\n",
       "      <th>QUANTITYORDERED</th>\n",
       "      <th>PRICEEACH</th>\n",
       "      <th>ORDERLINENUMBER</th>\n",
       "      <th>SALES</th>\n",
       "      <th>ORDERDATE</th>\n",
       "      <th>STATUS</th>\n",
       "      <th>QTR_ID</th>\n",
       "      <th>MONTH_ID</th>\n",
       "      <th>YEAR_ID</th>\n",
       "      <th>PRODUCTLINE</th>\n",
       "      <th>MSRP</th>\n",
       "      <th>PRODUCTCODE</th>\n",
       "      <th>CUSTOMERNAME</th>\n",
       "      <th>CITY</th>\n",
       "      <th>COUNTRY</th>\n",
       "      <th>TERRITORY</th>\n",
       "      <th>DEALSIZE</th>\n",
       "    </tr>\n",
       "  </thead>\n",
       "  <tbody>\n",
       "    <tr>\n",
       "      <th>0</th>\n",
       "      <td>10100</td>\n",
       "      <td>30</td>\n",
       "      <td>100.00</td>\n",
       "      <td>3</td>\n",
       "      <td>5151.00</td>\n",
       "      <td>01/06/2003 00:00</td>\n",
       "      <td>Shipped</td>\n",
       "      <td>1</td>\n",
       "      <td>1</td>\n",
       "      <td>2003</td>\n",
       "      <td>Vintage Cars</td>\n",
       "      <td>170</td>\n",
       "      <td>S18_1749</td>\n",
       "      <td>Online Diecast Creations Co.</td>\n",
       "      <td>Nashua</td>\n",
       "      <td>USA</td>\n",
       "      <td>NaN</td>\n",
       "      <td>Medium</td>\n",
       "    </tr>\n",
       "    <tr>\n",
       "      <th>1</th>\n",
       "      <td>10100</td>\n",
       "      <td>50</td>\n",
       "      <td>67.80</td>\n",
       "      <td>2</td>\n",
       "      <td>3390.00</td>\n",
       "      <td>01/06/2003 00:00</td>\n",
       "      <td>Shipped</td>\n",
       "      <td>1</td>\n",
       "      <td>1</td>\n",
       "      <td>2003</td>\n",
       "      <td>Vintage Cars</td>\n",
       "      <td>60</td>\n",
       "      <td>S18_2248</td>\n",
       "      <td>Online Diecast Creations Co.</td>\n",
       "      <td>Nashua</td>\n",
       "      <td>USA</td>\n",
       "      <td>NaN</td>\n",
       "      <td>Medium</td>\n",
       "    </tr>\n",
       "    <tr>\n",
       "      <th>2</th>\n",
       "      <td>10100</td>\n",
       "      <td>22</td>\n",
       "      <td>86.51</td>\n",
       "      <td>4</td>\n",
       "      <td>1903.22</td>\n",
       "      <td>01/06/2003 00:00</td>\n",
       "      <td>Shipped</td>\n",
       "      <td>1</td>\n",
       "      <td>1</td>\n",
       "      <td>2003</td>\n",
       "      <td>Vintage Cars</td>\n",
       "      <td>92</td>\n",
       "      <td>S18_4409</td>\n",
       "      <td>Online Diecast Creations Co.</td>\n",
       "      <td>Nashua</td>\n",
       "      <td>USA</td>\n",
       "      <td>NaN</td>\n",
       "      <td>Small</td>\n",
       "    </tr>\n",
       "    <tr>\n",
       "      <th>3</th>\n",
       "      <td>10100</td>\n",
       "      <td>49</td>\n",
       "      <td>34.47</td>\n",
       "      <td>1</td>\n",
       "      <td>1689.03</td>\n",
       "      <td>01/06/2003 00:00</td>\n",
       "      <td>Shipped</td>\n",
       "      <td>1</td>\n",
       "      <td>1</td>\n",
       "      <td>2003</td>\n",
       "      <td>Vintage Cars</td>\n",
       "      <td>41</td>\n",
       "      <td>S24_3969</td>\n",
       "      <td>Online Diecast Creations Co.</td>\n",
       "      <td>Nashua</td>\n",
       "      <td>USA</td>\n",
       "      <td>NaN</td>\n",
       "      <td>Small</td>\n",
       "    </tr>\n",
       "    <tr>\n",
       "      <th>4</th>\n",
       "      <td>10101</td>\n",
       "      <td>25</td>\n",
       "      <td>100.00</td>\n",
       "      <td>4</td>\n",
       "      <td>3782.00</td>\n",
       "      <td>01/09/2003 00:00</td>\n",
       "      <td>Shipped</td>\n",
       "      <td>1</td>\n",
       "      <td>1</td>\n",
       "      <td>2003</td>\n",
       "      <td>Vintage Cars</td>\n",
       "      <td>127</td>\n",
       "      <td>S18_2325</td>\n",
       "      <td>Blauer See Auto, Co.</td>\n",
       "      <td>Frankfurt</td>\n",
       "      <td>Germany</td>\n",
       "      <td>EMEA</td>\n",
       "      <td>Medium</td>\n",
       "    </tr>\n",
       "    <tr>\n",
       "      <th>...</th>\n",
       "      <td>...</td>\n",
       "      <td>...</td>\n",
       "      <td>...</td>\n",
       "      <td>...</td>\n",
       "      <td>...</td>\n",
       "      <td>...</td>\n",
       "      <td>...</td>\n",
       "      <td>...</td>\n",
       "      <td>...</td>\n",
       "      <td>...</td>\n",
       "      <td>...</td>\n",
       "      <td>...</td>\n",
       "      <td>...</td>\n",
       "      <td>...</td>\n",
       "      <td>...</td>\n",
       "      <td>...</td>\n",
       "      <td>...</td>\n",
       "      <td>...</td>\n",
       "    </tr>\n",
       "    <tr>\n",
       "      <th>2818</th>\n",
       "      <td>10425</td>\n",
       "      <td>49</td>\n",
       "      <td>100.00</td>\n",
       "      <td>9</td>\n",
       "      <td>5510.54</td>\n",
       "      <td>5/31/2005 0:00</td>\n",
       "      <td>In Process</td>\n",
       "      <td>2</td>\n",
       "      <td>5</td>\n",
       "      <td>2005</td>\n",
       "      <td>Trucks and Buses</td>\n",
       "      <td>127</td>\n",
       "      <td>S24_2300</td>\n",
       "      <td>La Rochelle Gifts</td>\n",
       "      <td>Nantes</td>\n",
       "      <td>France</td>\n",
       "      <td>EMEA</td>\n",
       "      <td>Medium</td>\n",
       "    </tr>\n",
       "    <tr>\n",
       "      <th>2819</th>\n",
       "      <td>10425</td>\n",
       "      <td>31</td>\n",
       "      <td>33.24</td>\n",
       "      <td>5</td>\n",
       "      <td>1030.44</td>\n",
       "      <td>5/31/2005 0:00</td>\n",
       "      <td>In Process</td>\n",
       "      <td>2</td>\n",
       "      <td>5</td>\n",
       "      <td>2005</td>\n",
       "      <td>Classic Cars</td>\n",
       "      <td>35</td>\n",
       "      <td>S24_2840</td>\n",
       "      <td>La Rochelle Gifts</td>\n",
       "      <td>Nantes</td>\n",
       "      <td>France</td>\n",
       "      <td>EMEA</td>\n",
       "      <td>Small</td>\n",
       "    </tr>\n",
       "    <tr>\n",
       "      <th>2820</th>\n",
       "      <td>10425</td>\n",
       "      <td>41</td>\n",
       "      <td>86.68</td>\n",
       "      <td>11</td>\n",
       "      <td>3553.88</td>\n",
       "      <td>5/31/2005 0:00</td>\n",
       "      <td>In Process</td>\n",
       "      <td>2</td>\n",
       "      <td>5</td>\n",
       "      <td>2005</td>\n",
       "      <td>Trucks and Buses</td>\n",
       "      <td>96</td>\n",
       "      <td>S32_1268</td>\n",
       "      <td>La Rochelle Gifts</td>\n",
       "      <td>Nantes</td>\n",
       "      <td>France</td>\n",
       "      <td>EMEA</td>\n",
       "      <td>Medium</td>\n",
       "    </tr>\n",
       "    <tr>\n",
       "      <th>2821</th>\n",
       "      <td>10425</td>\n",
       "      <td>11</td>\n",
       "      <td>43.83</td>\n",
       "      <td>6</td>\n",
       "      <td>482.13</td>\n",
       "      <td>5/31/2005 0:00</td>\n",
       "      <td>In Process</td>\n",
       "      <td>2</td>\n",
       "      <td>5</td>\n",
       "      <td>2005</td>\n",
       "      <td>Trucks and Buses</td>\n",
       "      <td>54</td>\n",
       "      <td>S32_2509</td>\n",
       "      <td>La Rochelle Gifts</td>\n",
       "      <td>Nantes</td>\n",
       "      <td>France</td>\n",
       "      <td>EMEA</td>\n",
       "      <td>Small</td>\n",
       "    </tr>\n",
       "    <tr>\n",
       "      <th>2822</th>\n",
       "      <td>10425</td>\n",
       "      <td>18</td>\n",
       "      <td>100.00</td>\n",
       "      <td>2</td>\n",
       "      <td>1895.94</td>\n",
       "      <td>5/31/2005 0:00</td>\n",
       "      <td>In Process</td>\n",
       "      <td>2</td>\n",
       "      <td>5</td>\n",
       "      <td>2005</td>\n",
       "      <td>Trucks and Buses</td>\n",
       "      <td>115</td>\n",
       "      <td>S50_1392</td>\n",
       "      <td>La Rochelle Gifts</td>\n",
       "      <td>Nantes</td>\n",
       "      <td>France</td>\n",
       "      <td>EMEA</td>\n",
       "      <td>Small</td>\n",
       "    </tr>\n",
       "  </tbody>\n",
       "</table>\n",
       "<p>2823 rows × 18 columns</p>\n",
       "</div>"
      ],
      "text/plain": [
       "      ORDERNUMBER  QUANTITYORDERED  PRICEEACH  ORDERLINENUMBER    SALES   \n",
       "0           10100               30     100.00                3  5151.00  \\\n",
       "1           10100               50      67.80                2  3390.00   \n",
       "2           10100               22      86.51                4  1903.22   \n",
       "3           10100               49      34.47                1  1689.03   \n",
       "4           10101               25     100.00                4  3782.00   \n",
       "...           ...              ...        ...              ...      ...   \n",
       "2818        10425               49     100.00                9  5510.54   \n",
       "2819        10425               31      33.24                5  1030.44   \n",
       "2820        10425               41      86.68               11  3553.88   \n",
       "2821        10425               11      43.83                6   482.13   \n",
       "2822        10425               18     100.00                2  1895.94   \n",
       "\n",
       "             ORDERDATE      STATUS  QTR_ID  MONTH_ID  YEAR_ID   \n",
       "0     01/06/2003 00:00     Shipped       1         1     2003  \\\n",
       "1     01/06/2003 00:00     Shipped       1         1     2003   \n",
       "2     01/06/2003 00:00     Shipped       1         1     2003   \n",
       "3     01/06/2003 00:00     Shipped       1         1     2003   \n",
       "4     01/09/2003 00:00     Shipped       1         1     2003   \n",
       "...                ...         ...     ...       ...      ...   \n",
       "2818    5/31/2005 0:00  In Process       2         5     2005   \n",
       "2819    5/31/2005 0:00  In Process       2         5     2005   \n",
       "2820    5/31/2005 0:00  In Process       2         5     2005   \n",
       "2821    5/31/2005 0:00  In Process       2         5     2005   \n",
       "2822    5/31/2005 0:00  In Process       2         5     2005   \n",
       "\n",
       "           PRODUCTLINE  MSRP PRODUCTCODE                  CUSTOMERNAME   \n",
       "0         Vintage Cars   170    S18_1749  Online Diecast Creations Co.  \\\n",
       "1         Vintage Cars    60    S18_2248  Online Diecast Creations Co.   \n",
       "2         Vintage Cars    92    S18_4409  Online Diecast Creations Co.   \n",
       "3         Vintage Cars    41    S24_3969  Online Diecast Creations Co.   \n",
       "4         Vintage Cars   127    S18_2325          Blauer See Auto, Co.   \n",
       "...                ...   ...         ...                           ...   \n",
       "2818  Trucks and Buses   127    S24_2300             La Rochelle Gifts   \n",
       "2819      Classic Cars    35    S24_2840             La Rochelle Gifts   \n",
       "2820  Trucks and Buses    96    S32_1268             La Rochelle Gifts   \n",
       "2821  Trucks and Buses    54    S32_2509             La Rochelle Gifts   \n",
       "2822  Trucks and Buses   115    S50_1392             La Rochelle Gifts   \n",
       "\n",
       "           CITY  COUNTRY TERRITORY DEALSIZE  \n",
       "0        Nashua      USA       NaN   Medium  \n",
       "1        Nashua      USA       NaN   Medium  \n",
       "2        Nashua      USA       NaN    Small  \n",
       "3        Nashua      USA       NaN    Small  \n",
       "4     Frankfurt  Germany      EMEA   Medium  \n",
       "...         ...      ...       ...      ...  \n",
       "2818     Nantes   France      EMEA   Medium  \n",
       "2819     Nantes   France      EMEA    Small  \n",
       "2820     Nantes   France      EMEA   Medium  \n",
       "2821     Nantes   France      EMEA    Small  \n",
       "2822     Nantes   France      EMEA    Small  \n",
       "\n",
       "[2823 rows x 18 columns]"
      ]
     },
     "execution_count": 42,
     "metadata": {},
     "output_type": "execute_result"
    }
   ],
   "source": [
    "raw_data"
   ]
  },
  {
   "cell_type": "code",
   "execution_count": 43,
   "metadata": {},
   "outputs": [
    {
     "name": "stdout",
     "output_type": "stream",
     "text": [
      "<class 'pandas.core.frame.DataFrame'>\n",
      "RangeIndex: 2823 entries, 0 to 2822\n",
      "Data columns (total 18 columns):\n",
      " #   Column           Non-Null Count  Dtype  \n",
      "---  ------           --------------  -----  \n",
      " 0   ORDERNUMBER      2823 non-null   int64  \n",
      " 1   QUANTITYORDERED  2823 non-null   int64  \n",
      " 2   PRICEEACH        2823 non-null   float64\n",
      " 3   ORDERLINENUMBER  2823 non-null   int64  \n",
      " 4   SALES            2823 non-null   float64\n",
      " 5   ORDERDATE        2823 non-null   object \n",
      " 6   STATUS           2823 non-null   object \n",
      " 7   QTR_ID           2823 non-null   int64  \n",
      " 8   MONTH_ID         2823 non-null   int64  \n",
      " 9   YEAR_ID          2823 non-null   int64  \n",
      " 10  PRODUCTLINE      2823 non-null   object \n",
      " 11  MSRP             2823 non-null   int64  \n",
      " 12  PRODUCTCODE      2823 non-null   object \n",
      " 13  CUSTOMERNAME     2823 non-null   object \n",
      " 14  CITY             2823 non-null   object \n",
      " 15  COUNTRY          2823 non-null   object \n",
      " 16  TERRITORY        1749 non-null   object \n",
      " 17  DEALSIZE         2823 non-null   object \n",
      "dtypes: float64(2), int64(7), object(9)\n",
      "memory usage: 397.1+ KB\n"
     ]
    }
   ],
   "source": [
    "raw_data.info()"
   ]
  },
  {
   "cell_type": "markdown",
   "metadata": {},
   "source": [
    "raw_data.describe()"
   ]
  },
  {
   "cell_type": "code",
   "execution_count": 44,
   "metadata": {},
   "outputs": [
    {
     "data": {
      "text/plain": [
       "array(['Vintage Cars', 'Classic Cars', 'Trucks and Buses', 'Trains',\n",
       "       'Ships', 'Planes', 'Motorcycles'], dtype=object)"
      ]
     },
     "execution_count": 44,
     "metadata": {},
     "output_type": "execute_result"
    }
   ],
   "source": [
    "raw_data[\"PRODUCTLINE\"].unique()"
   ]
  },
  {
   "cell_type": "code",
   "execution_count": 45,
   "metadata": {},
   "outputs": [],
   "source": [
    "data = raw_data.copy()"
   ]
  },
  {
   "cell_type": "code",
   "execution_count": 46,
   "metadata": {},
   "outputs": [
    {
     "data": {
      "text/html": [
       "<div>\n",
       "<style scoped>\n",
       "    .dataframe tbody tr th:only-of-type {\n",
       "        vertical-align: middle;\n",
       "    }\n",
       "\n",
       "    .dataframe tbody tr th {\n",
       "        vertical-align: top;\n",
       "    }\n",
       "\n",
       "    .dataframe thead th {\n",
       "        text-align: right;\n",
       "    }\n",
       "</style>\n",
       "<table border=\"1\" class=\"dataframe\">\n",
       "  <thead>\n",
       "    <tr style=\"text-align: right;\">\n",
       "      <th></th>\n",
       "      <th>QUANTITYORDERED</th>\n",
       "      <th>PRICEEACH</th>\n",
       "      <th>SALES</th>\n",
       "      <th>ORDERDATE</th>\n",
       "      <th>STATUS</th>\n",
       "      <th>QTR_ID</th>\n",
       "      <th>MONTH_ID</th>\n",
       "      <th>YEAR_ID</th>\n",
       "      <th>PRODUCTLINE</th>\n",
       "      <th>MSRP</th>\n",
       "      <th>PRODUCTCODE</th>\n",
       "      <th>CUSTOMERNAME</th>\n",
       "      <th>CITY</th>\n",
       "      <th>COUNTRY</th>\n",
       "      <th>TERRITORY</th>\n",
       "      <th>DEALSIZE</th>\n",
       "    </tr>\n",
       "  </thead>\n",
       "  <tbody>\n",
       "    <tr>\n",
       "      <th>0</th>\n",
       "      <td>30</td>\n",
       "      <td>100.00</td>\n",
       "      <td>5151.00</td>\n",
       "      <td>01/06/2003 00:00</td>\n",
       "      <td>Shipped</td>\n",
       "      <td>1</td>\n",
       "      <td>1</td>\n",
       "      <td>2003</td>\n",
       "      <td>Vintage Cars</td>\n",
       "      <td>170</td>\n",
       "      <td>S18_1749</td>\n",
       "      <td>Online Diecast Creations Co.</td>\n",
       "      <td>Nashua</td>\n",
       "      <td>USA</td>\n",
       "      <td>NaN</td>\n",
       "      <td>Medium</td>\n",
       "    </tr>\n",
       "    <tr>\n",
       "      <th>1</th>\n",
       "      <td>50</td>\n",
       "      <td>67.80</td>\n",
       "      <td>3390.00</td>\n",
       "      <td>01/06/2003 00:00</td>\n",
       "      <td>Shipped</td>\n",
       "      <td>1</td>\n",
       "      <td>1</td>\n",
       "      <td>2003</td>\n",
       "      <td>Vintage Cars</td>\n",
       "      <td>60</td>\n",
       "      <td>S18_2248</td>\n",
       "      <td>Online Diecast Creations Co.</td>\n",
       "      <td>Nashua</td>\n",
       "      <td>USA</td>\n",
       "      <td>NaN</td>\n",
       "      <td>Medium</td>\n",
       "    </tr>\n",
       "    <tr>\n",
       "      <th>2</th>\n",
       "      <td>22</td>\n",
       "      <td>86.51</td>\n",
       "      <td>1903.22</td>\n",
       "      <td>01/06/2003 00:00</td>\n",
       "      <td>Shipped</td>\n",
       "      <td>1</td>\n",
       "      <td>1</td>\n",
       "      <td>2003</td>\n",
       "      <td>Vintage Cars</td>\n",
       "      <td>92</td>\n",
       "      <td>S18_4409</td>\n",
       "      <td>Online Diecast Creations Co.</td>\n",
       "      <td>Nashua</td>\n",
       "      <td>USA</td>\n",
       "      <td>NaN</td>\n",
       "      <td>Small</td>\n",
       "    </tr>\n",
       "    <tr>\n",
       "      <th>3</th>\n",
       "      <td>49</td>\n",
       "      <td>34.47</td>\n",
       "      <td>1689.03</td>\n",
       "      <td>01/06/2003 00:00</td>\n",
       "      <td>Shipped</td>\n",
       "      <td>1</td>\n",
       "      <td>1</td>\n",
       "      <td>2003</td>\n",
       "      <td>Vintage Cars</td>\n",
       "      <td>41</td>\n",
       "      <td>S24_3969</td>\n",
       "      <td>Online Diecast Creations Co.</td>\n",
       "      <td>Nashua</td>\n",
       "      <td>USA</td>\n",
       "      <td>NaN</td>\n",
       "      <td>Small</td>\n",
       "    </tr>\n",
       "    <tr>\n",
       "      <th>4</th>\n",
       "      <td>25</td>\n",
       "      <td>100.00</td>\n",
       "      <td>3782.00</td>\n",
       "      <td>01/09/2003 00:00</td>\n",
       "      <td>Shipped</td>\n",
       "      <td>1</td>\n",
       "      <td>1</td>\n",
       "      <td>2003</td>\n",
       "      <td>Vintage Cars</td>\n",
       "      <td>127</td>\n",
       "      <td>S18_2325</td>\n",
       "      <td>Blauer See Auto, Co.</td>\n",
       "      <td>Frankfurt</td>\n",
       "      <td>Germany</td>\n",
       "      <td>EMEA</td>\n",
       "      <td>Medium</td>\n",
       "    </tr>\n",
       "    <tr>\n",
       "      <th>...</th>\n",
       "      <td>...</td>\n",
       "      <td>...</td>\n",
       "      <td>...</td>\n",
       "      <td>...</td>\n",
       "      <td>...</td>\n",
       "      <td>...</td>\n",
       "      <td>...</td>\n",
       "      <td>...</td>\n",
       "      <td>...</td>\n",
       "      <td>...</td>\n",
       "      <td>...</td>\n",
       "      <td>...</td>\n",
       "      <td>...</td>\n",
       "      <td>...</td>\n",
       "      <td>...</td>\n",
       "      <td>...</td>\n",
       "    </tr>\n",
       "    <tr>\n",
       "      <th>2818</th>\n",
       "      <td>49</td>\n",
       "      <td>100.00</td>\n",
       "      <td>5510.54</td>\n",
       "      <td>5/31/2005 0:00</td>\n",
       "      <td>In Process</td>\n",
       "      <td>2</td>\n",
       "      <td>5</td>\n",
       "      <td>2005</td>\n",
       "      <td>Trucks and Buses</td>\n",
       "      <td>127</td>\n",
       "      <td>S24_2300</td>\n",
       "      <td>La Rochelle Gifts</td>\n",
       "      <td>Nantes</td>\n",
       "      <td>France</td>\n",
       "      <td>EMEA</td>\n",
       "      <td>Medium</td>\n",
       "    </tr>\n",
       "    <tr>\n",
       "      <th>2819</th>\n",
       "      <td>31</td>\n",
       "      <td>33.24</td>\n",
       "      <td>1030.44</td>\n",
       "      <td>5/31/2005 0:00</td>\n",
       "      <td>In Process</td>\n",
       "      <td>2</td>\n",
       "      <td>5</td>\n",
       "      <td>2005</td>\n",
       "      <td>Classic Cars</td>\n",
       "      <td>35</td>\n",
       "      <td>S24_2840</td>\n",
       "      <td>La Rochelle Gifts</td>\n",
       "      <td>Nantes</td>\n",
       "      <td>France</td>\n",
       "      <td>EMEA</td>\n",
       "      <td>Small</td>\n",
       "    </tr>\n",
       "    <tr>\n",
       "      <th>2820</th>\n",
       "      <td>41</td>\n",
       "      <td>86.68</td>\n",
       "      <td>3553.88</td>\n",
       "      <td>5/31/2005 0:00</td>\n",
       "      <td>In Process</td>\n",
       "      <td>2</td>\n",
       "      <td>5</td>\n",
       "      <td>2005</td>\n",
       "      <td>Trucks and Buses</td>\n",
       "      <td>96</td>\n",
       "      <td>S32_1268</td>\n",
       "      <td>La Rochelle Gifts</td>\n",
       "      <td>Nantes</td>\n",
       "      <td>France</td>\n",
       "      <td>EMEA</td>\n",
       "      <td>Medium</td>\n",
       "    </tr>\n",
       "    <tr>\n",
       "      <th>2821</th>\n",
       "      <td>11</td>\n",
       "      <td>43.83</td>\n",
       "      <td>482.13</td>\n",
       "      <td>5/31/2005 0:00</td>\n",
       "      <td>In Process</td>\n",
       "      <td>2</td>\n",
       "      <td>5</td>\n",
       "      <td>2005</td>\n",
       "      <td>Trucks and Buses</td>\n",
       "      <td>54</td>\n",
       "      <td>S32_2509</td>\n",
       "      <td>La Rochelle Gifts</td>\n",
       "      <td>Nantes</td>\n",
       "      <td>France</td>\n",
       "      <td>EMEA</td>\n",
       "      <td>Small</td>\n",
       "    </tr>\n",
       "    <tr>\n",
       "      <th>2822</th>\n",
       "      <td>18</td>\n",
       "      <td>100.00</td>\n",
       "      <td>1895.94</td>\n",
       "      <td>5/31/2005 0:00</td>\n",
       "      <td>In Process</td>\n",
       "      <td>2</td>\n",
       "      <td>5</td>\n",
       "      <td>2005</td>\n",
       "      <td>Trucks and Buses</td>\n",
       "      <td>115</td>\n",
       "      <td>S50_1392</td>\n",
       "      <td>La Rochelle Gifts</td>\n",
       "      <td>Nantes</td>\n",
       "      <td>France</td>\n",
       "      <td>EMEA</td>\n",
       "      <td>Small</td>\n",
       "    </tr>\n",
       "  </tbody>\n",
       "</table>\n",
       "<p>2823 rows × 16 columns</p>\n",
       "</div>"
      ],
      "text/plain": [
       "      QUANTITYORDERED  PRICEEACH    SALES         ORDERDATE      STATUS   \n",
       "0                  30     100.00  5151.00  01/06/2003 00:00     Shipped  \\\n",
       "1                  50      67.80  3390.00  01/06/2003 00:00     Shipped   \n",
       "2                  22      86.51  1903.22  01/06/2003 00:00     Shipped   \n",
       "3                  49      34.47  1689.03  01/06/2003 00:00     Shipped   \n",
       "4                  25     100.00  3782.00  01/09/2003 00:00     Shipped   \n",
       "...               ...        ...      ...               ...         ...   \n",
       "2818               49     100.00  5510.54    5/31/2005 0:00  In Process   \n",
       "2819               31      33.24  1030.44    5/31/2005 0:00  In Process   \n",
       "2820               41      86.68  3553.88    5/31/2005 0:00  In Process   \n",
       "2821               11      43.83   482.13    5/31/2005 0:00  In Process   \n",
       "2822               18     100.00  1895.94    5/31/2005 0:00  In Process   \n",
       "\n",
       "      QTR_ID  MONTH_ID  YEAR_ID       PRODUCTLINE  MSRP PRODUCTCODE   \n",
       "0          1         1     2003      Vintage Cars   170    S18_1749  \\\n",
       "1          1         1     2003      Vintage Cars    60    S18_2248   \n",
       "2          1         1     2003      Vintage Cars    92    S18_4409   \n",
       "3          1         1     2003      Vintage Cars    41    S24_3969   \n",
       "4          1         1     2003      Vintage Cars   127    S18_2325   \n",
       "...      ...       ...      ...               ...   ...         ...   \n",
       "2818       2         5     2005  Trucks and Buses   127    S24_2300   \n",
       "2819       2         5     2005      Classic Cars    35    S24_2840   \n",
       "2820       2         5     2005  Trucks and Buses    96    S32_1268   \n",
       "2821       2         5     2005  Trucks and Buses    54    S32_2509   \n",
       "2822       2         5     2005  Trucks and Buses   115    S50_1392   \n",
       "\n",
       "                      CUSTOMERNAME       CITY  COUNTRY TERRITORY DEALSIZE  \n",
       "0     Online Diecast Creations Co.     Nashua      USA       NaN   Medium  \n",
       "1     Online Diecast Creations Co.     Nashua      USA       NaN   Medium  \n",
       "2     Online Diecast Creations Co.     Nashua      USA       NaN    Small  \n",
       "3     Online Diecast Creations Co.     Nashua      USA       NaN    Small  \n",
       "4             Blauer See Auto, Co.  Frankfurt  Germany      EMEA   Medium  \n",
       "...                            ...        ...      ...       ...      ...  \n",
       "2818             La Rochelle Gifts     Nantes   France      EMEA   Medium  \n",
       "2819             La Rochelle Gifts     Nantes   France      EMEA    Small  \n",
       "2820             La Rochelle Gifts     Nantes   France      EMEA   Medium  \n",
       "2821             La Rochelle Gifts     Nantes   France      EMEA    Small  \n",
       "2822             La Rochelle Gifts     Nantes   France      EMEA    Small  \n",
       "\n",
       "[2823 rows x 16 columns]"
      ]
     },
     "execution_count": 46,
     "metadata": {},
     "output_type": "execute_result"
    }
   ],
   "source": [
    "data.drop(columns=[\"ORDERNUMBER\",\"ORDERLINENUMBER\"])"
   ]
  },
  {
   "cell_type": "markdown",
   "metadata": {},
   "source": [
    "<h4> Separating into Countries"
   ]
  },
  {
   "cell_type": "markdown",
   "metadata": {},
   "source": [
    "- Needed help from ChatGPT to create new dataframes which separates the data into unique countries (so that each dataframe has only one country)"
   ]
  },
  {
   "cell_type": "code",
   "execution_count": 47,
   "metadata": {},
   "outputs": [
    {
     "data": {
      "text/plain": [
       "array(['USA', 'Germany', 'Norway', 'Spain', 'Denmark', 'Italy',\n",
       "       'Philippines', 'UK', 'Sweden', 'France', 'Belgium', 'Singapore',\n",
       "       'Austria', 'Australia', 'Finland', 'Canada', 'Japan', 'Ireland',\n",
       "       'Switzerland'], dtype=object)"
      ]
     },
     "execution_count": 47,
     "metadata": {},
     "output_type": "execute_result"
    }
   ],
   "source": [
    "countries = data[\"COUNTRY\"].unique()\n",
    "countries"
   ]
  },
  {
   "cell_type": "code",
   "execution_count": 48,
   "metadata": {},
   "outputs": [],
   "source": [
    "column_to_filter ='COUNTRY'\n",
    "unique_values = data[column_to_filter].unique()\n",
    "\n",
    "countryDictDFs = {val: data[data[column_to_filter] == val] for val in unique_values}"
   ]
  },
  {
   "cell_type": "code",
   "execution_count": 49,
   "metadata": {},
   "outputs": [
    {
     "data": {
      "text/plain": [
       "pandas.core.frame.DataFrame"
      ]
     },
     "execution_count": 49,
     "metadata": {},
     "output_type": "execute_result"
    }
   ],
   "source": [
    "USA_data = countryDictDFs['USA']\n",
    "type(USA_data)"
   ]
  },
  {
   "cell_type": "markdown",
   "metadata": {},
   "source": [
    "- Comparing countries:\n",
    "\n",
    "Finding the number of orders, average order size (QUANTITYORDERED), order price (SALES), average price per item (PRICEEACH) and what time of the year is popular (MONTH_ID + QTR_ID)."
   ]
  },
  {
   "cell_type": "markdown",
   "metadata": {},
   "source": [
    "Starting with the USA:"
   ]
  },
  {
   "cell_type": "markdown",
   "metadata": {},
   "source": [
    "- Number of orders:"
   ]
  },
  {
   "cell_type": "code",
   "execution_count": 50,
   "metadata": {},
   "outputs": [
    {
     "data": {
      "text/plain": [
       "1004"
      ]
     },
     "execution_count": 50,
     "metadata": {},
     "output_type": "execute_result"
    }
   ],
   "source": [
    "USA_sales_quant = USA_data.shape[0]\n",
    "USA_sales_quant\n",
    "\n",
    "## Total of 1004 orders"
   ]
  },
  {
   "cell_type": "markdown",
   "metadata": {},
   "source": [
    "- Average order size (QUANTITYORDERED)"
   ]
  },
  {
   "cell_type": "code",
   "execution_count": 51,
   "metadata": {},
   "outputs": [],
   "source": [
    "USA_average_order_size = USA_data[\"QUANTITYORDERED\"].mean()"
   ]
  },
  {
   "cell_type": "markdown",
   "metadata": {},
   "source": [
    "- Average price per order (SALES)"
   ]
  },
  {
   "cell_type": "code",
   "execution_count": 52,
   "metadata": {},
   "outputs": [
    {
     "data": {
      "text/plain": [
       "3613.5287151394423"
      ]
     },
     "execution_count": 52,
     "metadata": {},
     "output_type": "execute_result"
    }
   ],
   "source": [
    "USA_average_sales = USA_data[\"SALES\"].mean()\n",
    "USA_average_sales"
   ]
  },
  {
   "cell_type": "markdown",
   "metadata": {},
   "source": [
    "- Average price per item (PRICEEACH)"
   ]
  },
  {
   "cell_type": "code",
   "execution_count": 53,
   "metadata": {},
   "outputs": [
    {
     "data": {
      "text/plain": [
       "83.82435258964144"
      ]
     },
     "execution_count": 53,
     "metadata": {},
     "output_type": "execute_result"
    }
   ],
   "source": [
    "USA_average_PPI = USA_data[\"PRICEEACH\"].mean()\n",
    "USA_average_PPI"
   ]
  },
  {
   "cell_type": "markdown",
   "metadata": {},
   "source": [
    "- Popular time to be shopping (MONTH_ID + QTR_ID)"
   ]
  },
  {
   "cell_type": "markdown",
   "metadata": {},
   "source": [
    "Organise into bins (each bin unique month/quarter), then tally up / calculate sums/averages."
   ]
  },
  {
   "cell_type": "markdown",
   "metadata": {},
   "source": [
    "1. Number of orders in each period"
   ]
  },
  {
   "cell_type": "code",
   "execution_count": 54,
   "metadata": {},
   "outputs": [
    {
     "data": {
      "text/plain": [
       "{1: 69,\n",
       " 2: 66,\n",
       " 3: 71,\n",
       " 4: 53,\n",
       " 5: 85,\n",
       " 6: 48,\n",
       " 7: 56,\n",
       " 8: 112,\n",
       " 9: 44,\n",
       " 10: 119,\n",
       " 11: 205,\n",
       " 12: 76}"
      ]
     },
     "execution_count": 54,
     "metadata": {},
     "output_type": "execute_result"
    }
   ],
   "source": [
    "# Monthly:\n",
    "\n",
    "# Doing it for all the months and then putting into a dictionary\n",
    "\n",
    "USA_monthly_array = []\n",
    "\n",
    "for i in range(1,13):\n",
    "    month_quant = USA_data[USA_data['MONTH_ID'] == i].shape[0]\n",
    "    USA_monthly_array.append(month_quant)\n",
    "\n",
    "\n",
    "months = [1,2,3,4,5,6,7,8,9,10,11,12]\n",
    "\n",
    "USA_monthly_quant = {key:value for key, value in zip(months, USA_monthly_array)}\n",
    "USA_monthly_quant\n"
   ]
  },
  {
   "cell_type": "code",
   "execution_count": 55,
   "metadata": {},
   "outputs": [
    {
     "data": {
      "text/plain": [
       "{1: 206, 2: 186, 3: 212, 4: 400}"
      ]
     },
     "execution_count": 55,
     "metadata": {},
     "output_type": "execute_result"
    }
   ],
   "source": [
    "# Quarterly:\n",
    "\n",
    "USA_quarter_array = []\n",
    "\n",
    "for i in range(1,5):\n",
    "    quart_quant = USA_data[USA_data['QTR_ID'] == i].shape[0]\n",
    "    USA_quarter_array.append(quart_quant)\n",
    "\n",
    "quarters = [1,2,3,4]\n",
    "\n",
    "USA_quarter_quant = {key:value for key, value in zip(quarters, USA_quarter_array)}\n",
    "USA_quarter_quant\n"
   ]
  },
  {
   "cell_type": "markdown",
   "metadata": {},
   "source": [
    "2. Total sales (revenue) per period"
   ]
  },
  {
   "cell_type": "code",
   "execution_count": 56,
   "metadata": {},
   "outputs": [
    {
     "data": {
      "text/plain": [
       "{1: 232862.06999999998,\n",
       " 2: 248421.79,\n",
       " 3: 268806.28,\n",
       " 4: 207625.7,\n",
       " 5: 300412.73,\n",
       " 6: 175897.41999999998,\n",
       " 7: 207946.16,\n",
       " 8: 397979.1,\n",
       " 9: 144178.91,\n",
       " 10: 416077.17000000004,\n",
       " 11: 741331.6799999999,\n",
       " 12: 286443.82}"
      ]
     },
     "execution_count": 56,
     "metadata": {},
     "output_type": "execute_result"
    }
   ],
   "source": [
    "# Monthly:\n",
    "\n",
    "# Do in similar manner to when the original dataset was organised into countries.\n",
    "\n",
    "# 1. Make a new dictionary of dataframes by separating the original dataset into unique months:\n",
    " \n",
    "column_to_filter ='MONTH_ID'\n",
    "unique_values = USA_data[column_to_filter].unique()\n",
    "\n",
    "USA_months_DictDFs = {val: USA_data[USA_data[column_to_filter] == val] for val in unique_values}\n",
    "\n",
    "# Caluclate the SUM of of the SALES column in each month and transfer to new dictionary:\n",
    "\n",
    "USA_monthly_total_SALES = {val: USA_months_DictDFs[val]['SALES'].sum()  for val in unique_values}\n",
    "USA_monthly_total_SALES"
   ]
  },
  {
   "cell_type": "code",
   "execution_count": 57,
   "metadata": {},
   "outputs": [
    {
     "data": {
      "text/plain": [
       "{1: 750090.1400000001,\n",
       " 2: 683935.85,\n",
       " 3: 750104.1700000002,\n",
       " 4: 1443852.6700000002}"
      ]
     },
     "execution_count": 57,
     "metadata": {},
     "output_type": "execute_result"
    }
   ],
   "source": [
    "# Quarterly:\n",
    "\n",
    "column_to_filter ='QTR_ID'\n",
    "unique_values = USA_data[column_to_filter].unique()\n",
    "\n",
    "USA_qtrs_DictDFs = {val: USA_data[USA_data[column_to_filter] == val] for val in unique_values}\n",
    "\n",
    "USA_qtrly_total_SALES = {val: USA_qtrs_DictDFs[val]['SALES'].sum()  for val in unique_values}\n",
    "USA_qtrly_total_SALES"
   ]
  },
  {
   "cell_type": "markdown",
   "metadata": {},
   "source": [
    "3. Average sales (revenue) per period"
   ]
  },
  {
   "cell_type": "code",
   "execution_count": 58,
   "metadata": {},
   "outputs": [
    {
     "data": {
      "text/plain": [
       "{1: 3374.8126086956518,\n",
       " 2: 3763.966515151515,\n",
       " 3: 3786.0039436619722,\n",
       " 4: 3917.466037735849,\n",
       " 5: 3534.2674117647057,\n",
       " 6: 3664.529583333333,\n",
       " 7: 3713.324285714286,\n",
       " 8: 3553.3848214285713,\n",
       " 9: 3276.7934090909093,\n",
       " 10: 3496.4468067226894,\n",
       " 11: 3616.2520975609755,\n",
       " 12: 3768.9976315789477}"
      ]
     },
     "execution_count": 58,
     "metadata": {},
     "output_type": "execute_result"
    }
   ],
   "source": [
    "#Similar way to finding the total sales per period. \n",
    "\n",
    "# Monthly:\n",
    "\n",
    "column_to_filter ='MONTH_ID'\n",
    "unique_values = USA_data[column_to_filter].unique()\n",
    "\n",
    "# Calculate the MEAN of of the SALES column in each month and transfer to new dictionary:\n",
    "\n",
    "USA_monthly_average_SALES = {val: USA_months_DictDFs[val]['SALES'].mean() for val in unique_values}\n",
    "USA_monthly_average_SALES\n"
   ]
  },
  {
   "cell_type": "code",
   "execution_count": 59,
   "metadata": {},
   "outputs": [
    {
     "data": {
      "text/plain": [
       "{1: 3641.2142718446607,\n",
       " 2: 3677.0744623655914,\n",
       " 3: 3538.2272169811326,\n",
       " 4: 3609.6316750000005}"
      ]
     },
     "execution_count": 59,
     "metadata": {},
     "output_type": "execute_result"
    }
   ],
   "source": [
    "#  Quarterly:\n",
    "\n",
    "column_to_filter ='QTR_ID'\n",
    "unique_values = USA_data[column_to_filter].unique()\n",
    "\n",
    "# Calculate the MEAN of of the SALES column in each month and transfer to new dictionary:\n",
    "\n",
    "USA_qtrly_average_SALES = {val: USA_qtrs_DictDFs[val]['SALES'].mean()  for val in unique_values}\n",
    "USA_qtrly_average_SALES"
   ]
  },
  {
   "cell_type": "markdown",
   "metadata": {},
   "source": [
    "<h4>Investigating the popular product categories (in USA):"
   ]
  },
  {
   "cell_type": "code",
   "execution_count": 60,
   "metadata": {},
   "outputs": [
    {
     "data": {
      "text/plain": [
       "array(['Vintage Cars', 'Motorcycles', 'Classic Cars', 'Trucks and Buses',\n",
       "       'Trains', 'Ships', 'Planes'], dtype=object)"
      ]
     },
     "execution_count": 60,
     "metadata": {},
     "output_type": "execute_result"
    }
   ],
   "source": [
    "USA_data[\"PRODUCTLINE\"].unique()"
   ]
  },
  {
   "cell_type": "markdown",
   "metadata": {},
   "source": [
    "There are 7 unique product types."
   ]
  },
  {
   "cell_type": "code",
   "execution_count": 61,
   "metadata": {},
   "outputs": [
    {
     "data": {
      "text/plain": [
       "{'Vintage Cars': 224,\n",
       " 'Motorcycles': 149,\n",
       " 'Classic Cars': 329,\n",
       " 'Trucks and Buses': 112,\n",
       " 'Trains': 25,\n",
       " 'Ships': 70,\n",
       " 'Planes': 95}"
      ]
     },
     "execution_count": 61,
     "metadata": {},
     "output_type": "execute_result"
    }
   ],
   "source": [
    "product_types = list(USA_data[\"PRODUCTLINE\"].unique())\n",
    "\n",
    "orders_per_product = []\n",
    "\n",
    "for item in product_types:\n",
    "    order_quant = USA_data[USA_data['PRODUCTLINE'] == item].shape[0]\n",
    "    orders_per_product.append(order_quant)\n",
    "\n",
    "\n",
    "USA_orders_per_product = {key:value for key, value in zip(product_types, orders_per_product)}\n",
    "USA_orders_per_product"
   ]
  },
  {
   "cell_type": "markdown",
   "metadata": {},
   "source": [
    "*The next step would be doing this in a pipeline so that all the countries can be done in a single script*"
   ]
  },
  {
   "cell_type": "markdown",
   "metadata": {},
   "source": [
    "<h3> Visualisation of the Monthly / Quarterly USA Data"
   ]
  },
  {
   "cell_type": "code",
   "execution_count": 62,
   "metadata": {},
   "outputs": [],
   "source": [
    "# Visualising the following:\n",
    "\n",
    "USA_monthly_quant # Total orders (monthly)\n",
    "\n",
    "USA_quarter_quant # Total orders (quarterly)\n",
    "\n",
    "USA_monthly_total_SALES # Total sales (monthly)\n",
    "\n",
    "USA_qtrly_total_SALES # Total sales (quarterly)\n",
    "\n",
    "USA_monthly_average_SALES # Average sale amount (monthly)\n",
    "\n",
    "USA_qtrly_average_SALES # Average sale amount (quarterly)\n",
    "\n",
    "months = ['Jan','Feb','Mar','Apr','May','Jun','Jul','Aug','Sep','Oct','Nov','Dec']\n",
    "quarters = ['Q1','Q2','Q3','Q4']\n"
   ]
  },
  {
   "cell_type": "code",
   "execution_count": 63,
   "metadata": {},
   "outputs": [
    {
     "data": {
      "text/plain": [
       "Text(0, 0.5, 'No. Orders')"
      ]
     },
     "execution_count": 63,
     "metadata": {},
     "output_type": "execute_result"
    },
    {
     "data": {
      "image/png": "[encoded data removed]",
      "text/plain": [
       "<Figure size 1000x500 with 1 Axes>"
      ]
     },
     "metadata": {},
     "output_type": "display_data"
    }
   ],
   "source": [
    "data = USA_monthly_quant\n",
    "values = list(data.values())\n",
    "\n",
    "plt.figure(figsize=(10,5))\n",
    "plt.bar(months, values)\n",
    "plt.title('Total Orders (USA, Monthly)')\n",
    "plt.xlabel('Month')\n",
    "plt.ylabel('No. Orders')"
   ]
  },
  {
   "cell_type": "code",
   "execution_count": 64,
   "metadata": {},
   "outputs": [
    {
     "data": {
      "image/png": "[encoded data removed]",
      "text/plain": [
       "<Figure size 2000x1000 with 4 Axes>"
      ]
     },
     "metadata": {},
     "output_type": "display_data"
    }
   ],
   "source": [
    "# Plotting all the monthly data (3 plots) on a subplot:\n",
    "\n",
    "fig,axs = plt.subplots(2,2,figsize=(20,10))\n",
    "\n",
    "axs[0,0].bar(months,list(USA_monthly_quant.values()))\n",
    "axs[0,0].set_title('Total Orders (USA, Monthly)')\n",
    "axs[0,0].set(xlabel='Month', ylabel='Total No. Orders')\n",
    "\n",
    "axs[0,1].bar(months,list(USA_monthly_total_SALES.values()))\n",
    "axs[0,1].set_title('Total Sales (USA, Monthly)')\n",
    "axs[0,1].set(xlabel='Month', ylabel='Total Sales ($)')\n",
    "\n",
    "axs[1,0].bar(months,list(USA_monthly_average_SALES.values()))\n",
    "axs[1,0].set_ylim([3000,4000])\n",
    "axs[1,0].set_title('Average Sale Amount (USA, Monthly)')\n",
    "axs[1,0].set(xlabel='Month', ylabel='Average Sale Amount ($)')\n",
    "\n",
    "plt.show()"
   ]
  },
  {
   "cell_type": "code",
   "execution_count": 65,
   "metadata": {},
   "outputs": [
    {
     "data": {
      "text/plain": [
       "[Text(0.5, 0, 'Quarter'), Text(0, 0.5, 'Average Sale Amount ($)')]"
      ]
     },
     "execution_count": 65,
     "metadata": {},
     "output_type": "execute_result"
    },
    {
     "data": {
      "image/png": "[encoded data removed]",
      "text/plain": [
       "<Figure size 2000x1000 with 4 Axes>"
      ]
     },
     "metadata": {},
     "output_type": "display_data"
    }
   ],
   "source": [
    "# Plotting all the quarterly data (3 plots) on a subplot:\n",
    "\n",
    "fig,axs = plt.subplots(2,2,figsize=(20,10))\n",
    "\n",
    "axs[0,0].bar(quarters,list(USA_quarter_quant.values()),color='red')\n",
    "axs[0,0].set_title('Total Orders (USA, Quarterly)')\n",
    "axs[0,0].set(xlabel='Quarter', ylabel='Total No. Orders')\n",
    "\n",
    "axs[0,1].bar(quarters,list(USA_qtrly_total_SALES.values()),color='red')\n",
    "axs[0,1].set_title('Total Sales (USA, Quarterly)')\n",
    "axs[0,1].set(xlabel='Quarter', ylabel='Total Sales ($)')\n",
    "\n",
    "axs[1,0].bar(quarters,list(USA_qtrly_average_SALES.values()),color='red')\n",
    "axs[1,0].set_ylim([3500,3700])\n",
    "axs[1,0].set_title('Average Sale Amount (USA, Quarterly)')\n",
    "axs[1,0].set(xlabel='Quarter', ylabel='Average Sale Amount ($)')\n"
   ]
  },
  {
   "cell_type": "code",
   "execution_count": 66,
   "metadata": {},
   "outputs": [
    {
     "data": {
      "text/plain": [
       "Text(0, 0.5, 'No. Orders')"
      ]
     },
     "execution_count": 66,
     "metadata": {},
     "output_type": "execute_result"
    },
    {
     "data": {
      "image/png": "[encoded data removed]",
      "text/plain": [
       "<Figure size 1300x500 with 1 Axes>"
      ]
     },
     "metadata": {},
     "output_type": "display_data"
    }
   ],
   "source": [
    "data = USA_orders_per_product\n",
    "product_types = list(USA_data[\"PRODUCTLINE\"].unique())\n",
    "values = list(data.values())\n",
    "\n",
    "plt.figure(figsize=(13,5))\n",
    "plt.bar(product_types, values,color='green')\n",
    "plt.title('Total Orders Per Product (USA)')\n",
    "plt.xlabel('Product')\n",
    "plt.ylabel('No. Orders')"
   ]
  },
  {
   "cell_type": "markdown",
   "metadata": {},
   "source": [
    "<h4>Exporting The Various Dataframes into an Excel Workbook (Different Sheet for each df):"
   ]
  },
  {
   "cell_type": "code",
   "execution_count": 67,
   "metadata": {},
   "outputs": [],
   "source": [
    "# List of dataframes:\n",
    "\n",
    "USA_monthly_quant = pd.DataFrame(USA_monthly_quant,index=[0]).transpose()# Total orders (monthly)\n",
    "\n",
    "USA_quarter_quant = pd.DataFrame(USA_quarter_quant,index=[0]).transpose() # Total orders (quarterly)\n",
    "\n",
    "USA_monthly_total_SALES = pd.DataFrame(USA_monthly_total_SALES,index=[0]).transpose() # Total sales (monthly)\n",
    "\n",
    "USA_qtrly_total_SALES = pd.DataFrame(USA_qtrly_total_SALES,index=[0]).transpose() # Total sales (quarterly)\n",
    "\n",
    "USA_monthly_average_SALES = pd.DataFrame(USA_monthly_average_SALES,index=[0]).transpose() # Average sale amount (monthly)\n",
    "\n",
    "USA_qtrly_average_SALES = pd.DataFrame(USA_qtrly_average_SALES,index=[0]).transpose() # Average sale amount (quarterly)\n",
    "\n",
    "USA_orders_per_product = pd.DataFrame(USA_orders_per_product,index=[0]).transpose() # Number of orders made for each unique product type\n"
   ]
  },
  {
   "cell_type": "code",
   "execution_count": 68,
   "metadata": {},
   "outputs": [],
   "source": [
    "with pd.ExcelWriter('USA_Data_Analysed.xlsx') as writer:\n",
    "    USA_monthly_quant.to_excel(writer, sheet_name=\"TTL_ORDERS_M\")\n",
    "    USA_quarter_quant.to_excel(writer, sheet_name=\"TTL_ORDERS_Q\")\n",
    "    USA_monthly_total_SALES.to_excel(writer, sheet_name=\"TTL_SALES_M\")\n",
    "    USA_qtrly_total_SALES.to_excel(writer, sheet_name=\"TTL_SALES_Q\")\n",
    "    USA_monthly_average_SALES.to_excel(writer, sheet_name=\"MEAN_SALES_M\")\n",
    "    USA_qtrly_average_SALES.to_excel(writer, sheet_name=\"MEAN_SALES_Q\")\n",
    "    USA_orders_per_product.to_excel(writer, sheet_name=\"TTL_ORDERS_PROD\")"
   ]
  },
  {
   "cell_type": "markdown",
   "metadata": {},
   "source": [
    "<h4> Comparing Countries"
   ]
  },
  {
   "cell_type": "markdown",
   "metadata": {},
   "source": [
    "- Each country has its own df in the following dictionary: countryDictDFs\n",
    "- The countries are: "
   ]
  },
  {
   "cell_type": "code",
   "execution_count": 69,
   "metadata": {},
   "outputs": [
    {
     "data": {
      "text/plain": [
       "array(['USA', 'Germany', 'Norway', 'Spain', 'Denmark', 'Italy',\n",
       "       'Philippines', 'UK', 'Sweden', 'France', 'Belgium', 'Singapore',\n",
       "       'Austria', 'Australia', 'Finland', 'Canada', 'Japan', 'Ireland',\n",
       "       'Switzerland'], dtype=object)"
      ]
     },
     "execution_count": 69,
     "metadata": {},
     "output_type": "execute_result"
    }
   ],
   "source": [
    "countries"
   ]
  },
  {
   "cell_type": "markdown",
   "metadata": {},
   "source": [
    "- USA already has its own df:"
   ]
  },
  {
   "cell_type": "code",
   "execution_count": 70,
   "metadata": {},
   "outputs": [
    {
     "data": {
      "text/html": [
       "<div>\n",
       "<style scoped>\n",
       "    .dataframe tbody tr th:only-of-type {\n",
       "        vertical-align: middle;\n",
       "    }\n",
       "\n",
       "    .dataframe tbody tr th {\n",
       "        vertical-align: top;\n",
       "    }\n",
       "\n",
       "    .dataframe thead th {\n",
       "        text-align: right;\n",
       "    }\n",
       "</style>\n",
       "<table border=\"1\" class=\"dataframe\">\n",
       "  <thead>\n",
       "    <tr style=\"text-align: right;\">\n",
       "      <th></th>\n",
       "      <th>ORDERNUMBER</th>\n",
       "      <th>QUANTITYORDERED</th>\n",
       "      <th>PRICEEACH</th>\n",
       "      <th>ORDERLINENUMBER</th>\n",
       "      <th>SALES</th>\n",
       "      <th>ORDERDATE</th>\n",
       "      <th>STATUS</th>\n",
       "      <th>QTR_ID</th>\n",
       "      <th>MONTH_ID</th>\n",
       "      <th>YEAR_ID</th>\n",
       "      <th>PRODUCTLINE</th>\n",
       "      <th>MSRP</th>\n",
       "      <th>PRODUCTCODE</th>\n",
       "      <th>CUSTOMERNAME</th>\n",
       "      <th>CITY</th>\n",
       "      <th>COUNTRY</th>\n",
       "      <th>TERRITORY</th>\n",
       "      <th>DEALSIZE</th>\n",
       "    </tr>\n",
       "  </thead>\n",
       "  <tbody>\n",
       "    <tr>\n",
       "      <th>0</th>\n",
       "      <td>10100</td>\n",
       "      <td>30</td>\n",
       "      <td>100.00</td>\n",
       "      <td>3</td>\n",
       "      <td>5151.00</td>\n",
       "      <td>01/06/2003 00:00</td>\n",
       "      <td>Shipped</td>\n",
       "      <td>1</td>\n",
       "      <td>1</td>\n",
       "      <td>2003</td>\n",
       "      <td>Vintage Cars</td>\n",
       "      <td>170</td>\n",
       "      <td>S18_1749</td>\n",
       "      <td>Online Diecast Creations Co.</td>\n",
       "      <td>Nashua</td>\n",
       "      <td>USA</td>\n",
       "      <td>NaN</td>\n",
       "      <td>Medium</td>\n",
       "    </tr>\n",
       "    <tr>\n",
       "      <th>1</th>\n",
       "      <td>10100</td>\n",
       "      <td>50</td>\n",
       "      <td>67.80</td>\n",
       "      <td>2</td>\n",
       "      <td>3390.00</td>\n",
       "      <td>01/06/2003 00:00</td>\n",
       "      <td>Shipped</td>\n",
       "      <td>1</td>\n",
       "      <td>1</td>\n",
       "      <td>2003</td>\n",
       "      <td>Vintage Cars</td>\n",
       "      <td>60</td>\n",
       "      <td>S18_2248</td>\n",
       "      <td>Online Diecast Creations Co.</td>\n",
       "      <td>Nashua</td>\n",
       "      <td>USA</td>\n",
       "      <td>NaN</td>\n",
       "      <td>Medium</td>\n",
       "    </tr>\n",
       "    <tr>\n",
       "      <th>2</th>\n",
       "      <td>10100</td>\n",
       "      <td>22</td>\n",
       "      <td>86.51</td>\n",
       "      <td>4</td>\n",
       "      <td>1903.22</td>\n",
       "      <td>01/06/2003 00:00</td>\n",
       "      <td>Shipped</td>\n",
       "      <td>1</td>\n",
       "      <td>1</td>\n",
       "      <td>2003</td>\n",
       "      <td>Vintage Cars</td>\n",
       "      <td>92</td>\n",
       "      <td>S18_4409</td>\n",
       "      <td>Online Diecast Creations Co.</td>\n",
       "      <td>Nashua</td>\n",
       "      <td>USA</td>\n",
       "      <td>NaN</td>\n",
       "      <td>Small</td>\n",
       "    </tr>\n",
       "    <tr>\n",
       "      <th>3</th>\n",
       "      <td>10100</td>\n",
       "      <td>49</td>\n",
       "      <td>34.47</td>\n",
       "      <td>1</td>\n",
       "      <td>1689.03</td>\n",
       "      <td>01/06/2003 00:00</td>\n",
       "      <td>Shipped</td>\n",
       "      <td>1</td>\n",
       "      <td>1</td>\n",
       "      <td>2003</td>\n",
       "      <td>Vintage Cars</td>\n",
       "      <td>41</td>\n",
       "      <td>S24_3969</td>\n",
       "      <td>Online Diecast Creations Co.</td>\n",
       "      <td>Nashua</td>\n",
       "      <td>USA</td>\n",
       "      <td>NaN</td>\n",
       "      <td>Small</td>\n",
       "    </tr>\n",
       "    <tr>\n",
       "      <th>8</th>\n",
       "      <td>10102</td>\n",
       "      <td>39</td>\n",
       "      <td>100.00</td>\n",
       "      <td>2</td>\n",
       "      <td>4808.31</td>\n",
       "      <td>01/10/2003 00:00</td>\n",
       "      <td>Shipped</td>\n",
       "      <td>1</td>\n",
       "      <td>1</td>\n",
       "      <td>2003</td>\n",
       "      <td>Vintage Cars</td>\n",
       "      <td>102</td>\n",
       "      <td>S18_1342</td>\n",
       "      <td>Vitachrome Inc.</td>\n",
       "      <td>NYC</td>\n",
       "      <td>USA</td>\n",
       "      <td>NaN</td>\n",
       "      <td>Medium</td>\n",
       "    </tr>\n",
       "    <tr>\n",
       "      <th>...</th>\n",
       "      <td>...</td>\n",
       "      <td>...</td>\n",
       "      <td>...</td>\n",
       "      <td>...</td>\n",
       "      <td>...</td>\n",
       "      <td>...</td>\n",
       "      <td>...</td>\n",
       "      <td>...</td>\n",
       "      <td>...</td>\n",
       "      <td>...</td>\n",
       "      <td>...</td>\n",
       "      <td>...</td>\n",
       "      <td>...</td>\n",
       "      <td>...</td>\n",
       "      <td>...</td>\n",
       "      <td>...</td>\n",
       "      <td>...</td>\n",
       "      <td>...</td>\n",
       "    </tr>\n",
       "    <tr>\n",
       "      <th>2742</th>\n",
       "      <td>10414</td>\n",
       "      <td>47</td>\n",
       "      <td>65.52</td>\n",
       "      <td>9</td>\n",
       "      <td>3079.44</td>\n",
       "      <td>05/06/2005 00:00</td>\n",
       "      <td>On Hold</td>\n",
       "      <td>2</td>\n",
       "      <td>5</td>\n",
       "      <td>2005</td>\n",
       "      <td>Ships</td>\n",
       "      <td>54</td>\n",
       "      <td>S72_3212</td>\n",
       "      <td>Gifts4AllAges.com</td>\n",
       "      <td>Boston</td>\n",
       "      <td>USA</td>\n",
       "      <td>NaN</td>\n",
       "      <td>Medium</td>\n",
       "    </tr>\n",
       "    <tr>\n",
       "      <th>2795</th>\n",
       "      <td>10421</td>\n",
       "      <td>35</td>\n",
       "      <td>100.00</td>\n",
       "      <td>1</td>\n",
       "      <td>5433.75</td>\n",
       "      <td>5/29/2005 0:00</td>\n",
       "      <td>In Process</td>\n",
       "      <td>2</td>\n",
       "      <td>5</td>\n",
       "      <td>2005</td>\n",
       "      <td>Vintage Cars</td>\n",
       "      <td>168</td>\n",
       "      <td>S18_2795</td>\n",
       "      <td>Mini Gifts Distributors Ltd.</td>\n",
       "      <td>San Rafael</td>\n",
       "      <td>USA</td>\n",
       "      <td>NaN</td>\n",
       "      <td>Medium</td>\n",
       "    </tr>\n",
       "    <tr>\n",
       "      <th>2796</th>\n",
       "      <td>10421</td>\n",
       "      <td>40</td>\n",
       "      <td>45.70</td>\n",
       "      <td>2</td>\n",
       "      <td>1828.00</td>\n",
       "      <td>5/29/2005 0:00</td>\n",
       "      <td>In Process</td>\n",
       "      <td>2</td>\n",
       "      <td>5</td>\n",
       "      <td>2005</td>\n",
       "      <td>Vintage Cars</td>\n",
       "      <td>44</td>\n",
       "      <td>S24_2022</td>\n",
       "      <td>Mini Gifts Distributors Ltd.</td>\n",
       "      <td>San Rafael</td>\n",
       "      <td>USA</td>\n",
       "      <td>NaN</td>\n",
       "      <td>Small</td>\n",
       "    </tr>\n",
       "    <tr>\n",
       "      <th>2797</th>\n",
       "      <td>10422</td>\n",
       "      <td>51</td>\n",
       "      <td>95.55</td>\n",
       "      <td>2</td>\n",
       "      <td>4873.05</td>\n",
       "      <td>5/30/2005 0:00</td>\n",
       "      <td>In Process</td>\n",
       "      <td>2</td>\n",
       "      <td>5</td>\n",
       "      <td>2005</td>\n",
       "      <td>Vintage Cars</td>\n",
       "      <td>102</td>\n",
       "      <td>S18_1342</td>\n",
       "      <td>Diecast Classics Inc.</td>\n",
       "      <td>Allentown</td>\n",
       "      <td>USA</td>\n",
       "      <td>NaN</td>\n",
       "      <td>Medium</td>\n",
       "    </tr>\n",
       "    <tr>\n",
       "      <th>2798</th>\n",
       "      <td>10422</td>\n",
       "      <td>25</td>\n",
       "      <td>51.75</td>\n",
       "      <td>1</td>\n",
       "      <td>1293.75</td>\n",
       "      <td>5/30/2005 0:00</td>\n",
       "      <td>In Process</td>\n",
       "      <td>2</td>\n",
       "      <td>5</td>\n",
       "      <td>2005</td>\n",
       "      <td>Vintage Cars</td>\n",
       "      <td>53</td>\n",
       "      <td>S18_1367</td>\n",
       "      <td>Diecast Classics Inc.</td>\n",
       "      <td>Allentown</td>\n",
       "      <td>USA</td>\n",
       "      <td>NaN</td>\n",
       "      <td>Small</td>\n",
       "    </tr>\n",
       "  </tbody>\n",
       "</table>\n",
       "<p>1004 rows × 18 columns</p>\n",
       "</div>"
      ],
      "text/plain": [
       "      ORDERNUMBER  QUANTITYORDERED  PRICEEACH  ORDERLINENUMBER    SALES   \n",
       "0           10100               30     100.00                3  5151.00  \\\n",
       "1           10100               50      67.80                2  3390.00   \n",
       "2           10100               22      86.51                4  1903.22   \n",
       "3           10100               49      34.47                1  1689.03   \n",
       "8           10102               39     100.00                2  4808.31   \n",
       "...           ...              ...        ...              ...      ...   \n",
       "2742        10414               47      65.52                9  3079.44   \n",
       "2795        10421               35     100.00                1  5433.75   \n",
       "2796        10421               40      45.70                2  1828.00   \n",
       "2797        10422               51      95.55                2  4873.05   \n",
       "2798        10422               25      51.75                1  1293.75   \n",
       "\n",
       "             ORDERDATE      STATUS  QTR_ID  MONTH_ID  YEAR_ID   PRODUCTLINE   \n",
       "0     01/06/2003 00:00     Shipped       1         1     2003  Vintage Cars  \\\n",
       "1     01/06/2003 00:00     Shipped       1         1     2003  Vintage Cars   \n",
       "2     01/06/2003 00:00     Shipped       1         1     2003  Vintage Cars   \n",
       "3     01/06/2003 00:00     Shipped       1         1     2003  Vintage Cars   \n",
       "8     01/10/2003 00:00     Shipped       1         1     2003  Vintage Cars   \n",
       "...                ...         ...     ...       ...      ...           ...   \n",
       "2742  05/06/2005 00:00     On Hold       2         5     2005         Ships   \n",
       "2795    5/29/2005 0:00  In Process       2         5     2005  Vintage Cars   \n",
       "2796    5/29/2005 0:00  In Process       2         5     2005  Vintage Cars   \n",
       "2797    5/30/2005 0:00  In Process       2         5     2005  Vintage Cars   \n",
       "2798    5/30/2005 0:00  In Process       2         5     2005  Vintage Cars   \n",
       "\n",
       "      MSRP PRODUCTCODE                  CUSTOMERNAME        CITY COUNTRY   \n",
       "0      170    S18_1749  Online Diecast Creations Co.      Nashua     USA  \\\n",
       "1       60    S18_2248  Online Diecast Creations Co.      Nashua     USA   \n",
       "2       92    S18_4409  Online Diecast Creations Co.      Nashua     USA   \n",
       "3       41    S24_3969  Online Diecast Creations Co.      Nashua     USA   \n",
       "8      102    S18_1342               Vitachrome Inc.         NYC     USA   \n",
       "...    ...         ...                           ...         ...     ...   \n",
       "2742    54    S72_3212             Gifts4AllAges.com      Boston     USA   \n",
       "2795   168    S18_2795  Mini Gifts Distributors Ltd.  San Rafael     USA   \n",
       "2796    44    S24_2022  Mini Gifts Distributors Ltd.  San Rafael     USA   \n",
       "2797   102    S18_1342         Diecast Classics Inc.   Allentown     USA   \n",
       "2798    53    S18_1367         Diecast Classics Inc.   Allentown     USA   \n",
       "\n",
       "     TERRITORY DEALSIZE  \n",
       "0          NaN   Medium  \n",
       "1          NaN   Medium  \n",
       "2          NaN    Small  \n",
       "3          NaN    Small  \n",
       "8          NaN   Medium  \n",
       "...        ...      ...  \n",
       "2742       NaN   Medium  \n",
       "2795       NaN   Medium  \n",
       "2796       NaN    Small  \n",
       "2797       NaN   Medium  \n",
       "2798       NaN    Small  \n",
       "\n",
       "[1004 rows x 18 columns]"
      ]
     },
     "execution_count": 70,
     "metadata": {},
     "output_type": "execute_result"
    }
   ],
   "source": [
    "USA_data"
   ]
  },
  {
   "cell_type": "markdown",
   "metadata": {},
   "source": [
    "- Next step is to do the same, but for the rest of the countries.\n",
    "- Creating new variables, each containing a unique dataframe for each unique country (and then finding the sales by country and orders by country, as dictionaries)"
   ]
  },
  {
   "cell_type": "code",
   "execution_count": 71,
   "metadata": {},
   "outputs": [],
   "source": [
    "orders_by_country_raw = []\n",
    "sales_by_country_raw = []\n",
    "\n",
    "for item in countries:\n",
    "    var_name = str(item +\"_data\")\n",
    "    globals()[var_name] = pd.DataFrame(countryDictDFs[item])\n",
    "    orders, columns = globals()[var_name].shape\n",
    "    country_sales = globals()[var_name]['SALES'].sum()\n",
    "\n",
    "    orders_by_country_raw.append(orders)\n",
    "    sales_by_country_raw.append(country_sales)\n",
    "\n",
    "orders_by_country = dict(zip(countries, orders_by_country_raw))\n",
    "sales_by_country = dict(zip(countries, sales_by_country_raw))\n",
    "\n"
   ]
  },
  {
   "cell_type": "code",
   "execution_count": 72,
   "metadata": {},
   "outputs": [
    {
     "data": {
      "text/plain": [
       "{'USA': 1004,\n",
       " 'Germany': 62,\n",
       " 'Norway': 85,\n",
       " 'Spain': 342,\n",
       " 'Denmark': 63,\n",
       " 'Italy': 113,\n",
       " 'Philippines': 26,\n",
       " 'UK': 144,\n",
       " 'Sweden': 57,\n",
       " 'France': 314,\n",
       " 'Belgium': 33,\n",
       " 'Singapore': 79,\n",
       " 'Austria': 55,\n",
       " 'Australia': 185,\n",
       " 'Finland': 92,\n",
       " 'Canada': 70,\n",
       " 'Japan': 52,\n",
       " 'Ireland': 16,\n",
       " 'Switzerland': 31}"
      ]
     },
     "execution_count": 72,
     "metadata": {},
     "output_type": "execute_result"
    }
   ],
   "source": [
    "orders_by_country"
   ]
  },
  {
   "cell_type": "markdown",
   "metadata": {},
   "source": [
    "- Finding the unique product types and then finding the popularity of the products in each country.\n",
    "- We have a separate dataframe for each country. We need to separate each country's data into bins determined by the product type.\n",
    "- Similar to the code used for the 'USA_data'. Just need to do in a loop for all the countries."
   ]
  },
  {
   "cell_type": "code",
   "execution_count": 73,
   "metadata": {},
   "outputs": [
    {
     "data": {
      "text/plain": [
       "array(['Vintage Cars', 'Classic Cars', 'Trucks and Buses', 'Trains',\n",
       "       'Ships', 'Planes', 'Motorcycles'], dtype=object)"
      ]
     },
     "execution_count": 73,
     "metadata": {},
     "output_type": "execute_result"
    }
   ],
   "source": [
    "product_types = raw_data['PRODUCTLINE'].unique()\n",
    "product_types"
   ]
  },
  {
   "cell_type": "code",
   "execution_count": 74,
   "metadata": {},
   "outputs": [],
   "source": [
    "# The code that was used for the USA_data popular product types:\n",
    "\n",
    "# product_types = list(USA_data[\"PRODUCTLINE\"].unique())\n",
    "\n",
    "# orders_per_product = []\n",
    "\n",
    "# for item in product_types:\n",
    "    #order_quant = USA_data[USA_data['PRODUCTLINE'] == item].shape[0]\n",
    "    #orders_per_product.append(order_quant)\n",
    "\n",
    "\n",
    "#USA_orders_per_product = {key:value for key, value in zip(product_types, orders_per_product)}"
   ]
  },
  {
   "cell_type": "code",
   "execution_count": 75,
   "metadata": {},
   "outputs": [],
   "source": [
    "product_types = raw_data['PRODUCTLINE'].unique()\n",
    "\n",
    "## Creating empty arrays (one for each country) to organise the number of orders for each product....\n",
    "\n",
    "for country in countries:\n",
    "    globals()[str(country+\"_orders_by_product\")] = []\n",
    "\n",
    "## Then filling the arrays:\n",
    "\n",
    "for country in countries:\n",
    "    var_name = str(country +\"_data\")\n",
    "    country_data = globals()[var_name]\n",
    "\n",
    "    for product in product_types:\n",
    "        order_quant = country_data[country_data['PRODUCTLINE'] == product].shape[0]\n",
    "        globals()[str(country+\"_orders_by_product\")].append(order_quant)\n",
    "    \n",
    "    globals()[str(country+'_orders_per_product_f')] = {key:value for key, value in zip(product_types, globals()[str(country+\"_orders_by_product\")])}\n",
    "    \n",
    "## The loops are a bit confusing but it seems to work\n",
    "## The dictionary for each country, detailing the orders for each product type are in general: {country}_order_per_product_f\n",
    "    "
   ]
  },
  {
   "cell_type": "code",
   "execution_count": 76,
   "metadata": {},
   "outputs": [
    {
     "data": {
      "text/plain": [
       "{'Vintage Cars': 224,\n",
       " 'Classic Cars': 329,\n",
       " 'Trucks and Buses': 112,\n",
       " 'Trains': 25,\n",
       " 'Ships': 70,\n",
       " 'Planes': 95,\n",
       " 'Motorcycles': 149}"
      ]
     },
     "execution_count": 76,
     "metadata": {},
     "output_type": "execute_result"
    }
   ],
   "source": [
    "USA_orders_per_product_f"
   ]
  },
  {
   "cell_type": "markdown",
   "metadata": {},
   "source": [
    "<h3>Exporting the additional data to Excel:"
   ]
  },
  {
   "cell_type": "markdown",
   "metadata": {},
   "source": [
    "A reminder of the code used to save the detailed US_data metrics we generated as separate sheets in the same Excel workbook:"
   ]
  },
  {
   "cell_type": "code",
   "execution_count": 77,
   "metadata": {},
   "outputs": [],
   "source": [
    "#with pd.ExcelWriter('USA_Data_Analyased.xlsx') as writer:\n",
    "#    USA_monthly_quant.to_excel(writer, sheet_name=\"TTL_ORDERS_M\")\n",
    "#    USA_quarter_quant.to_excel(writer, sheet_name=\"TTL_ORDERS_Q\")\n",
    "#    USA_monthly_total_SALES.to_excel(writer, sheet_name=\"TTL_SALES_M\")\n",
    "#    USA_qtrly_total_SALES.to_excel(writer, sheet_name=\"TTL_SALES_Q\")\n",
    "#    USA_monthly_average_SALES.to_excel(writer, sheet_name=\"MEAN_SALES_M\")\n",
    "#    USA_qtrly_average_SALES.to_excel(writer, sheet_name=\"MEAN_SALES_Q\")\n",
    "#    USA_orders_per_product.to_excel(writer, sheet_name=\"TTL_ORDERS_PROD\")"
   ]
  },
  {
   "cell_type": "markdown",
   "metadata": {},
   "source": [
    "For each country, we have:\n",
    "1. General data.\n",
    "2. Sales by product\n",
    "\n",
    "We also have two additional sets:\n",
    "1. Orders per country\n",
    "2. Total sales per country\n",
    "\n",
    "We will now generate some additional workbooks:\n",
    "1. General countries (one sheet for each country)\n",
    "2. Total orders and total sales per country (one sheet for orders and one sheet for sales)"
   ]
  },
  {
   "cell_type": "markdown",
   "metadata": {},
   "source": [
    "<h4>General countries data notebook:"
   ]
  },
  {
   "cell_type": "code",
   "execution_count": 78,
   "metadata": {},
   "outputs": [],
   "source": [
    "\n",
    "with pd.ExcelWriter('Data_by_country.xlsx') as writer:\n",
    "    for country in countries:\n",
    "        var_name = country+\"_data\"\n",
    "        globals()[var_name].to_excel(writer, sheet_name=str(var_name))\n",
    "    "
   ]
  },
  {
   "cell_type": "code",
   "execution_count": 79,
   "metadata": {},
   "outputs": [
    {
     "data": {
      "text/plain": [
       "{'USA': 1004,\n",
       " 'Germany': 62,\n",
       " 'Norway': 85,\n",
       " 'Spain': 342,\n",
       " 'Denmark': 63,\n",
       " 'Italy': 113,\n",
       " 'Philippines': 26,\n",
       " 'UK': 144,\n",
       " 'Sweden': 57,\n",
       " 'France': 314,\n",
       " 'Belgium': 33,\n",
       " 'Singapore': 79,\n",
       " 'Austria': 55,\n",
       " 'Australia': 185,\n",
       " 'Finland': 92,\n",
       " 'Canada': 70,\n",
       " 'Japan': 52,\n",
       " 'Ireland': 16,\n",
       " 'Switzerland': 31}"
      ]
     },
     "execution_count": 79,
     "metadata": {},
     "output_type": "execute_result"
    }
   ],
   "source": [
    "orders_by_country"
   ]
  },
  {
   "cell_type": "markdown",
   "metadata": {},
   "source": [
    "<h4> Total orders and total sales per country:"
   ]
  },
  {
   "cell_type": "code",
   "execution_count": 80,
   "metadata": {},
   "outputs": [],
   "source": [
    "sales_by_country_df = pd.DataFrame(sales_by_country, index=[0]).transpose()\n",
    "orders_by_country_df = pd.DataFrame(orders_by_country, index=[0]).transpose()"
   ]
  },
  {
   "cell_type": "code",
   "execution_count": 81,
   "metadata": {},
   "outputs": [
    {
     "data": {
      "text/html": [
       "<div>\n",
       "<style scoped>\n",
       "    .dataframe tbody tr th:only-of-type {\n",
       "        vertical-align: middle;\n",
       "    }\n",
       "\n",
       "    .dataframe tbody tr th {\n",
       "        vertical-align: top;\n",
       "    }\n",
       "\n",
       "    .dataframe thead th {\n",
       "        text-align: right;\n",
       "    }\n",
       "</style>\n",
       "<table border=\"1\" class=\"dataframe\">\n",
       "  <thead>\n",
       "    <tr style=\"text-align: right;\">\n",
       "      <th></th>\n",
       "      <th>0</th>\n",
       "    </tr>\n",
       "  </thead>\n",
       "  <tbody>\n",
       "    <tr>\n",
       "      <th>USA</th>\n",
       "      <td>3627982.83</td>\n",
       "    </tr>\n",
       "    <tr>\n",
       "      <th>Germany</th>\n",
       "      <td>220472.09</td>\n",
       "    </tr>\n",
       "    <tr>\n",
       "      <th>Norway</th>\n",
       "      <td>307463.70</td>\n",
       "    </tr>\n",
       "    <tr>\n",
       "      <th>Spain</th>\n",
       "      <td>1215686.92</td>\n",
       "    </tr>\n",
       "    <tr>\n",
       "      <th>Denmark</th>\n",
       "      <td>245637.15</td>\n",
       "    </tr>\n",
       "    <tr>\n",
       "      <th>Italy</th>\n",
       "      <td>374674.31</td>\n",
       "    </tr>\n",
       "    <tr>\n",
       "      <th>Philippines</th>\n",
       "      <td>94015.73</td>\n",
       "    </tr>\n",
       "    <tr>\n",
       "      <th>UK</th>\n",
       "      <td>478880.46</td>\n",
       "    </tr>\n",
       "    <tr>\n",
       "      <th>Sweden</th>\n",
       "      <td>210014.21</td>\n",
       "    </tr>\n",
       "    <tr>\n",
       "      <th>France</th>\n",
       "      <td>1110916.52</td>\n",
       "    </tr>\n",
       "    <tr>\n",
       "      <th>Belgium</th>\n",
       "      <td>108412.62</td>\n",
       "    </tr>\n",
       "    <tr>\n",
       "      <th>Singapore</th>\n",
       "      <td>288488.41</td>\n",
       "    </tr>\n",
       "    <tr>\n",
       "      <th>Austria</th>\n",
       "      <td>202062.53</td>\n",
       "    </tr>\n",
       "    <tr>\n",
       "      <th>Australia</th>\n",
       "      <td>630623.10</td>\n",
       "    </tr>\n",
       "    <tr>\n",
       "      <th>Finland</th>\n",
       "      <td>329581.91</td>\n",
       "    </tr>\n",
       "    <tr>\n",
       "      <th>Canada</th>\n",
       "      <td>224078.56</td>\n",
       "    </tr>\n",
       "    <tr>\n",
       "      <th>Japan</th>\n",
       "      <td>188167.81</td>\n",
       "    </tr>\n",
       "    <tr>\n",
       "      <th>Ireland</th>\n",
       "      <td>57756.43</td>\n",
       "    </tr>\n",
       "    <tr>\n",
       "      <th>Switzerland</th>\n",
       "      <td>117713.56</td>\n",
       "    </tr>\n",
       "  </tbody>\n",
       "</table>\n",
       "</div>"
      ],
      "text/plain": [
       "                      0\n",
       "USA          3627982.83\n",
       "Germany       220472.09\n",
       "Norway        307463.70\n",
       "Spain        1215686.92\n",
       "Denmark       245637.15\n",
       "Italy         374674.31\n",
       "Philippines    94015.73\n",
       "UK            478880.46\n",
       "Sweden        210014.21\n",
       "France       1110916.52\n",
       "Belgium       108412.62\n",
       "Singapore     288488.41\n",
       "Austria       202062.53\n",
       "Australia     630623.10\n",
       "Finland       329581.91\n",
       "Canada        224078.56\n",
       "Japan         188167.81\n",
       "Ireland        57756.43\n",
       "Switzerland   117713.56"
      ]
     },
     "execution_count": 81,
     "metadata": {},
     "output_type": "execute_result"
    }
   ],
   "source": [
    "sales_by_country_df"
   ]
  },
  {
   "cell_type": "code",
   "execution_count": 82,
   "metadata": {},
   "outputs": [],
   "source": [
    "with pd.ExcelWriter('total_sales_and_orders_by_country.xlsx') as writer_2:\n",
    "    sales_name = \"total_sales_by_country\"\n",
    "    sales_by_country_df.to_excel(writer_2, sheet_name=str(sales_name))\n",
    "    orders_name = \"orders_by_country\"\n",
    "    orders_by_country_df.to_excel(writer_2, sheet_name=str(orders_name))"
   ]
  },
  {
   "cell_type": "code",
   "execution_count": null,
   "metadata": {},
   "outputs": [],
   "source": []
  }
 ],
 "metadata": {
  "kernelspec": {
   "display_name": "Python 3",
   "language": "python",
   "name": "python3"
  },
  "language_info": {
   "codemirror_mode": {
    "name": "ipython",
    "version": 3
   },
   "file_extension": ".py",
   "mimetype": "text/x-python",
   "name": "python",
   "nbconvert_exporter": "python",
   "pygments_lexer": "ipython3",
   "version": "3.10.4"
  }
 },
 "nbformat": 4,
 "nbformat_minor": 2
}
