{
 "cells": [
  {
   "cell_type": "code",
   "execution_count": 1,
   "metadata": {},
   "outputs": [],
   "source": [
    "import plotly.express as px\n",
    "import pandas as pd\n",
    "import matplotlib.pyplot as plt\n",
    "import TCS_functions as tcs"
   ]
  },
  {
   "cell_type": "code",
   "execution_count": 2,
   "metadata": {},
   "outputs": [
    {
     "data": {
      "application/vnd.plotly.v1+json": {
       "config": {
        "plotlyServerURL": "https://plot.ly"
       },
       "data": [
        {
         "coloraxis": "coloraxis",
         "geo": "geo",
         "hovertemplate": "<b>%{hovertext}</b><br><br>Country=%{location}<br>Sales=%{z}<extra></extra>",
         "hovertext": [
          "United States",
          "Canada",
          "Brazil",
          "United Kingdom",
          "Germany",
          "France",
          "India",
          "China",
          "Japan",
          "Australia"
         ],
         "locationmode": "country names",
         "locations": [
          "United States",
          "Canada",
          "Brazil",
          "United Kingdom",
          "Germany",
          "France",
          "India",
          "China",
          "Japan",
          "Australia"
         ],
         "name": "",
         "type": "choropleth",
         "z": [
          1000,
          850,
          780,
          920,
          670,
          600,
          950,
          1100,
          730,
          680
         ]
        }
       ],
       "layout": {
        "coloraxis": {
         "colorbar": {
          "title": {
           "text": "Sales"
          }
         },
         "colorscale": [
          [
           0,
           "#0d0887"
          ],
          [
           0.1111111111111111,
           "#46039f"
          ],
          [
           0.2222222222222222,
           "#7201a8"
          ],
          [
           0.3333333333333333,
           "#9c179e"
          ],
          [
           0.4444444444444444,
           "#bd3786"
          ],
          [
           0.5555555555555556,
           "#d8576b"
          ],
          [
           0.6666666666666666,
           "#ed7953"
          ],
          [
           0.7777777777777778,
           "#fb9f3a"
          ],
          [
           0.8888888888888888,
           "#fdca26"
          ],
          [
           1,
           "#f0f921"
          ]
         ]
        },
        "geo": {
         "center": {},
         "domain": {
          "x": [
           0,
           1
          ],
          "y": [
           0,
           1
          ]
         }
        },
        "legend": {
         "tracegroupgap": 0
        },
        "margin": {
         "t": 60
        },
        "template": {
         "data": {
          "bar": [
           {
            "error_x": {
             "color": "#2a3f5f"
            },
            "error_y": {
             "color": "#2a3f5f"
            },
            "marker": {
             "line": {
              "color": "#E5ECF6",
              "width": 0.5
             },
             "pattern": {
              "fillmode": "overlay",
              "size": 10,
              "solidity": 0.2
             }
            },
            "type": "bar"
           }
          ],
          "barpolar": [
           {
            "marker": {
             "line": {
              "color": "#E5ECF6",
              "width": 0.5
             },
             "pattern": {
              "fillmode": "overlay",
              "size": 10,
              "solidity": 0.2
             }
            },
            "type": "barpolar"
           }
          ],
          "carpet": [
           {
            "aaxis": {
             "endlinecolor": "#2a3f5f",
             "gridcolor": "white",
             "linecolor": "white",
             "minorgridcolor": "white",
             "startlinecolor": "#2a3f5f"
            },
            "baxis": {
             "endlinecolor": "#2a3f5f",
             "gridcolor": "white",
             "linecolor": "white",
             "minorgridcolor": "white",
             "startlinecolor": "#2a3f5f"
            },
            "type": "carpet"
           }
          ],
          "choropleth": [
           {
            "colorbar": {
             "outlinewidth": 0,
             "ticks": ""
            },
            "type": "choropleth"
           }
          ],
          "contour": [
           {
            "colorbar": {
             "outlinewidth": 0,
             "ticks": ""
            },
            "colorscale": [
             [
              0,
              "#0d0887"
             ],
             [
              0.1111111111111111,
              "#46039f"
             ],
             [
              0.2222222222222222,
              "#7201a8"
             ],
             [
              0.3333333333333333,
              "#9c179e"
             ],
             [
              0.4444444444444444,
              "#bd3786"
             ],
             [
              0.5555555555555556,
              "#d8576b"
             ],
             [
              0.6666666666666666,
              "#ed7953"
             ],
             [
              0.7777777777777778,
              "#fb9f3a"
             ],
             [
              0.8888888888888888,
              "#fdca26"
             ],
             [
              1,
              "#f0f921"
             ]
            ],
            "type": "contour"
           }
          ],
          "contourcarpet": [
           {
            "colorbar": {
             "outlinewidth": 0,
             "ticks": ""
            },
            "type": "contourcarpet"
           }
          ],
          "heatmap": [
           {
            "colorbar": {
             "outlinewidth": 0,
             "ticks": ""
            },
            "colorscale": [
             [
              0,
              "#0d0887"
             ],
             [
              0.1111111111111111,
              "#46039f"
             ],
             [
              0.2222222222222222,
              "#7201a8"
             ],
             [
              0.3333333333333333,
              "#9c179e"
             ],
             [
              0.4444444444444444,
              "#bd3786"
             ],
             [
              0.5555555555555556,
              "#d8576b"
             ],
             [
              0.6666666666666666,
              "#ed7953"
             ],
             [
              0.7777777777777778,
              "#fb9f3a"
             ],
             [
              0.8888888888888888,
              "#fdca26"
             ],
             [
              1,
              "#f0f921"
             ]
            ],
            "type": "heatmap"
           }
          ],
          "heatmapgl": [
           {
            "colorbar": {
             "outlinewidth": 0,
             "ticks": ""
            },
            "colorscale": [
             [
              0,
              "#0d0887"
             ],
             [
              0.1111111111111111,
              "#46039f"
             ],
             [
              0.2222222222222222,
              "#7201a8"
             ],
             [
              0.3333333333333333,
              "#9c179e"
             ],
             [
              0.4444444444444444,
              "#bd3786"
             ],
             [
              0.5555555555555556,
              "#d8576b"
             ],
             [
              0.6666666666666666,
              "#ed7953"
             ],
             [
              0.7777777777777778,
              "#fb9f3a"
             ],
             [
              0.8888888888888888,
              "#fdca26"
             ],
             [
              1,
              "#f0f921"
             ]
            ],
            "type": "heatmapgl"
           }
          ],
          "histogram": [
           {
            "marker": {
             "pattern": {
              "fillmode": "overlay",
              "size": 10,
              "solidity": 0.2
             }
            },
            "type": "histogram"
           }
          ],
          "histogram2d": [
           {
            "colorbar": {
             "outlinewidth": 0,
             "ticks": ""
            },
            "colorscale": [
             [
              0,
              "#0d0887"
             ],
             [
              0.1111111111111111,
              "#46039f"
             ],
             [
              0.2222222222222222,
              "#7201a8"
             ],
             [
              0.3333333333333333,
              "#9c179e"
             ],
             [
              0.4444444444444444,
              "#bd3786"
             ],
             [
              0.5555555555555556,
              "#d8576b"
             ],
             [
              0.6666666666666666,
              "#ed7953"
             ],
             [
              0.7777777777777778,
              "#fb9f3a"
             ],
             [
              0.8888888888888888,
              "#fdca26"
             ],
             [
              1,
              "#f0f921"
             ]
            ],
            "type": "histogram2d"
           }
          ],
          "histogram2dcontour": [
           {
            "colorbar": {
             "outlinewidth": 0,
             "ticks": ""
            },
            "colorscale": [
             [
              0,
              "#0d0887"
             ],
             [
              0.1111111111111111,
              "#46039f"
             ],
             [
              0.2222222222222222,
              "#7201a8"
             ],
             [
              0.3333333333333333,
              "#9c179e"
             ],
             [
              0.4444444444444444,
              "#bd3786"
             ],
             [
              0.5555555555555556,
              "#d8576b"
             ],
             [
              0.6666666666666666,
              "#ed7953"
             ],
             [
              0.7777777777777778,
              "#fb9f3a"
             ],
             [
              0.8888888888888888,
              "#fdca26"
             ],
             [
              1,
              "#f0f921"
             ]
            ],
            "type": "histogram2dcontour"
           }
          ],
          "mesh3d": [
           {
            "colorbar": {
             "outlinewidth": 0,
             "ticks": ""
            },
            "type": "mesh3d"
           }
          ],
          "parcoords": [
           {
            "line": {
             "colorbar": {
              "outlinewidth": 0,
              "ticks": ""
             }
            },
            "type": "parcoords"
           }
          ],
          "pie": [
           {
            "automargin": true,
            "type": "pie"
           }
          ],
          "scatter": [
           {
            "fillpattern": {
             "fillmode": "overlay",
             "size": 10,
             "solidity": 0.2
            },
            "type": "scatter"
           }
          ],
          "scatter3d": [
           {
            "line": {
             "colorbar": {
              "outlinewidth": 0,
              "ticks": ""
             }
            },
            "marker": {
             "colorbar": {
              "outlinewidth": 0,
              "ticks": ""
             }
            },
            "type": "scatter3d"
           }
          ],
          "scattercarpet": [
           {
            "marker": {
             "colorbar": {
              "outlinewidth": 0,
              "ticks": ""
             }
            },
            "type": "scattercarpet"
           }
          ],
          "scattergeo": [
           {
            "marker": {
             "colorbar": {
              "outlinewidth": 0,
              "ticks": ""
             }
            },
            "type": "scattergeo"
           }
          ],
          "scattergl": [
           {
            "marker": {
             "colorbar": {
              "outlinewidth": 0,
              "ticks": ""
             }
            },
            "type": "scattergl"
           }
          ],
          "scattermapbox": [
           {
            "marker": {
             "colorbar": {
              "outlinewidth": 0,
              "ticks": ""
             }
            },
            "type": "scattermapbox"
           }
          ],
          "scatterpolar": [
           {
            "marker": {
             "colorbar": {
              "outlinewidth": 0,
              "ticks": ""
             }
            },
            "type": "scatterpolar"
           }
          ],
          "scatterpolargl": [
           {
            "marker": {
             "colorbar": {
              "outlinewidth": 0,
              "ticks": ""
             }
            },
            "type": "scatterpolargl"
           }
          ],
          "scatterternary": [
           {
            "marker": {
             "colorbar": {
              "outlinewidth": 0,
              "ticks": ""
             }
            },
            "type": "scatterternary"
           }
          ],
          "surface": [
           {
            "colorbar": {
             "outlinewidth": 0,
             "ticks": ""
            },
            "colorscale": [
             [
              0,
              "#0d0887"
             ],
             [
              0.1111111111111111,
              "#46039f"
             ],
             [
              0.2222222222222222,
              "#7201a8"
             ],
             [
              0.3333333333333333,
              "#9c179e"
             ],
             [
              0.4444444444444444,
              "#bd3786"
             ],
             [
              0.5555555555555556,
              "#d8576b"
             ],
             [
              0.6666666666666666,
              "#ed7953"
             ],
             [
              0.7777777777777778,
              "#fb9f3a"
             ],
             [
              0.8888888888888888,
              "#fdca26"
             ],
             [
              1,
              "#f0f921"
             ]
            ],
            "type": "surface"
           }
          ],
          "table": [
           {
            "cells": {
             "fill": {
              "color": "#EBF0F8"
             },
             "line": {
              "color": "white"
             }
            },
            "header": {
             "fill": {
              "color": "#C8D4E3"
             },
             "line": {
              "color": "white"
             }
            },
            "type": "table"
           }
          ]
         },
         "layout": {
          "annotationdefaults": {
           "arrowcolor": "#2a3f5f",
           "arrowhead": 0,
           "arrowwidth": 1
          },
          "autotypenumbers": "strict",
          "coloraxis": {
           "colorbar": {
            "outlinewidth": 0,
            "ticks": ""
           }
          },
          "colorscale": {
           "diverging": [
            [
             0,
             "#8e0152"
            ],
            [
             0.1,
             "#c51b7d"
            ],
            [
             0.2,
             "#de77ae"
            ],
            [
             0.3,
             "#f1b6da"
            ],
            [
             0.4,
             "#fde0ef"
            ],
            [
             0.5,
             "#f7f7f7"
            ],
            [
             0.6,
             "#e6f5d0"
            ],
            [
             0.7,
             "#b8e186"
            ],
            [
             0.8,
             "#7fbc41"
            ],
            [
             0.9,
             "#4d9221"
            ],
            [
             1,
             "#276419"
            ]
           ],
           "sequential": [
            [
             0,
             "#0d0887"
            ],
            [
             0.1111111111111111,
             "#46039f"
            ],
            [
             0.2222222222222222,
             "#7201a8"
            ],
            [
             0.3333333333333333,
             "#9c179e"
            ],
            [
             0.4444444444444444,
             "#bd3786"
            ],
            [
             0.5555555555555556,
             "#d8576b"
            ],
            [
             0.6666666666666666,
             "#ed7953"
            ],
            [
             0.7777777777777778,
             "#fb9f3a"
            ],
            [
             0.8888888888888888,
             "#fdca26"
            ],
            [
             1,
             "#f0f921"
            ]
           ],
           "sequentialminus": [
            [
             0,
             "#0d0887"
            ],
            [
             0.1111111111111111,
             "#46039f"
            ],
            [
             0.2222222222222222,
             "#7201a8"
            ],
            [
             0.3333333333333333,
             "#9c179e"
            ],
            [
             0.4444444444444444,
             "#bd3786"
            ],
            [
             0.5555555555555556,
             "#d8576b"
            ],
            [
             0.6666666666666666,
             "#ed7953"
            ],
            [
             0.7777777777777778,
             "#fb9f3a"
            ],
            [
             0.8888888888888888,
             "#fdca26"
            ],
            [
             1,
             "#f0f921"
            ]
           ]
          },
          "colorway": [
           "#636efa",
           "#EF553B",
           "#00cc96",
           "#ab63fa",
           "#FFA15A",
           "#19d3f3",
           "#FF6692",
           "#B6E880",
           "#FF97FF",
           "#FECB52"
          ],
          "font": {
           "color": "#2a3f5f"
          },
          "geo": {
           "bgcolor": "white",
           "lakecolor": "white",
           "landcolor": "#E5ECF6",
           "showlakes": true,
           "showland": true,
           "subunitcolor": "white"
          },
          "hoverlabel": {
           "align": "left"
          },
          "hovermode": "closest",
          "mapbox": {
           "style": "light"
          },
          "paper_bgcolor": "white",
          "plot_bgcolor": "#E5ECF6",
          "polar": {
           "angularaxis": {
            "gridcolor": "white",
            "linecolor": "white",
            "ticks": ""
           },
           "bgcolor": "#E5ECF6",
           "radialaxis": {
            "gridcolor": "white",
            "linecolor": "white",
            "ticks": ""
           }
          },
          "scene": {
           "xaxis": {
            "backgroundcolor": "#E5ECF6",
            "gridcolor": "white",
            "gridwidth": 2,
            "linecolor": "white",
            "showbackground": true,
            "ticks": "",
            "zerolinecolor": "white"
           },
           "yaxis": {
            "backgroundcolor": "#E5ECF6",
            "gridcolor": "white",
            "gridwidth": 2,
            "linecolor": "white",
            "showbackground": true,
            "ticks": "",
            "zerolinecolor": "white"
           },
           "zaxis": {
            "backgroundcolor": "#E5ECF6",
            "gridcolor": "white",
            "gridwidth": 2,
            "linecolor": "white",
            "showbackground": true,
            "ticks": "",
            "zerolinecolor": "white"
           }
          },
          "shapedefaults": {
           "line": {
            "color": "#2a3f5f"
           }
          },
          "ternary": {
           "aaxis": {
            "gridcolor": "white",
            "linecolor": "white",
            "ticks": ""
           },
           "baxis": {
            "gridcolor": "white",
            "linecolor": "white",
            "ticks": ""
           },
           "bgcolor": "#E5ECF6",
           "caxis": {
            "gridcolor": "white",
            "linecolor": "white",
            "ticks": ""
           }
          },
          "title": {
           "x": 0.05
          },
          "xaxis": {
           "automargin": true,
           "gridcolor": "white",
           "linecolor": "white",
           "ticks": "",
           "title": {
            "standoff": 15
           },
           "zerolinecolor": "white",
           "zerolinewidth": 2
          },
          "yaxis": {
           "automargin": true,
           "gridcolor": "white",
           "linecolor": "white",
           "ticks": "",
           "title": {
            "standoff": 15
           },
           "zerolinecolor": "white",
           "zerolinewidth": 2
          }
         }
        },
        "title": {
         "text": "Sales Data by Country"
        }
       }
      }
     },
     "metadata": {},
     "output_type": "display_data"
    }
   ],
   "source": [
    "# Sample data\n",
    "sample_data = {\n",
    "    'Country': ['United States', 'Canada', 'Brazil', 'United Kingdom', 'Germany', 'France', 'India', 'China', 'Japan', 'Australia'],\n",
    "    'Sales': [1000, 850, 780, 920, 670, 600, 950, 1100, 730, 680]\n",
    "}\n",
    "sample_df = pd.DataFrame(sample_data)\n",
    "\n",
    "# Plotting with plotly\n",
    "fig = px.choropleth(sample_df, locations=\"Country\",\n",
    "                    locationmode='country names',\n",
    "                    color=\"Sales\",\n",
    "                    hover_name=\"Country\",\n",
    "                    color_continuous_scale=px.colors.sequential.Plasma)\n",
    "\n",
    "fig.update_layout(title='Sales Data by Country')\n",
    "fig.show()\n"
   ]
  },
  {
   "cell_type": "code",
   "execution_count": 3,
   "metadata": {},
   "outputs": [
    {
     "name": "stderr",
     "output_type": "stream",
     "text": [
      "c:\\Users\\cochr\\OneDrive\\Libertas Data\\Projects\\Example Projects\\Toy Car Sales Project\\tcs_streamlit\\TCS_functions.py:152: FutureWarning:\n",
      "\n",
      "The behavior of array concatenation with empty entries is deprecated. In a future version, this will no longer exclude empty items when determining the result dtype. To retain the old behavior, exclude the empty entries before the concat operation.\n",
      "\n",
      "c:\\Users\\cochr\\OneDrive\\Libertas Data\\Projects\\Example Projects\\Toy Car Sales Project\\tcs_streamlit\\TCS_functions.py:162: FutureWarning:\n",
      "\n",
      "The behavior of array concatenation with empty entries is deprecated. In a future version, this will no longer exclude empty items when determining the result dtype. To retain the old behavior, exclude the empty entries before the concat operation.\n",
      "\n",
      "c:\\Users\\cochr\\OneDrive\\Libertas Data\\Projects\\Example Projects\\Toy Car Sales Project\\tcs_streamlit\\TCS_functions.py:152: FutureWarning:\n",
      "\n",
      "The behavior of array concatenation with empty entries is deprecated. In a future version, this will no longer exclude empty items when determining the result dtype. To retain the old behavior, exclude the empty entries before the concat operation.\n",
      "\n",
      "c:\\Users\\cochr\\OneDrive\\Libertas Data\\Projects\\Example Projects\\Toy Car Sales Project\\tcs_streamlit\\TCS_functions.py:162: FutureWarning:\n",
      "\n",
      "The behavior of array concatenation with empty entries is deprecated. In a future version, this will no longer exclude empty items when determining the result dtype. To retain the old behavior, exclude the empty entries before the concat operation.\n",
      "\n",
      "c:\\Users\\cochr\\OneDrive\\Libertas Data\\Projects\\Example Projects\\Toy Car Sales Project\\tcs_streamlit\\TCS_functions.py:152: FutureWarning:\n",
      "\n",
      "The behavior of array concatenation with empty entries is deprecated. In a future version, this will no longer exclude empty items when determining the result dtype. To retain the old behavior, exclude the empty entries before the concat operation.\n",
      "\n",
      "c:\\Users\\cochr\\OneDrive\\Libertas Data\\Projects\\Example Projects\\Toy Car Sales Project\\tcs_streamlit\\TCS_functions.py:162: FutureWarning:\n",
      "\n",
      "The behavior of array concatenation with empty entries is deprecated. In a future version, this will no longer exclude empty items when determining the result dtype. To retain the old behavior, exclude the empty entries before the concat operation.\n",
      "\n",
      "c:\\Users\\cochr\\OneDrive\\Libertas Data\\Projects\\Example Projects\\Toy Car Sales Project\\tcs_streamlit\\TCS_functions.py:152: FutureWarning:\n",
      "\n",
      "The behavior of array concatenation with empty entries is deprecated. In a future version, this will no longer exclude empty items when determining the result dtype. To retain the old behavior, exclude the empty entries before the concat operation.\n",
      "\n",
      "c:\\Users\\cochr\\OneDrive\\Libertas Data\\Projects\\Example Projects\\Toy Car Sales Project\\tcs_streamlit\\TCS_functions.py:162: FutureWarning:\n",
      "\n",
      "The behavior of array concatenation with empty entries is deprecated. In a future version, this will no longer exclude empty items when determining the result dtype. To retain the old behavior, exclude the empty entries before the concat operation.\n",
      "\n",
      "c:\\Users\\cochr\\OneDrive\\Libertas Data\\Projects\\Example Projects\\Toy Car Sales Project\\tcs_streamlit\\TCS_functions.py:152: FutureWarning:\n",
      "\n",
      "The behavior of array concatenation with empty entries is deprecated. In a future version, this will no longer exclude empty items when determining the result dtype. To retain the old behavior, exclude the empty entries before the concat operation.\n",
      "\n",
      "c:\\Users\\cochr\\OneDrive\\Libertas Data\\Projects\\Example Projects\\Toy Car Sales Project\\tcs_streamlit\\TCS_functions.py:162: FutureWarning:\n",
      "\n",
      "The behavior of array concatenation with empty entries is deprecated. In a future version, this will no longer exclude empty items when determining the result dtype. To retain the old behavior, exclude the empty entries before the concat operation.\n",
      "\n",
      "c:\\Users\\cochr\\OneDrive\\Libertas Data\\Projects\\Example Projects\\Toy Car Sales Project\\tcs_streamlit\\TCS_functions.py:152: FutureWarning:\n",
      "\n",
      "The behavior of array concatenation with empty entries is deprecated. In a future version, this will no longer exclude empty items when determining the result dtype. To retain the old behavior, exclude the empty entries before the concat operation.\n",
      "\n",
      "c:\\Users\\cochr\\OneDrive\\Libertas Data\\Projects\\Example Projects\\Toy Car Sales Project\\tcs_streamlit\\TCS_functions.py:162: FutureWarning:\n",
      "\n",
      "The behavior of array concatenation with empty entries is deprecated. In a future version, this will no longer exclude empty items when determining the result dtype. To retain the old behavior, exclude the empty entries before the concat operation.\n",
      "\n",
      "c:\\Users\\cochr\\OneDrive\\Libertas Data\\Projects\\Example Projects\\Toy Car Sales Project\\tcs_streamlit\\TCS_functions.py:152: FutureWarning:\n",
      "\n",
      "The behavior of array concatenation with empty entries is deprecated. In a future version, this will no longer exclude empty items when determining the result dtype. To retain the old behavior, exclude the empty entries before the concat operation.\n",
      "\n",
      "c:\\Users\\cochr\\OneDrive\\Libertas Data\\Projects\\Example Projects\\Toy Car Sales Project\\tcs_streamlit\\TCS_functions.py:162: FutureWarning:\n",
      "\n",
      "The behavior of array concatenation with empty entries is deprecated. In a future version, this will no longer exclude empty items when determining the result dtype. To retain the old behavior, exclude the empty entries before the concat operation.\n",
      "\n",
      "c:\\Users\\cochr\\OneDrive\\Libertas Data\\Projects\\Example Projects\\Toy Car Sales Project\\tcs_streamlit\\TCS_functions.py:152: FutureWarning:\n",
      "\n",
      "The behavior of array concatenation with empty entries is deprecated. In a future version, this will no longer exclude empty items when determining the result dtype. To retain the old behavior, exclude the empty entries before the concat operation.\n",
      "\n",
      "c:\\Users\\cochr\\OneDrive\\Libertas Data\\Projects\\Example Projects\\Toy Car Sales Project\\tcs_streamlit\\TCS_functions.py:162: FutureWarning:\n",
      "\n",
      "The behavior of array concatenation with empty entries is deprecated. In a future version, this will no longer exclude empty items when determining the result dtype. To retain the old behavior, exclude the empty entries before the concat operation.\n",
      "\n",
      "c:\\Users\\cochr\\OneDrive\\Libertas Data\\Projects\\Example Projects\\Toy Car Sales Project\\tcs_streamlit\\TCS_functions.py:152: FutureWarning:\n",
      "\n",
      "The behavior of array concatenation with empty entries is deprecated. In a future version, this will no longer exclude empty items when determining the result dtype. To retain the old behavior, exclude the empty entries before the concat operation.\n",
      "\n",
      "c:\\Users\\cochr\\OneDrive\\Libertas Data\\Projects\\Example Projects\\Toy Car Sales Project\\tcs_streamlit\\TCS_functions.py:162: FutureWarning:\n",
      "\n",
      "The behavior of array concatenation with empty entries is deprecated. In a future version, this will no longer exclude empty items when determining the result dtype. To retain the old behavior, exclude the empty entries before the concat operation.\n",
      "\n",
      "c:\\Users\\cochr\\OneDrive\\Libertas Data\\Projects\\Example Projects\\Toy Car Sales Project\\tcs_streamlit\\TCS_functions.py:152: FutureWarning:\n",
      "\n",
      "The behavior of array concatenation with empty entries is deprecated. In a future version, this will no longer exclude empty items when determining the result dtype. To retain the old behavior, exclude the empty entries before the concat operation.\n",
      "\n",
      "c:\\Users\\cochr\\OneDrive\\Libertas Data\\Projects\\Example Projects\\Toy Car Sales Project\\tcs_streamlit\\TCS_functions.py:162: FutureWarning:\n",
      "\n",
      "The behavior of array concatenation with empty entries is deprecated. In a future version, this will no longer exclude empty items when determining the result dtype. To retain the old behavior, exclude the empty entries before the concat operation.\n",
      "\n",
      "c:\\Users\\cochr\\OneDrive\\Libertas Data\\Projects\\Example Projects\\Toy Car Sales Project\\tcs_streamlit\\TCS_functions.py:152: FutureWarning:\n",
      "\n",
      "The behavior of array concatenation with empty entries is deprecated. In a future version, this will no longer exclude empty items when determining the result dtype. To retain the old behavior, exclude the empty entries before the concat operation.\n",
      "\n",
      "c:\\Users\\cochr\\OneDrive\\Libertas Data\\Projects\\Example Projects\\Toy Car Sales Project\\tcs_streamlit\\TCS_functions.py:162: FutureWarning:\n",
      "\n",
      "The behavior of array concatenation with empty entries is deprecated. In a future version, this will no longer exclude empty items when determining the result dtype. To retain the old behavior, exclude the empty entries before the concat operation.\n",
      "\n",
      "c:\\Users\\cochr\\OneDrive\\Libertas Data\\Projects\\Example Projects\\Toy Car Sales Project\\tcs_streamlit\\TCS_functions.py:152: FutureWarning:\n",
      "\n",
      "The behavior of array concatenation with empty entries is deprecated. In a future version, this will no longer exclude empty items when determining the result dtype. To retain the old behavior, exclude the empty entries before the concat operation.\n",
      "\n",
      "c:\\Users\\cochr\\OneDrive\\Libertas Data\\Projects\\Example Projects\\Toy Car Sales Project\\tcs_streamlit\\TCS_functions.py:162: FutureWarning:\n",
      "\n",
      "The behavior of array concatenation with empty entries is deprecated. In a future version, this will no longer exclude empty items when determining the result dtype. To retain the old behavior, exclude the empty entries before the concat operation.\n",
      "\n",
      "c:\\Users\\cochr\\OneDrive\\Libertas Data\\Projects\\Example Projects\\Toy Car Sales Project\\tcs_streamlit\\TCS_functions.py:152: FutureWarning:\n",
      "\n",
      "The behavior of array concatenation with empty entries is deprecated. In a future version, this will no longer exclude empty items when determining the result dtype. To retain the old behavior, exclude the empty entries before the concat operation.\n",
      "\n",
      "c:\\Users\\cochr\\OneDrive\\Libertas Data\\Projects\\Example Projects\\Toy Car Sales Project\\tcs_streamlit\\TCS_functions.py:162: FutureWarning:\n",
      "\n",
      "The behavior of array concatenation with empty entries is deprecated. In a future version, this will no longer exclude empty items when determining the result dtype. To retain the old behavior, exclude the empty entries before the concat operation.\n",
      "\n",
      "c:\\Users\\cochr\\OneDrive\\Libertas Data\\Projects\\Example Projects\\Toy Car Sales Project\\tcs_streamlit\\TCS_functions.py:152: FutureWarning:\n",
      "\n",
      "The behavior of array concatenation with empty entries is deprecated. In a future version, this will no longer exclude empty items when determining the result dtype. To retain the old behavior, exclude the empty entries before the concat operation.\n",
      "\n",
      "c:\\Users\\cochr\\OneDrive\\Libertas Data\\Projects\\Example Projects\\Toy Car Sales Project\\tcs_streamlit\\TCS_functions.py:162: FutureWarning:\n",
      "\n",
      "The behavior of array concatenation with empty entries is deprecated. In a future version, this will no longer exclude empty items when determining the result dtype. To retain the old behavior, exclude the empty entries before the concat operation.\n",
      "\n",
      "c:\\Users\\cochr\\OneDrive\\Libertas Data\\Projects\\Example Projects\\Toy Car Sales Project\\tcs_streamlit\\TCS_functions.py:152: FutureWarning:\n",
      "\n",
      "The behavior of array concatenation with empty entries is deprecated. In a future version, this will no longer exclude empty items when determining the result dtype. To retain the old behavior, exclude the empty entries before the concat operation.\n",
      "\n",
      "c:\\Users\\cochr\\OneDrive\\Libertas Data\\Projects\\Example Projects\\Toy Car Sales Project\\tcs_streamlit\\TCS_functions.py:162: FutureWarning:\n",
      "\n",
      "The behavior of array concatenation with empty entries is deprecated. In a future version, this will no longer exclude empty items when determining the result dtype. To retain the old behavior, exclude the empty entries before the concat operation.\n",
      "\n",
      "c:\\Users\\cochr\\OneDrive\\Libertas Data\\Projects\\Example Projects\\Toy Car Sales Project\\tcs_streamlit\\TCS_functions.py:152: FutureWarning:\n",
      "\n",
      "The behavior of array concatenation with empty entries is deprecated. In a future version, this will no longer exclude empty items when determining the result dtype. To retain the old behavior, exclude the empty entries before the concat operation.\n",
      "\n",
      "c:\\Users\\cochr\\OneDrive\\Libertas Data\\Projects\\Example Projects\\Toy Car Sales Project\\tcs_streamlit\\TCS_functions.py:162: FutureWarning:\n",
      "\n",
      "The behavior of array concatenation with empty entries is deprecated. In a future version, this will no longer exclude empty items when determining the result dtype. To retain the old behavior, exclude the empty entries before the concat operation.\n",
      "\n",
      "c:\\Users\\cochr\\OneDrive\\Libertas Data\\Projects\\Example Projects\\Toy Car Sales Project\\tcs_streamlit\\TCS_functions.py:152: FutureWarning:\n",
      "\n",
      "The behavior of array concatenation with empty entries is deprecated. In a future version, this will no longer exclude empty items when determining the result dtype. To retain the old behavior, exclude the empty entries before the concat operation.\n",
      "\n",
      "c:\\Users\\cochr\\OneDrive\\Libertas Data\\Projects\\Example Projects\\Toy Car Sales Project\\tcs_streamlit\\TCS_functions.py:162: FutureWarning:\n",
      "\n",
      "The behavior of array concatenation with empty entries is deprecated. In a future version, this will no longer exclude empty items when determining the result dtype. To retain the old behavior, exclude the empty entries before the concat operation.\n",
      "\n",
      "c:\\Users\\cochr\\OneDrive\\Libertas Data\\Projects\\Example Projects\\Toy Car Sales Project\\tcs_streamlit\\TCS_functions.py:152: FutureWarning:\n",
      "\n",
      "The behavior of array concatenation with empty entries is deprecated. In a future version, this will no longer exclude empty items when determining the result dtype. To retain the old behavior, exclude the empty entries before the concat operation.\n",
      "\n",
      "c:\\Users\\cochr\\OneDrive\\Libertas Data\\Projects\\Example Projects\\Toy Car Sales Project\\tcs_streamlit\\TCS_functions.py:162: FutureWarning:\n",
      "\n",
      "The behavior of array concatenation with empty entries is deprecated. In a future version, this will no longer exclude empty items when determining the result dtype. To retain the old behavior, exclude the empty entries before the concat operation.\n",
      "\n",
      "c:\\Users\\cochr\\OneDrive\\Libertas Data\\Projects\\Example Projects\\Toy Car Sales Project\\tcs_streamlit\\TCS_functions.py:152: FutureWarning:\n",
      "\n",
      "The behavior of array concatenation with empty entries is deprecated. In a future version, this will no longer exclude empty items when determining the result dtype. To retain the old behavior, exclude the empty entries before the concat operation.\n",
      "\n",
      "c:\\Users\\cochr\\OneDrive\\Libertas Data\\Projects\\Example Projects\\Toy Car Sales Project\\tcs_streamlit\\TCS_functions.py:162: FutureWarning:\n",
      "\n",
      "The behavior of array concatenation with empty entries is deprecated. In a future version, this will no longer exclude empty items when determining the result dtype. To retain the old behavior, exclude the empty entries before the concat operation.\n",
      "\n"
     ]
    }
   ],
   "source": [
    "# For our dataset:\n",
    "\n",
    "index = tcs.df_indice_list()\n",
    "data = tcs.generate_all_data()\n",
    "countries = tcs.country_list()\n",
    "sales = []\n",
    "\n",
    "for country in countries:\n",
    "        sales.append(data[f'{country}'][index['country_monthly_total_sales']][f'{country} Total Sales by Month']['Sales ($)'].sum())\n"
   ]
  },
  {
   "cell_type": "code",
   "execution_count": 4,
   "metadata": {},
   "outputs": [
    {
     "data": {
      "text/html": [
       "<div>\n",
       "<style scoped>\n",
       "    .dataframe tbody tr th:only-of-type {\n",
       "        vertical-align: middle;\n",
       "    }\n",
       "\n",
       "    .dataframe tbody tr th {\n",
       "        vertical-align: top;\n",
       "    }\n",
       "\n",
       "    .dataframe thead th {\n",
       "        text-align: right;\n",
       "    }\n",
       "</style>\n",
       "<table border=\"1\" class=\"dataframe\">\n",
       "  <thead>\n",
       "    <tr style=\"text-align: right;\">\n",
       "      <th></th>\n",
       "      <th>Country</th>\n",
       "      <th>Sales ($)</th>\n",
       "    </tr>\n",
       "  </thead>\n",
       "  <tbody>\n",
       "    <tr>\n",
       "      <th>0</th>\n",
       "      <td>USA</td>\n",
       "      <td>3627982.83</td>\n",
       "    </tr>\n",
       "    <tr>\n",
       "      <th>1</th>\n",
       "      <td>Germany</td>\n",
       "      <td>220472.09</td>\n",
       "    </tr>\n",
       "    <tr>\n",
       "      <th>2</th>\n",
       "      <td>Norway</td>\n",
       "      <td>307463.70</td>\n",
       "    </tr>\n",
       "    <tr>\n",
       "      <th>3</th>\n",
       "      <td>Spain</td>\n",
       "      <td>1215686.92</td>\n",
       "    </tr>\n",
       "    <tr>\n",
       "      <th>4</th>\n",
       "      <td>Denmark</td>\n",
       "      <td>245637.15</td>\n",
       "    </tr>\n",
       "    <tr>\n",
       "      <th>5</th>\n",
       "      <td>Italy</td>\n",
       "      <td>374674.31</td>\n",
       "    </tr>\n",
       "    <tr>\n",
       "      <th>6</th>\n",
       "      <td>Philippines</td>\n",
       "      <td>94015.73</td>\n",
       "    </tr>\n",
       "    <tr>\n",
       "      <th>7</th>\n",
       "      <td>UK</td>\n",
       "      <td>478880.46</td>\n",
       "    </tr>\n",
       "    <tr>\n",
       "      <th>8</th>\n",
       "      <td>Sweden</td>\n",
       "      <td>210014.21</td>\n",
       "    </tr>\n",
       "    <tr>\n",
       "      <th>9</th>\n",
       "      <td>France</td>\n",
       "      <td>1110916.52</td>\n",
       "    </tr>\n",
       "    <tr>\n",
       "      <th>10</th>\n",
       "      <td>Belgium</td>\n",
       "      <td>108412.62</td>\n",
       "    </tr>\n",
       "    <tr>\n",
       "      <th>11</th>\n",
       "      <td>Singapore</td>\n",
       "      <td>288488.41</td>\n",
       "    </tr>\n",
       "    <tr>\n",
       "      <th>12</th>\n",
       "      <td>Austria</td>\n",
       "      <td>202062.53</td>\n",
       "    </tr>\n",
       "    <tr>\n",
       "      <th>13</th>\n",
       "      <td>Australia</td>\n",
       "      <td>630623.10</td>\n",
       "    </tr>\n",
       "    <tr>\n",
       "      <th>14</th>\n",
       "      <td>Finland</td>\n",
       "      <td>329581.91</td>\n",
       "    </tr>\n",
       "    <tr>\n",
       "      <th>15</th>\n",
       "      <td>Canada</td>\n",
       "      <td>224078.56</td>\n",
       "    </tr>\n",
       "    <tr>\n",
       "      <th>16</th>\n",
       "      <td>Japan</td>\n",
       "      <td>188167.81</td>\n",
       "    </tr>\n",
       "    <tr>\n",
       "      <th>17</th>\n",
       "      <td>Ireland</td>\n",
       "      <td>57756.43</td>\n",
       "    </tr>\n",
       "    <tr>\n",
       "      <th>18</th>\n",
       "      <td>Switzerland</td>\n",
       "      <td>117713.56</td>\n",
       "    </tr>\n",
       "  </tbody>\n",
       "</table>\n",
       "</div>"
      ],
      "text/plain": [
       "        Country   Sales ($)\n",
       "0           USA  3627982.83\n",
       "1       Germany   220472.09\n",
       "2        Norway   307463.70\n",
       "3         Spain  1215686.92\n",
       "4       Denmark   245637.15\n",
       "5         Italy   374674.31\n",
       "6   Philippines    94015.73\n",
       "7            UK   478880.46\n",
       "8        Sweden   210014.21\n",
       "9        France  1110916.52\n",
       "10      Belgium   108412.62\n",
       "11    Singapore   288488.41\n",
       "12      Austria   202062.53\n",
       "13    Australia   630623.10\n",
       "14      Finland   329581.91\n",
       "15       Canada   224078.56\n",
       "16        Japan   188167.81\n",
       "17      Ireland    57756.43\n",
       "18  Switzerland   117713.56"
      ]
     },
     "execution_count": 4,
     "metadata": {},
     "output_type": "execute_result"
    }
   ],
   "source": [
    "data_dict = {'Country':countries,'Sales ($)':sales}\n",
    "data_df = pd.DataFrame(data_dict)\n",
    "data_df"
   ]
  },
  {
   "cell_type": "code",
   "execution_count": 5,
   "metadata": {},
   "outputs": [
    {
     "data": {
      "application/vnd.plotly.v1+json": {
       "config": {
        "plotlyServerURL": "https://plot.ly"
       },
       "data": [
        {
         "coloraxis": "coloraxis",
         "geo": "geo",
         "hovertemplate": "<b>%{hovertext}</b><br><br>Country=%{location}<br>Sales ($)=%{z}<extra></extra>",
         "hovertext": [
          "USA",
          "Germany",
          "Norway",
          "Spain",
          "Denmark",
          "Italy",
          "Philippines",
          "UK",
          "Sweden",
          "France",
          "Belgium",
          "Singapore",
          "Austria",
          "Australia",
          "Finland",
          "Canada",
          "Japan",
          "Ireland",
          "Switzerland"
         ],
         "locationmode": "country names",
         "locations": [
          "USA",
          "Germany",
          "Norway",
          "Spain",
          "Denmark",
          "Italy",
          "Philippines",
          "UK",
          "Sweden",
          "France",
          "Belgium",
          "Singapore",
          "Austria",
          "Australia",
          "Finland",
          "Canada",
          "Japan",
          "Ireland",
          "Switzerland"
         ],
         "name": "",
         "type": "choropleth",
         "z": [
          3627982.8299999996,
          220472.09,
          307463.69999999995,
          1215686.92,
          245637.14999999997,
          374674.31,
          94015.73000000001,
          478880.46,
          210014.21000000002,
          1110916.52,
          108412.61999999998,
          288488.41000000003,
          202062.53000000003,
          630623.1,
          329581.91,
          224078.56,
          188167.81,
          57756.43,
          117713.56000000001
         ]
        }
       ],
       "layout": {
        "coloraxis": {
         "colorbar": {
          "title": {
           "text": "Sales ($)"
          }
         },
         "colorscale": [
          [
           0,
           "#0d0887"
          ],
          [
           0.1111111111111111,
           "#46039f"
          ],
          [
           0.2222222222222222,
           "#7201a8"
          ],
          [
           0.3333333333333333,
           "#9c179e"
          ],
          [
           0.4444444444444444,
           "#bd3786"
          ],
          [
           0.5555555555555556,
           "#d8576b"
          ],
          [
           0.6666666666666666,
           "#ed7953"
          ],
          [
           0.7777777777777778,
           "#fb9f3a"
          ],
          [
           0.8888888888888888,
           "#fdca26"
          ],
          [
           1,
           "#f0f921"
          ]
         ]
        },
        "geo": {
         "center": {},
         "domain": {
          "x": [
           0,
           1
          ],
          "y": [
           0,
           1
          ]
         }
        },
        "legend": {
         "tracegroupgap": 0
        },
        "margin": {
         "t": 60
        },
        "template": {
         "data": {
          "bar": [
           {
            "error_x": {
             "color": "#2a3f5f"
            },
            "error_y": {
             "color": "#2a3f5f"
            },
            "marker": {
             "line": {
              "color": "#E5ECF6",
              "width": 0.5
             },
             "pattern": {
              "fillmode": "overlay",
              "size": 10,
              "solidity": 0.2
             }
            },
            "type": "bar"
           }
          ],
          "barpolar": [
           {
            "marker": {
             "line": {
              "color": "#E5ECF6",
              "width": 0.5
             },
             "pattern": {
              "fillmode": "overlay",
              "size": 10,
              "solidity": 0.2
             }
            },
            "type": "barpolar"
           }
          ],
          "carpet": [
           {
            "aaxis": {
             "endlinecolor": "#2a3f5f",
             "gridcolor": "white",
             "linecolor": "white",
             "minorgridcolor": "white",
             "startlinecolor": "#2a3f5f"
            },
            "baxis": {
             "endlinecolor": "#2a3f5f",
             "gridcolor": "white",
             "linecolor": "white",
             "minorgridcolor": "white",
             "startlinecolor": "#2a3f5f"
            },
            "type": "carpet"
           }
          ],
          "choropleth": [
           {
            "colorbar": {
             "outlinewidth": 0,
             "ticks": ""
            },
            "type": "choropleth"
           }
          ],
          "contour": [
           {
            "colorbar": {
             "outlinewidth": 0,
             "ticks": ""
            },
            "colorscale": [
             [
              0,
              "#0d0887"
             ],
             [
              0.1111111111111111,
              "#46039f"
             ],
             [
              0.2222222222222222,
              "#7201a8"
             ],
             [
              0.3333333333333333,
              "#9c179e"
             ],
             [
              0.4444444444444444,
              "#bd3786"
             ],
             [
              0.5555555555555556,
              "#d8576b"
             ],
             [
              0.6666666666666666,
              "#ed7953"
             ],
             [
              0.7777777777777778,
              "#fb9f3a"
             ],
             [
              0.8888888888888888,
              "#fdca26"
             ],
             [
              1,
              "#f0f921"
             ]
            ],
            "type": "contour"
           }
          ],
          "contourcarpet": [
           {
            "colorbar": {
             "outlinewidth": 0,
             "ticks": ""
            },
            "type": "contourcarpet"
           }
          ],
          "heatmap": [
           {
            "colorbar": {
             "outlinewidth": 0,
             "ticks": ""
            },
            "colorscale": [
             [
              0,
              "#0d0887"
             ],
             [
              0.1111111111111111,
              "#46039f"
             ],
             [
              0.2222222222222222,
              "#7201a8"
             ],
             [
              0.3333333333333333,
              "#9c179e"
             ],
             [
              0.4444444444444444,
              "#bd3786"
             ],
             [
              0.5555555555555556,
              "#d8576b"
             ],
             [
              0.6666666666666666,
              "#ed7953"
             ],
             [
              0.7777777777777778,
              "#fb9f3a"
             ],
             [
              0.8888888888888888,
              "#fdca26"
             ],
             [
              1,
              "#f0f921"
             ]
            ],
            "type": "heatmap"
           }
          ],
          "heatmapgl": [
           {
            "colorbar": {
             "outlinewidth": 0,
             "ticks": ""
            },
            "colorscale": [
             [
              0,
              "#0d0887"
             ],
             [
              0.1111111111111111,
              "#46039f"
             ],
             [
              0.2222222222222222,
              "#7201a8"
             ],
             [
              0.3333333333333333,
              "#9c179e"
             ],
             [
              0.4444444444444444,
              "#bd3786"
             ],
             [
              0.5555555555555556,
              "#d8576b"
             ],
             [
              0.6666666666666666,
              "#ed7953"
             ],
             [
              0.7777777777777778,
              "#fb9f3a"
             ],
             [
              0.8888888888888888,
              "#fdca26"
             ],
             [
              1,
              "#f0f921"
             ]
            ],
            "type": "heatmapgl"
           }
          ],
          "histogram": [
           {
            "marker": {
             "pattern": {
              "fillmode": "overlay",
              "size": 10,
              "solidity": 0.2
             }
            },
            "type": "histogram"
           }
          ],
          "histogram2d": [
           {
            "colorbar": {
             "outlinewidth": 0,
             "ticks": ""
            },
            "colorscale": [
             [
              0,
              "#0d0887"
             ],
             [
              0.1111111111111111,
              "#46039f"
             ],
             [
              0.2222222222222222,
              "#7201a8"
             ],
             [
              0.3333333333333333,
              "#9c179e"
             ],
             [
              0.4444444444444444,
              "#bd3786"
             ],
             [
              0.5555555555555556,
              "#d8576b"
             ],
             [
              0.6666666666666666,
              "#ed7953"
             ],
             [
              0.7777777777777778,
              "#fb9f3a"
             ],
             [
              0.8888888888888888,
              "#fdca26"
             ],
             [
              1,
              "#f0f921"
             ]
            ],
            "type": "histogram2d"
           }
          ],
          "histogram2dcontour": [
           {
            "colorbar": {
             "outlinewidth": 0,
             "ticks": ""
            },
            "colorscale": [
             [
              0,
              "#0d0887"
             ],
             [
              0.1111111111111111,
              "#46039f"
             ],
             [
              0.2222222222222222,
              "#7201a8"
             ],
             [
              0.3333333333333333,
              "#9c179e"
             ],
             [
              0.4444444444444444,
              "#bd3786"
             ],
             [
              0.5555555555555556,
              "#d8576b"
             ],
             [
              0.6666666666666666,
              "#ed7953"
             ],
             [
              0.7777777777777778,
              "#fb9f3a"
             ],
             [
              0.8888888888888888,
              "#fdca26"
             ],
             [
              1,
              "#f0f921"
             ]
            ],
            "type": "histogram2dcontour"
           }
          ],
          "mesh3d": [
           {
            "colorbar": {
             "outlinewidth": 0,
             "ticks": ""
            },
            "type": "mesh3d"
           }
          ],
          "parcoords": [
           {
            "line": {
             "colorbar": {
              "outlinewidth": 0,
              "ticks": ""
             }
            },
            "type": "parcoords"
           }
          ],
          "pie": [
           {
            "automargin": true,
            "type": "pie"
           }
          ],
          "scatter": [
           {
            "fillpattern": {
             "fillmode": "overlay",
             "size": 10,
             "solidity": 0.2
            },
            "type": "scatter"
           }
          ],
          "scatter3d": [
           {
            "line": {
             "colorbar": {
              "outlinewidth": 0,
              "ticks": ""
             }
            },
            "marker": {
             "colorbar": {
              "outlinewidth": 0,
              "ticks": ""
             }
            },
            "type": "scatter3d"
           }
          ],
          "scattercarpet": [
           {
            "marker": {
             "colorbar": {
              "outlinewidth": 0,
              "ticks": ""
             }
            },
            "type": "scattercarpet"
           }
          ],
          "scattergeo": [
           {
            "marker": {
             "colorbar": {
              "outlinewidth": 0,
              "ticks": ""
             }
            },
            "type": "scattergeo"
           }
          ],
          "scattergl": [
           {
            "marker": {
             "colorbar": {
              "outlinewidth": 0,
              "ticks": ""
             }
            },
            "type": "scattergl"
           }
          ],
          "scattermapbox": [
           {
            "marker": {
             "colorbar": {
              "outlinewidth": 0,
              "ticks": ""
             }
            },
            "type": "scattermapbox"
           }
          ],
          "scatterpolar": [
           {
            "marker": {
             "colorbar": {
              "outlinewidth": 0,
              "ticks": ""
             }
            },
            "type": "scatterpolar"
           }
          ],
          "scatterpolargl": [
           {
            "marker": {
             "colorbar": {
              "outlinewidth": 0,
              "ticks": ""
             }
            },
            "type": "scatterpolargl"
           }
          ],
          "scatterternary": [
           {
            "marker": {
             "colorbar": {
              "outlinewidth": 0,
              "ticks": ""
             }
            },
            "type": "scatterternary"
           }
          ],
          "surface": [
           {
            "colorbar": {
             "outlinewidth": 0,
             "ticks": ""
            },
            "colorscale": [
             [
              0,
              "#0d0887"
             ],
             [
              0.1111111111111111,
              "#46039f"
             ],
             [
              0.2222222222222222,
              "#7201a8"
             ],
             [
              0.3333333333333333,
              "#9c179e"
             ],
             [
              0.4444444444444444,
              "#bd3786"
             ],
             [
              0.5555555555555556,
              "#d8576b"
             ],
             [
              0.6666666666666666,
              "#ed7953"
             ],
             [
              0.7777777777777778,
              "#fb9f3a"
             ],
             [
              0.8888888888888888,
              "#fdca26"
             ],
             [
              1,
              "#f0f921"
             ]
            ],
            "type": "surface"
           }
          ],
          "table": [
           {
            "cells": {
             "fill": {
              "color": "#EBF0F8"
             },
             "line": {
              "color": "white"
             }
            },
            "header": {
             "fill": {
              "color": "#C8D4E3"
             },
             "line": {
              "color": "white"
             }
            },
            "type": "table"
           }
          ]
         },
         "layout": {
          "annotationdefaults": {
           "arrowcolor": "#2a3f5f",
           "arrowhead": 0,
           "arrowwidth": 1
          },
          "autotypenumbers": "strict",
          "coloraxis": {
           "colorbar": {
            "outlinewidth": 0,
            "ticks": ""
           }
          },
          "colorscale": {
           "diverging": [
            [
             0,
             "#8e0152"
            ],
            [
             0.1,
             "#c51b7d"
            ],
            [
             0.2,
             "#de77ae"
            ],
            [
             0.3,
             "#f1b6da"
            ],
            [
             0.4,
             "#fde0ef"
            ],
            [
             0.5,
             "#f7f7f7"
            ],
            [
             0.6,
             "#e6f5d0"
            ],
            [
             0.7,
             "#b8e186"
            ],
            [
             0.8,
             "#7fbc41"
            ],
            [
             0.9,
             "#4d9221"
            ],
            [
             1,
             "#276419"
            ]
           ],
           "sequential": [
            [
             0,
             "#0d0887"
            ],
            [
             0.1111111111111111,
             "#46039f"
            ],
            [
             0.2222222222222222,
             "#7201a8"
            ],
            [
             0.3333333333333333,
             "#9c179e"
            ],
            [
             0.4444444444444444,
             "#bd3786"
            ],
            [
             0.5555555555555556,
             "#d8576b"
            ],
            [
             0.6666666666666666,
             "#ed7953"
            ],
            [
             0.7777777777777778,
             "#fb9f3a"
            ],
            [
             0.8888888888888888,
             "#fdca26"
            ],
            [
             1,
             "#f0f921"
            ]
           ],
           "sequentialminus": [
            [
             0,
             "#0d0887"
            ],
            [
             0.1111111111111111,
             "#46039f"
            ],
            [
             0.2222222222222222,
             "#7201a8"
            ],
            [
             0.3333333333333333,
             "#9c179e"
            ],
            [
             0.4444444444444444,
             "#bd3786"
            ],
            [
             0.5555555555555556,
             "#d8576b"
            ],
            [
             0.6666666666666666,
             "#ed7953"
            ],
            [
             0.7777777777777778,
             "#fb9f3a"
            ],
            [
             0.8888888888888888,
             "#fdca26"
            ],
            [
             1,
             "#f0f921"
            ]
           ]
          },
          "colorway": [
           "#636efa",
           "#EF553B",
           "#00cc96",
           "#ab63fa",
           "#FFA15A",
           "#19d3f3",
           "#FF6692",
           "#B6E880",
           "#FF97FF",
           "#FECB52"
          ],
          "font": {
           "color": "#2a3f5f"
          },
          "geo": {
           "bgcolor": "white",
           "lakecolor": "white",
           "landcolor": "#E5ECF6",
           "showlakes": true,
           "showland": true,
           "subunitcolor": "white"
          },
          "hoverlabel": {
           "align": "left"
          },
          "hovermode": "closest",
          "mapbox": {
           "style": "light"
          },
          "paper_bgcolor": "white",
          "plot_bgcolor": "#E5ECF6",
          "polar": {
           "angularaxis": {
            "gridcolor": "white",
            "linecolor": "white",
            "ticks": ""
           },
           "bgcolor": "#E5ECF6",
           "radialaxis": {
            "gridcolor": "white",
            "linecolor": "white",
            "ticks": ""
           }
          },
          "scene": {
           "xaxis": {
            "backgroundcolor": "#E5ECF6",
            "gridcolor": "white",
            "gridwidth": 2,
            "linecolor": "white",
            "showbackground": true,
            "ticks": "",
            "zerolinecolor": "white"
           },
           "yaxis": {
            "backgroundcolor": "#E5ECF6",
            "gridcolor": "white",
            "gridwidth": 2,
            "linecolor": "white",
            "showbackground": true,
            "ticks": "",
            "zerolinecolor": "white"
           },
           "zaxis": {
            "backgroundcolor": "#E5ECF6",
            "gridcolor": "white",
            "gridwidth": 2,
            "linecolor": "white",
            "showbackground": true,
            "ticks": "",
            "zerolinecolor": "white"
           }
          },
          "shapedefaults": {
           "line": {
            "color": "#2a3f5f"
           }
          },
          "ternary": {
           "aaxis": {
            "gridcolor": "white",
            "linecolor": "white",
            "ticks": ""
           },
           "baxis": {
            "gridcolor": "white",
            "linecolor": "white",
            "ticks": ""
           },
           "bgcolor": "#E5ECF6",
           "caxis": {
            "gridcolor": "white",
            "linecolor": "white",
            "ticks": ""
           }
          },
          "title": {
           "x": 0.05
          },
          "xaxis": {
           "automargin": true,
           "gridcolor": "white",
           "linecolor": "white",
           "ticks": "",
           "title": {
            "standoff": 15
           },
           "zerolinecolor": "white",
           "zerolinewidth": 2
          },
          "yaxis": {
           "automargin": true,
           "gridcolor": "white",
           "linecolor": "white",
           "ticks": "",
           "title": {
            "standoff": 15
           },
           "zerolinecolor": "white",
           "zerolinewidth": 2
          }
         }
        },
        "title": {
         "text": "Sales Data by Country"
        }
       }
      }
     },
     "metadata": {},
     "output_type": "display_data"
    }
   ],
   "source": [
    "fig = px.choropleth(data_dict, locations=\"Country\",\n",
    "                    locationmode='country names',\n",
    "                    color=\"Sales ($)\",\n",
    "                    hover_name=\"Country\",\n",
    "                    color_continuous_scale=px.colors.sequential.Plasma)\n",
    "\n",
    "fig.update_layout(title='Sales Data by Country')\n",
    "fig.show()\n"
   ]
  },
  {
   "cell_type": "code",
   "execution_count": 6,
   "metadata": {},
   "outputs": [
    {
     "name": "stderr",
     "output_type": "stream",
     "text": [
      "c:\\Users\\cochr\\OneDrive\\Libertas Data\\Projects\\Example Projects\\Toy Car Sales Project\\tcs_streamlit\\TCS_functions.py:152: FutureWarning:\n",
      "\n",
      "The behavior of array concatenation with empty entries is deprecated. In a future version, this will no longer exclude empty items when determining the result dtype. To retain the old behavior, exclude the empty entries before the concat operation.\n",
      "\n",
      "c:\\Users\\cochr\\OneDrive\\Libertas Data\\Projects\\Example Projects\\Toy Car Sales Project\\tcs_streamlit\\TCS_functions.py:162: FutureWarning:\n",
      "\n",
      "The behavior of array concatenation with empty entries is deprecated. In a future version, this will no longer exclude empty items when determining the result dtype. To retain the old behavior, exclude the empty entries before the concat operation.\n",
      "\n",
      "c:\\Users\\cochr\\OneDrive\\Libertas Data\\Projects\\Example Projects\\Toy Car Sales Project\\tcs_streamlit\\TCS_functions.py:152: FutureWarning:\n",
      "\n",
      "The behavior of array concatenation with empty entries is deprecated. In a future version, this will no longer exclude empty items when determining the result dtype. To retain the old behavior, exclude the empty entries before the concat operation.\n",
      "\n",
      "c:\\Users\\cochr\\OneDrive\\Libertas Data\\Projects\\Example Projects\\Toy Car Sales Project\\tcs_streamlit\\TCS_functions.py:162: FutureWarning:\n",
      "\n",
      "The behavior of array concatenation with empty entries is deprecated. In a future version, this will no longer exclude empty items when determining the result dtype. To retain the old behavior, exclude the empty entries before the concat operation.\n",
      "\n",
      "c:\\Users\\cochr\\OneDrive\\Libertas Data\\Projects\\Example Projects\\Toy Car Sales Project\\tcs_streamlit\\TCS_functions.py:152: FutureWarning:\n",
      "\n",
      "The behavior of array concatenation with empty entries is deprecated. In a future version, this will no longer exclude empty items when determining the result dtype. To retain the old behavior, exclude the empty entries before the concat operation.\n",
      "\n",
      "c:\\Users\\cochr\\OneDrive\\Libertas Data\\Projects\\Example Projects\\Toy Car Sales Project\\tcs_streamlit\\TCS_functions.py:162: FutureWarning:\n",
      "\n",
      "The behavior of array concatenation with empty entries is deprecated. In a future version, this will no longer exclude empty items when determining the result dtype. To retain the old behavior, exclude the empty entries before the concat operation.\n",
      "\n",
      "c:\\Users\\cochr\\OneDrive\\Libertas Data\\Projects\\Example Projects\\Toy Car Sales Project\\tcs_streamlit\\TCS_functions.py:152: FutureWarning:\n",
      "\n",
      "The behavior of array concatenation with empty entries is deprecated. In a future version, this will no longer exclude empty items when determining the result dtype. To retain the old behavior, exclude the empty entries before the concat operation.\n",
      "\n",
      "c:\\Users\\cochr\\OneDrive\\Libertas Data\\Projects\\Example Projects\\Toy Car Sales Project\\tcs_streamlit\\TCS_functions.py:162: FutureWarning:\n",
      "\n",
      "The behavior of array concatenation with empty entries is deprecated. In a future version, this will no longer exclude empty items when determining the result dtype. To retain the old behavior, exclude the empty entries before the concat operation.\n",
      "\n",
      "c:\\Users\\cochr\\OneDrive\\Libertas Data\\Projects\\Example Projects\\Toy Car Sales Project\\tcs_streamlit\\TCS_functions.py:152: FutureWarning:\n",
      "\n",
      "The behavior of array concatenation with empty entries is deprecated. In a future version, this will no longer exclude empty items when determining the result dtype. To retain the old behavior, exclude the empty entries before the concat operation.\n",
      "\n",
      "c:\\Users\\cochr\\OneDrive\\Libertas Data\\Projects\\Example Projects\\Toy Car Sales Project\\tcs_streamlit\\TCS_functions.py:162: FutureWarning:\n",
      "\n",
      "The behavior of array concatenation with empty entries is deprecated. In a future version, this will no longer exclude empty items when determining the result dtype. To retain the old behavior, exclude the empty entries before the concat operation.\n",
      "\n",
      "c:\\Users\\cochr\\OneDrive\\Libertas Data\\Projects\\Example Projects\\Toy Car Sales Project\\tcs_streamlit\\TCS_functions.py:152: FutureWarning:\n",
      "\n",
      "The behavior of array concatenation with empty entries is deprecated. In a future version, this will no longer exclude empty items when determining the result dtype. To retain the old behavior, exclude the empty entries before the concat operation.\n",
      "\n",
      "c:\\Users\\cochr\\OneDrive\\Libertas Data\\Projects\\Example Projects\\Toy Car Sales Project\\tcs_streamlit\\TCS_functions.py:162: FutureWarning:\n",
      "\n",
      "The behavior of array concatenation with empty entries is deprecated. In a future version, this will no longer exclude empty items when determining the result dtype. To retain the old behavior, exclude the empty entries before the concat operation.\n",
      "\n",
      "c:\\Users\\cochr\\OneDrive\\Libertas Data\\Projects\\Example Projects\\Toy Car Sales Project\\tcs_streamlit\\TCS_functions.py:152: FutureWarning:\n",
      "\n",
      "The behavior of array concatenation with empty entries is deprecated. In a future version, this will no longer exclude empty items when determining the result dtype. To retain the old behavior, exclude the empty entries before the concat operation.\n",
      "\n",
      "c:\\Users\\cochr\\OneDrive\\Libertas Data\\Projects\\Example Projects\\Toy Car Sales Project\\tcs_streamlit\\TCS_functions.py:162: FutureWarning:\n",
      "\n",
      "The behavior of array concatenation with empty entries is deprecated. In a future version, this will no longer exclude empty items when determining the result dtype. To retain the old behavior, exclude the empty entries before the concat operation.\n",
      "\n",
      "c:\\Users\\cochr\\OneDrive\\Libertas Data\\Projects\\Example Projects\\Toy Car Sales Project\\tcs_streamlit\\TCS_functions.py:152: FutureWarning:\n",
      "\n",
      "The behavior of array concatenation with empty entries is deprecated. In a future version, this will no longer exclude empty items when determining the result dtype. To retain the old behavior, exclude the empty entries before the concat operation.\n",
      "\n",
      "c:\\Users\\cochr\\OneDrive\\Libertas Data\\Projects\\Example Projects\\Toy Car Sales Project\\tcs_streamlit\\TCS_functions.py:162: FutureWarning:\n",
      "\n",
      "The behavior of array concatenation with empty entries is deprecated. In a future version, this will no longer exclude empty items when determining the result dtype. To retain the old behavior, exclude the empty entries before the concat operation.\n",
      "\n",
      "c:\\Users\\cochr\\OneDrive\\Libertas Data\\Projects\\Example Projects\\Toy Car Sales Project\\tcs_streamlit\\TCS_functions.py:152: FutureWarning:\n",
      "\n",
      "The behavior of array concatenation with empty entries is deprecated. In a future version, this will no longer exclude empty items when determining the result dtype. To retain the old behavior, exclude the empty entries before the concat operation.\n",
      "\n",
      "c:\\Users\\cochr\\OneDrive\\Libertas Data\\Projects\\Example Projects\\Toy Car Sales Project\\tcs_streamlit\\TCS_functions.py:162: FutureWarning:\n",
      "\n",
      "The behavior of array concatenation with empty entries is deprecated. In a future version, this will no longer exclude empty items when determining the result dtype. To retain the old behavior, exclude the empty entries before the concat operation.\n",
      "\n",
      "c:\\Users\\cochr\\OneDrive\\Libertas Data\\Projects\\Example Projects\\Toy Car Sales Project\\tcs_streamlit\\TCS_functions.py:152: FutureWarning:\n",
      "\n",
      "The behavior of array concatenation with empty entries is deprecated. In a future version, this will no longer exclude empty items when determining the result dtype. To retain the old behavior, exclude the empty entries before the concat operation.\n",
      "\n",
      "c:\\Users\\cochr\\OneDrive\\Libertas Data\\Projects\\Example Projects\\Toy Car Sales Project\\tcs_streamlit\\TCS_functions.py:162: FutureWarning:\n",
      "\n",
      "The behavior of array concatenation with empty entries is deprecated. In a future version, this will no longer exclude empty items when determining the result dtype. To retain the old behavior, exclude the empty entries before the concat operation.\n",
      "\n",
      "c:\\Users\\cochr\\OneDrive\\Libertas Data\\Projects\\Example Projects\\Toy Car Sales Project\\tcs_streamlit\\TCS_functions.py:152: FutureWarning:\n",
      "\n",
      "The behavior of array concatenation with empty entries is deprecated. In a future version, this will no longer exclude empty items when determining the result dtype. To retain the old behavior, exclude the empty entries before the concat operation.\n",
      "\n",
      "c:\\Users\\cochr\\OneDrive\\Libertas Data\\Projects\\Example Projects\\Toy Car Sales Project\\tcs_streamlit\\TCS_functions.py:162: FutureWarning:\n",
      "\n",
      "The behavior of array concatenation with empty entries is deprecated. In a future version, this will no longer exclude empty items when determining the result dtype. To retain the old behavior, exclude the empty entries before the concat operation.\n",
      "\n",
      "c:\\Users\\cochr\\OneDrive\\Libertas Data\\Projects\\Example Projects\\Toy Car Sales Project\\tcs_streamlit\\TCS_functions.py:152: FutureWarning:\n",
      "\n",
      "The behavior of array concatenation with empty entries is deprecated. In a future version, this will no longer exclude empty items when determining the result dtype. To retain the old behavior, exclude the empty entries before the concat operation.\n",
      "\n",
      "c:\\Users\\cochr\\OneDrive\\Libertas Data\\Projects\\Example Projects\\Toy Car Sales Project\\tcs_streamlit\\TCS_functions.py:162: FutureWarning:\n",
      "\n",
      "The behavior of array concatenation with empty entries is deprecated. In a future version, this will no longer exclude empty items when determining the result dtype. To retain the old behavior, exclude the empty entries before the concat operation.\n",
      "\n",
      "c:\\Users\\cochr\\OneDrive\\Libertas Data\\Projects\\Example Projects\\Toy Car Sales Project\\tcs_streamlit\\TCS_functions.py:152: FutureWarning:\n",
      "\n",
      "The behavior of array concatenation with empty entries is deprecated. In a future version, this will no longer exclude empty items when determining the result dtype. To retain the old behavior, exclude the empty entries before the concat operation.\n",
      "\n",
      "c:\\Users\\cochr\\OneDrive\\Libertas Data\\Projects\\Example Projects\\Toy Car Sales Project\\tcs_streamlit\\TCS_functions.py:162: FutureWarning:\n",
      "\n",
      "The behavior of array concatenation with empty entries is deprecated. In a future version, this will no longer exclude empty items when determining the result dtype. To retain the old behavior, exclude the empty entries before the concat operation.\n",
      "\n",
      "c:\\Users\\cochr\\OneDrive\\Libertas Data\\Projects\\Example Projects\\Toy Car Sales Project\\tcs_streamlit\\TCS_functions.py:152: FutureWarning:\n",
      "\n",
      "The behavior of array concatenation with empty entries is deprecated. In a future version, this will no longer exclude empty items when determining the result dtype. To retain the old behavior, exclude the empty entries before the concat operation.\n",
      "\n",
      "c:\\Users\\cochr\\OneDrive\\Libertas Data\\Projects\\Example Projects\\Toy Car Sales Project\\tcs_streamlit\\TCS_functions.py:162: FutureWarning:\n",
      "\n",
      "The behavior of array concatenation with empty entries is deprecated. In a future version, this will no longer exclude empty items when determining the result dtype. To retain the old behavior, exclude the empty entries before the concat operation.\n",
      "\n",
      "c:\\Users\\cochr\\OneDrive\\Libertas Data\\Projects\\Example Projects\\Toy Car Sales Project\\tcs_streamlit\\TCS_functions.py:152: FutureWarning:\n",
      "\n",
      "The behavior of array concatenation with empty entries is deprecated. In a future version, this will no longer exclude empty items when determining the result dtype. To retain the old behavior, exclude the empty entries before the concat operation.\n",
      "\n",
      "c:\\Users\\cochr\\OneDrive\\Libertas Data\\Projects\\Example Projects\\Toy Car Sales Project\\tcs_streamlit\\TCS_functions.py:162: FutureWarning:\n",
      "\n",
      "The behavior of array concatenation with empty entries is deprecated. In a future version, this will no longer exclude empty items when determining the result dtype. To retain the old behavior, exclude the empty entries before the concat operation.\n",
      "\n",
      "c:\\Users\\cochr\\OneDrive\\Libertas Data\\Projects\\Example Projects\\Toy Car Sales Project\\tcs_streamlit\\TCS_functions.py:152: FutureWarning:\n",
      "\n",
      "The behavior of array concatenation with empty entries is deprecated. In a future version, this will no longer exclude empty items when determining the result dtype. To retain the old behavior, exclude the empty entries before the concat operation.\n",
      "\n",
      "c:\\Users\\cochr\\OneDrive\\Libertas Data\\Projects\\Example Projects\\Toy Car Sales Project\\tcs_streamlit\\TCS_functions.py:162: FutureWarning:\n",
      "\n",
      "The behavior of array concatenation with empty entries is deprecated. In a future version, this will no longer exclude empty items when determining the result dtype. To retain the old behavior, exclude the empty entries before the concat operation.\n",
      "\n",
      "c:\\Users\\cochr\\OneDrive\\Libertas Data\\Projects\\Example Projects\\Toy Car Sales Project\\tcs_streamlit\\TCS_functions.py:152: FutureWarning:\n",
      "\n",
      "The behavior of array concatenation with empty entries is deprecated. In a future version, this will no longer exclude empty items when determining the result dtype. To retain the old behavior, exclude the empty entries before the concat operation.\n",
      "\n",
      "c:\\Users\\cochr\\OneDrive\\Libertas Data\\Projects\\Example Projects\\Toy Car Sales Project\\tcs_streamlit\\TCS_functions.py:162: FutureWarning:\n",
      "\n",
      "The behavior of array concatenation with empty entries is deprecated. In a future version, this will no longer exclude empty items when determining the result dtype. To retain the old behavior, exclude the empty entries before the concat operation.\n",
      "\n",
      "c:\\Users\\cochr\\OneDrive\\Libertas Data\\Projects\\Example Projects\\Toy Car Sales Project\\tcs_streamlit\\TCS_functions.py:152: FutureWarning:\n",
      "\n",
      "The behavior of array concatenation with empty entries is deprecated. In a future version, this will no longer exclude empty items when determining the result dtype. To retain the old behavior, exclude the empty entries before the concat operation.\n",
      "\n",
      "c:\\Users\\cochr\\OneDrive\\Libertas Data\\Projects\\Example Projects\\Toy Car Sales Project\\tcs_streamlit\\TCS_functions.py:162: FutureWarning:\n",
      "\n",
      "The behavior of array concatenation with empty entries is deprecated. In a future version, this will no longer exclude empty items when determining the result dtype. To retain the old behavior, exclude the empty entries before the concat operation.\n",
      "\n",
      "c:\\Users\\cochr\\OneDrive\\Libertas Data\\Projects\\Example Projects\\Toy Car Sales Project\\tcs_streamlit\\TCS_functions.py:152: FutureWarning:\n",
      "\n",
      "The behavior of array concatenation with empty entries is deprecated. In a future version, this will no longer exclude empty items when determining the result dtype. To retain the old behavior, exclude the empty entries before the concat operation.\n",
      "\n",
      "c:\\Users\\cochr\\OneDrive\\Libertas Data\\Projects\\Example Projects\\Toy Car Sales Project\\tcs_streamlit\\TCS_functions.py:162: FutureWarning:\n",
      "\n",
      "The behavior of array concatenation with empty entries is deprecated. In a future version, this will no longer exclude empty items when determining the result dtype. To retain the old behavior, exclude the empty entries before the concat operation.\n",
      "\n"
     ]
    },
    {
     "data": {
      "text/plain": [
       "{'USA': [          USA Orders by Month\n",
       "                         Orders\n",
       "  January                    69\n",
       "  February                   66\n",
       "  March                      71\n",
       "  April                      53\n",
       "  May                        85\n",
       "  June                       48\n",
       "  July                       56\n",
       "  August                    112\n",
       "  September                  44\n",
       "  October                   119\n",
       "  November                  205\n",
       "  December                   76,\n",
       "     USA Orders by Quarter\n",
       "                    Orders\n",
       "  Q1                   206\n",
       "  Q2                   186\n",
       "  Q3                   212\n",
       "  Q4                   400,\n",
       "            USA Total Sales by Month\n",
       "                           Sales ($)\n",
       "  January                  232862.07\n",
       "  February                 248421.79\n",
       "  March                    268806.28\n",
       "  April                    207625.70\n",
       "  May                      300412.73\n",
       "  June                     175897.42\n",
       "  July                     207946.16\n",
       "  August                   397979.10\n",
       "  September                144178.91\n",
       "  October                  416077.17\n",
       "  November                 741331.68\n",
       "  December                 286443.82,\n",
       "     USA Total Sales by Quarter\n",
       "                      Sales ($)\n",
       "  Q1                  750090.14\n",
       "  Q2                  683935.85\n",
       "  Q3                  750104.17\n",
       "  Q4                 1443852.67,\n",
       "            USA Average Sale per Order by Month\n",
       "                     Average Sale per Order ($)\n",
       "  January                           3374.812609\n",
       "  February                          3763.966515\n",
       "  March                             3786.003944\n",
       "  April                             3917.466038\n",
       "  May                               3534.267412\n",
       "  June                              3664.529583\n",
       "  July                              3713.324286\n",
       "  August                            3553.384821\n",
       "  September                         3276.793409\n",
       "  October                           3496.446807\n",
       "  November                          3616.252098\n",
       "  December                          3768.997632,\n",
       "     USA Average Sale per Order by Quarter\n",
       "                Average Sale per Order ($)\n",
       "  Q1                           3641.214272\n",
       "  Q2                           3677.074462\n",
       "  Q3                           3538.227217\n",
       "  Q4                           3609.631675,\n",
       "                   USA Orders per Product\n",
       "                                   Orders\n",
       "  Vintage Cars                        224\n",
       "  Motorcycles                         149\n",
       "  Classic Cars                        329\n",
       "  Trucks and Buses                    112\n",
       "  Trains                               25\n",
       "  Ships                                70\n",
       "  Planes                               95],\n",
       " 'Germany': [          Germany Orders by Month\n",
       "                             Orders\n",
       "  January                         4\n",
       "  February                        0\n",
       "  March                           8\n",
       "  April                           0\n",
       "  May                             0\n",
       "  June                            0\n",
       "  July                            0\n",
       "  August                          0\n",
       "  September                      14\n",
       "  October                        25\n",
       "  November                       11\n",
       "  December                        0,\n",
       "     Germany Orders by Quarter\n",
       "                        Orders\n",
       "  Q1                        12\n",
       "  Q2                         0\n",
       "  Q3                        14\n",
       "  Q4                        36,\n",
       "            Germany Total Sales by Month\n",
       "                               Sales ($)\n",
       "  January                       11432.34\n",
       "  February                          0.00\n",
       "  March                         37266.49\n",
       "  April                             0.00\n",
       "  May                               0.00\n",
       "  June                              0.00\n",
       "  July                              0.00\n",
       "  August                            0.00\n",
       "  September                     34993.92\n",
       "  October                       96201.19\n",
       "  November                      40578.15\n",
       "  December                          0.00,\n",
       "     Germany Total Sales by Quarter\n",
       "                          Sales ($)\n",
       "  Q1                       48698.83\n",
       "  Q2                           0.00\n",
       "  Q3                       34993.92\n",
       "  Q4                      136779.34,\n",
       "            Germany Average Sale per Order by Month\n",
       "                         Average Sale per Order ($)\n",
       "  January                               2858.085000\n",
       "  February                                 0.000000\n",
       "  March                                 4658.311250\n",
       "  April                                    0.000000\n",
       "  May                                      0.000000\n",
       "  June                                     0.000000\n",
       "  July                                     0.000000\n",
       "  August                                   0.000000\n",
       "  September                             2499.565714\n",
       "  October                               3848.047600\n",
       "  November                              3688.922727\n",
       "  December                                 0.000000,\n",
       "     Germany Average Sale per Order by Quarter\n",
       "                    Average Sale per Order ($)\n",
       "  Q1                               4058.235833\n",
       "  Q2                                  0.000000\n",
       "  Q3                               2499.565714\n",
       "  Q4                               3799.426111,\n",
       "                   Germany Orders per Product\n",
       "                                       Orders\n",
       "  Vintage Cars                              9\n",
       "  Classic Cars                             36\n",
       "  Motorcycles                               3\n",
       "  Trains                                    2\n",
       "  Trucks and Buses                          2\n",
       "  Planes                                    8\n",
       "  Ships                                     2],\n",
       " 'Norway': [          Norway Orders by Month\n",
       "                            Orders\n",
       "  January                       16\n",
       "  February                       0\n",
       "  March                          0\n",
       "  April                          0\n",
       "  May                            0\n",
       "  June                           0\n",
       "  July                           0\n",
       "  August                        13\n",
       "  September                      4\n",
       "  October                       18\n",
       "  November                      34\n",
       "  December                       0,\n",
       "     Norway Orders by Quarter\n",
       "                       Orders\n",
       "  Q1                       16\n",
       "  Q2                        0\n",
       "  Q3                       17\n",
       "  Q4                       52,\n",
       "            Norway Total Sales by Month\n",
       "                              Sales ($)\n",
       "  January                      54702.00\n",
       "  February                         0.00\n",
       "  March                            0.00\n",
       "  April                            0.00\n",
       "  May                              0.00\n",
       "  June                             0.00\n",
       "  July                             0.00\n",
       "  August                       34145.47\n",
       "  September                    16363.10\n",
       "  October                      66323.10\n",
       "  November                    135930.03\n",
       "  December                         0.00,\n",
       "     Norway Total Sales by Quarter\n",
       "                         Sales ($)\n",
       "  Q1                      54702.00\n",
       "  Q2                          0.00\n",
       "  Q3                      50508.57\n",
       "  Q4                     202253.13,\n",
       "            Norway Average Sale per Order by Month\n",
       "                        Average Sale per Order ($)\n",
       "  January                              3418.875000\n",
       "  February                                0.000000\n",
       "  March                                   0.000000\n",
       "  April                                   0.000000\n",
       "  May                                     0.000000\n",
       "  June                                    0.000000\n",
       "  July                                    0.000000\n",
       "  August                               2626.574615\n",
       "  September                            4090.775000\n",
       "  October                              3684.616667\n",
       "  November                             3997.942059\n",
       "  December                                0.000000,\n",
       "     Norway Average Sale per Order by Quarter\n",
       "                   Average Sale per Order ($)\n",
       "  Q1                              3418.875000\n",
       "  Q2                                 0.000000\n",
       "  Q3                              2971.092353\n",
       "  Q4                              3889.483269,\n",
       "                   Norway Orders per Product\n",
       "                                      Orders\n",
       "  Classic Cars                            35\n",
       "  Trucks and Buses                         9\n",
       "  Vintage Cars                            14\n",
       "  Motorcycles                             14\n",
       "  Planes                                  11\n",
       "  Trains                                   2\n",
       "  Ships                                    0],\n",
       " 'Spain': [          Spain Orders by Month\n",
       "                           Orders\n",
       "  January                      36\n",
       "  February                     41\n",
       "  March                        27\n",
       "  April                        10\n",
       "  May                          51\n",
       "  June                         28\n",
       "  July                          0\n",
       "  August                        6\n",
       "  September                    13\n",
       "  October                      15\n",
       "  November                     58\n",
       "  December                     57,\n",
       "     Spain Orders by Quarter\n",
       "                      Orders\n",
       "  Q1                     104\n",
       "  Q2                      89\n",
       "  Q3                      19\n",
       "  Q4                     130,\n",
       "            Spain Total Sales by Month\n",
       "                             Sales ($)\n",
       "  January                    134782.60\n",
       "  February                   131385.61\n",
       "  March                       91500.28\n",
       "  April                       32546.84\n",
       "  May                        221633.94\n",
       "  June                        89626.47\n",
       "  July                            0.00\n",
       "  August                      21986.27\n",
       "  September                   47727.82\n",
       "  October                     43867.49\n",
       "  November                   205539.91\n",
       "  December                   195089.69,\n",
       "     Spain Total Sales by Quarter\n",
       "                        Sales ($)\n",
       "  Q1                    357668.49\n",
       "  Q2                    343807.25\n",
       "  Q3                     69714.09\n",
       "  Q4                    444497.09,\n",
       "            Spain Average Sale per Order by Month\n",
       "                       Average Sale per Order ($)\n",
       "  January                             3743.961111\n",
       "  February                            3204.527073\n",
       "  March                               3388.899259\n",
       "  April                               3254.684000\n",
       "  May                                 4345.763529\n",
       "  June                                3200.945357\n",
       "  July                                   0.000000\n",
       "  August                              3664.378333\n",
       "  September                           3671.370769\n",
       "  October                             2924.499333\n",
       "  November                            3543.791552\n",
       "  December                            3422.626140,\n",
       "     Spain Average Sale per Order by Quarter\n",
       "                  Average Sale per Order ($)\n",
       "  Q1                             3439.120096\n",
       "  Q2                             3863.002809\n",
       "  Q3                             3669.162632\n",
       "  Q4                             3419.208385,\n",
       "                   Spain Orders per Product\n",
       "                                     Orders\n",
       "  Classic Cars                          120\n",
       "  Trucks and Buses                       46\n",
       "  Trains                                 14\n",
       "  Ships                                  39\n",
       "  Vintage Cars                           74\n",
       "  Planes                                 30\n",
       "  Motorcycles                            19],\n",
       " 'Denmark': [          Denmark Orders by Month\n",
       "                             Orders\n",
       "  January                         0\n",
       "  February                       15\n",
       "  March                           0\n",
       "  April                          11\n",
       "  May                             0\n",
       "  June                            2\n",
       "  July                            0\n",
       "  August                          0\n",
       "  September                       0\n",
       "  October                        27\n",
       "  November                        8\n",
       "  December                        0,\n",
       "     Denmark Orders by Quarter\n",
       "                        Orders\n",
       "  Q1                        15\n",
       "  Q2                        13\n",
       "  Q3                         0\n",
       "  Q4                        35,\n",
       "            Denmark Total Sales by Month\n",
       "                               Sales ($)\n",
       "  January                           0.00\n",
       "  February                      58871.11\n",
       "  March                             0.00\n",
       "  April                         57342.43\n",
       "  May                               0.00\n",
       "  June                           4749.45\n",
       "  July                              0.00\n",
       "  August                            0.00\n",
       "  September                         0.00\n",
       "  October                      100595.55\n",
       "  November                      24078.61\n",
       "  December                          0.00,\n",
       "     Denmark Total Sales by Quarter\n",
       "                          Sales ($)\n",
       "  Q1                       58871.11\n",
       "  Q2                       62091.88\n",
       "  Q3                           0.00\n",
       "  Q4                      124674.16,\n",
       "            Denmark Average Sale per Order by Month\n",
       "                         Average Sale per Order ($)\n",
       "  January                                  0.000000\n",
       "  February                              3924.740667\n",
       "  March                                    0.000000\n",
       "  April                                 5212.948182\n",
       "  May                                      0.000000\n",
       "  June                                  2374.725000\n",
       "  July                                     0.000000\n",
       "  August                                   0.000000\n",
       "  September                                0.000000\n",
       "  October                               3725.761111\n",
       "  November                              3009.826250\n",
       "  December                                 0.000000,\n",
       "     Denmark Average Sale per Order by Quarter\n",
       "                    Average Sale per Order ($)\n",
       "  Q1                               3924.740667\n",
       "  Q2                               4776.298462\n",
       "  Q3                                  0.000000\n",
       "  Q4                               3562.118857,\n",
       "                   Denmark Orders per Product\n",
       "                                       Orders\n",
       "  Classic Cars                             34\n",
       "  Vintage Cars                              7\n",
       "  Trains                                    4\n",
       "  Ships                                    14\n",
       "  Trucks and Buses                          2\n",
       "  Planes                                    2\n",
       "  Motorcycles                               0],\n",
       " 'Italy': [          Italy Orders by Month\n",
       "                           Orders\n",
       "  January                       0\n",
       "  February                     18\n",
       "  March                         0\n",
       "  April                         0\n",
       "  May                          14\n",
       "  June                          0\n",
       "  July                         15\n",
       "  August                       17\n",
       "  September                     9\n",
       "  October                       0\n",
       "  November                     40\n",
       "  December                      0,\n",
       "     Italy Orders by Quarter\n",
       "                      Orders\n",
       "  Q1                      18\n",
       "  Q2                      14\n",
       "  Q3                      41\n",
       "  Q4                      40,\n",
       "            Italy Total Sales by Month\n",
       "                             Sales ($)\n",
       "  January                         0.00\n",
       "  February                    56181.32\n",
       "  March                           0.00\n",
       "  April                           0.00\n",
       "  May                         41509.94\n",
       "  June                            0.00\n",
       "  July                        56421.65\n",
       "  August                      56078.26\n",
       "  September                   38039.00\n",
       "  October                         0.00\n",
       "  November                   126444.14\n",
       "  December                        0.00,\n",
       "     Italy Total Sales by Quarter\n",
       "                        Sales ($)\n",
       "  Q1                     56181.32\n",
       "  Q2                     41509.94\n",
       "  Q3                    150538.91\n",
       "  Q4                    126444.14,\n",
       "            Italy Average Sale per Order by Month\n",
       "                       Average Sale per Order ($)\n",
       "  January                                0.000000\n",
       "  February                            3121.184444\n",
       "  March                                  0.000000\n",
       "  April                                  0.000000\n",
       "  May                                 2964.995714\n",
       "  June                                   0.000000\n",
       "  July                                3761.443333\n",
       "  August                              3298.721176\n",
       "  September                           4226.555556\n",
       "  October                                0.000000\n",
       "  November                            3161.103500\n",
       "  December                               0.000000,\n",
       "     Italy Average Sale per Order by Quarter\n",
       "                  Average Sale per Order ($)\n",
       "  Q1                             3121.184444\n",
       "  Q2                             2964.995714\n",
       "  Q3                             3671.680732\n",
       "  Q4                             3161.103500,\n",
       "                   Italy Orders per Product\n",
       "                                     Orders\n",
       "  Planes                                 31\n",
       "  Ships                                   6\n",
       "  Vintage Cars                           41\n",
       "  Classic Cars                           28\n",
       "  Trains                                  3\n",
       "  Trucks and Buses                        2\n",
       "  Motorcycles                             2],\n",
       " 'Philippines': [          Philippines Orders by Month\n",
       "                                 Orders\n",
       "  January                             0\n",
       "  February                            0\n",
       "  March                              16\n",
       "  April                               0\n",
       "  May                                 0\n",
       "  June                                0\n",
       "  July                                0\n",
       "  August                              0\n",
       "  September                           0\n",
       "  October                             0\n",
       "  November                           10\n",
       "  December                            0,\n",
       "     Philippines Orders by Quarter\n",
       "                            Orders\n",
       "  Q1                            16\n",
       "  Q2                             0\n",
       "  Q3                             0\n",
       "  Q4                            10,\n",
       "            Philippines Total Sales by Month\n",
       "                                   Sales ($)\n",
       "  January                               0.00\n",
       "  February                              0.00\n",
       "  March                             55245.02\n",
       "  April                                 0.00\n",
       "  May                                   0.00\n",
       "  June                                  0.00\n",
       "  July                                  0.00\n",
       "  August                                0.00\n",
       "  September                             0.00\n",
       "  October                               0.00\n",
       "  November                          38770.71\n",
       "  December                              0.00,\n",
       "     Philippines Total Sales by Quarter\n",
       "                              Sales ($)\n",
       "  Q1                           55245.02\n",
       "  Q2                               0.00\n",
       "  Q3                               0.00\n",
       "  Q4                           38770.71,\n",
       "            Philippines Average Sale per Order by Month\n",
       "                             Average Sale per Order ($)\n",
       "  January                                       0.00000\n",
       "  February                                      0.00000\n",
       "  March                                      3452.81375\n",
       "  April                                         0.00000\n",
       "  May                                           0.00000\n",
       "  June                                          0.00000\n",
       "  July                                          0.00000\n",
       "  August                                        0.00000\n",
       "  September                                     0.00000\n",
       "  October                                       0.00000\n",
       "  November                                   3877.07100\n",
       "  December                                      0.00000,\n",
       "     Philippines Average Sale per Order by Quarter\n",
       "                        Average Sale per Order ($)\n",
       "  Q1                                    3452.81375\n",
       "  Q2                                       0.00000\n",
       "  Q3                                       0.00000\n",
       "  Q4                                    3877.07100,\n",
       "                   Philippines Orders per Product\n",
       "                                           Orders\n",
       "  Classic Cars                                 13\n",
       "  Motorcycles                                   7\n",
       "  Planes                                        5\n",
       "  Vintage Cars                                  1\n",
       "  Trucks and Buses                              0\n",
       "  Trains                                        0\n",
       "  Ships                                         0],\n",
       " 'UK': [          UK Orders by Month\n",
       "                        Orders\n",
       "  January                    3\n",
       "  February                   0\n",
       "  March                     24\n",
       "  April                      9\n",
       "  May                        0\n",
       "  June                      23\n",
       "  July                       0\n",
       "  August                     0\n",
       "  September                  0\n",
       "  October                   23\n",
       "  November                  57\n",
       "  December                   5,\n",
       "     UK Orders by Quarter\n",
       "                   Orders\n",
       "  Q1                   27\n",
       "  Q2                   32\n",
       "  Q3                    0\n",
       "  Q4                   85,\n",
       "            UK Total Sales by Month\n",
       "                          Sales ($)\n",
       "  January                   8477.22\n",
       "  February                     0.00\n",
       "  March                    77924.60\n",
       "  April                    40802.81\n",
       "  May                          0.00\n",
       "  June                     82784.54\n",
       "  July                         0.00\n",
       "  August                       0.00\n",
       "  September                    0.00\n",
       "  October                  84624.82\n",
       "  November                170526.57\n",
       "  December                 13739.90,\n",
       "     UK Total Sales by Quarter\n",
       "                     Sales ($)\n",
       "  Q1                  86401.82\n",
       "  Q2                 123587.35\n",
       "  Q3                      0.00\n",
       "  Q4                 268891.29,\n",
       "            UK Average Sale per Order by Month\n",
       "                    Average Sale per Order ($)\n",
       "  January                          2825.740000\n",
       "  February                            0.000000\n",
       "  March                            3246.858333\n",
       "  April                            4533.645556\n",
       "  May                                 0.000000\n",
       "  June                             3599.327826\n",
       "  July                                0.000000\n",
       "  August                              0.000000\n",
       "  September                           0.000000\n",
       "  October                          3679.340000\n",
       "  November                         2991.694211\n",
       "  December                         2747.980000,\n",
       "     UK Average Sale per Order by Quarter\n",
       "               Average Sale per Order ($)\n",
       "  Q1                          3200.067407\n",
       "  Q2                          3862.104688\n",
       "  Q3                             0.000000\n",
       "  Q4                          3163.426941,\n",
       "                   UK Orders per Product\n",
       "                                  Orders\n",
       "  Classic Cars                        46\n",
       "  Vintage Cars                        39\n",
       "  Ships                               23\n",
       "  Trucks and Buses                     8\n",
       "  Planes                              15\n",
       "  Trains                               4\n",
       "  Motorcycles                          9],\n",
       " 'Sweden': [          Sweden Orders by Month\n",
       "                            Orders\n",
       "  January                        0\n",
       "  February                       0\n",
       "  March                         10\n",
       "  April                          0\n",
       "  May                            0\n",
       "  June                           0\n",
       "  July                           0\n",
       "  August                         0\n",
       "  September                     14\n",
       "  October                       16\n",
       "  November                      17\n",
       "  December                       0,\n",
       "     Sweden Orders by Quarter\n",
       "                       Orders\n",
       "  Q1                       10\n",
       "  Q2                        0\n",
       "  Q3                       14\n",
       "  Q4                       33,\n",
       "            Sweden Total Sales by Month\n",
       "                              Sales ($)\n",
       "  January                          0.00\n",
       "  February                         0.00\n",
       "  March                        41355.72\n",
       "  April                            0.00\n",
       "  May                              0.00\n",
       "  June                             0.00\n",
       "  July                             0.00\n",
       "  August                           0.00\n",
       "  September                    53941.69\n",
       "  October                      48710.92\n",
       "  November                     66005.88\n",
       "  December                         0.00,\n",
       "     Sweden Total Sales by Quarter\n",
       "                         Sales ($)\n",
       "  Q1                      41355.72\n",
       "  Q2                          0.00\n",
       "  Q3                      53941.69\n",
       "  Q4                     114716.80,\n",
       "            Sweden Average Sale per Order by Month\n",
       "                        Average Sale per Order ($)\n",
       "  January                                 0.000000\n",
       "  February                                0.000000\n",
       "  March                                4135.572000\n",
       "  April                                   0.000000\n",
       "  May                                     0.000000\n",
       "  June                                    0.000000\n",
       "  July                                    0.000000\n",
       "  August                                  0.000000\n",
       "  September                            3852.977857\n",
       "  October                              3044.432500\n",
       "  November                             3882.698824\n",
       "  December                                0.000000,\n",
       "     Sweden Average Sale per Order by Quarter\n",
       "                   Average Sale per Order ($)\n",
       "  Q1                              4135.572000\n",
       "  Q2                                 0.000000\n",
       "  Q3                              3852.977857\n",
       "  Q4                              3476.266667,\n",
       "                   Sweden Orders per Product\n",
       "                                      Orders\n",
       "  Classic Cars                            17\n",
       "  Vintage Cars                            12\n",
       "  Planes                                   3\n",
       "  Ships                                   10\n",
       "  Trucks and Buses                        11\n",
       "  Trains                                   1\n",
       "  Motorcycles                              3],\n",
       " 'France': [          France Orders by Month\n",
       "                            Orders\n",
       "  January                       31\n",
       "  February                      22\n",
       "  March                         42\n",
       "  April                         30\n",
       "  May                           48\n",
       "  June                           2\n",
       "  July                          32\n",
       "  August                         1\n",
       "  September                      2\n",
       "  October                       24\n",
       "  November                      63\n",
       "  December                      17,\n",
       "     France Orders by Quarter\n",
       "                       Orders\n",
       "  Q1                       95\n",
       "  Q2                       80\n",
       "  Q3                       35\n",
       "  Q4                      104,\n",
       "            France Total Sales by Month\n",
       "                              Sales ($)\n",
       "  January                     108026.96\n",
       "  February                     85554.95\n",
       "  March                       134291.99\n",
       "  April                       127305.79\n",
       "  May                         159730.00\n",
       "  June                          5416.90\n",
       "  July                        114025.18\n",
       "  August                        2173.60\n",
       "  September                     5307.98\n",
       "  October                      79794.81\n",
       "  November                    226450.01\n",
       "  December                     62838.35,\n",
       "     France Total Sales by Quarter\n",
       "                         Sales ($)\n",
       "  Q1                     327873.90\n",
       "  Q2                     292452.69\n",
       "  Q3                     121506.76\n",
       "  Q4                     369083.17,\n",
       "            France Average Sale per Order by Month\n",
       "                        Average Sale per Order ($)\n",
       "  January                              3484.740645\n",
       "  February                             3888.861364\n",
       "  March                                3197.428333\n",
       "  April                                4243.526333\n",
       "  May                                  3327.708333\n",
       "  June                                 2708.450000\n",
       "  July                                 3563.286875\n",
       "  August                               2173.600000\n",
       "  September                            2653.990000\n",
       "  October                              3324.783750\n",
       "  November                             3594.444603\n",
       "  December                             3696.373529,\n",
       "     France Average Sale per Order by Quarter\n",
       "                   Average Sale per Order ($)\n",
       "  Q1                              3451.304211\n",
       "  Q2                              3655.658625\n",
       "  Q3                              3471.621714\n",
       "  Q4                              3548.876635,\n",
       "                   France Orders per Product\n",
       "                                      Orders\n",
       "  Classic Cars                            98\n",
       "  Trucks and Buses                        30\n",
       "  Motorcycles                             68\n",
       "  Planes                                  32\n",
       "  Ships                                   21\n",
       "  Vintage Cars                            58\n",
       "  Trains                                   7],\n",
       " 'Belgium': [          Belgium Orders by Month\n",
       "                             Orders\n",
       "  January                         3\n",
       "  February                        5\n",
       "  March                           0\n",
       "  April                           1\n",
       "  May                             5\n",
       "  June                            0\n",
       "  July                           15\n",
       "  August                          1\n",
       "  September                       0\n",
       "  October                         0\n",
       "  November                        3\n",
       "  December                        0,\n",
       "     Belgium Orders by Quarter\n",
       "                        Orders\n",
       "  Q1                         8\n",
       "  Q2                         6\n",
       "  Q3                        16\n",
       "  Q4                         3,\n",
       "            Belgium Total Sales by Month\n",
       "                               Sales ($)\n",
       "  January                       16628.16\n",
       "  February                      18800.09\n",
       "  March                             0.00\n",
       "  April                          1711.26\n",
       "  May                            8411.95\n",
       "  June                              0.00\n",
       "  July                          47760.48\n",
       "  August                         1637.20\n",
       "  September                         0.00\n",
       "  October                           0.00\n",
       "  November                      13463.48\n",
       "  December                          0.00,\n",
       "     Belgium Total Sales by Quarter\n",
       "                          Sales ($)\n",
       "  Q1                       35428.25\n",
       "  Q2                       10123.21\n",
       "  Q3                       49397.68\n",
       "  Q4                       13463.48,\n",
       "            Belgium Average Sale per Order by Month\n",
       "                         Average Sale per Order ($)\n",
       "  January                               5542.720000\n",
       "  February                              3760.018000\n",
       "  March                                    0.000000\n",
       "  April                                 1711.260000\n",
       "  May                                   1682.390000\n",
       "  June                                     0.000000\n",
       "  July                                  3184.032000\n",
       "  August                                1637.200000\n",
       "  September                                0.000000\n",
       "  October                                  0.000000\n",
       "  November                              4487.826667\n",
       "  December                                 0.000000,\n",
       "     Belgium Average Sale per Order by Quarter\n",
       "                    Average Sale per Order ($)\n",
       "  Q1                               4428.531250\n",
       "  Q2                               1687.201667\n",
       "  Q3                               3087.355000\n",
       "  Q4                               4487.826667,\n",
       "                   Belgium Orders per Product\n",
       "                                       Orders\n",
       "  Trains                                    3\n",
       "  Vintage Cars                             14\n",
       "  Ships                                    11\n",
       "  Classic Cars                              4\n",
       "  Planes                                    1\n",
       "  Motorcycles                               0\n",
       "  Trucks and Buses                          0],\n",
       " 'Singapore': [          Singapore Orders by Month\n",
       "                               Orders\n",
       "  January                           0\n",
       "  February                          7\n",
       "  March                             1\n",
       "  April                            14\n",
       "  May                               0\n",
       "  June                             13\n",
       "  July                              0\n",
       "  August                            1\n",
       "  September                        25\n",
       "  October                          18\n",
       "  November                          0\n",
       "  December                          0,\n",
       "     Singapore Orders by Quarter\n",
       "                          Orders\n",
       "  Q1                           8\n",
       "  Q2                          27\n",
       "  Q3                          26\n",
       "  Q4                          18,\n",
       "            Singapore Total Sales by Month\n",
       "                                 Sales ($)\n",
       "  January                             0.00\n",
       "  February                        24219.59\n",
       "  March                            4175.60\n",
       "  April                           46245.05\n",
       "  May                                 0.00\n",
       "  June                            45788.72\n",
       "  July                                0.00\n",
       "  August                           3127.88\n",
       "  September                       87122.20\n",
       "  October                         77809.37\n",
       "  November                            0.00\n",
       "  December                            0.00,\n",
       "     Singapore Total Sales by Quarter\n",
       "                            Sales ($)\n",
       "  Q1                         28395.19\n",
       "  Q2                         92033.77\n",
       "  Q3                         90250.08\n",
       "  Q4                         77809.37,\n",
       "            Singapore Average Sale per Order by Month\n",
       "                           Average Sale per Order ($)\n",
       "  January                                    0.000000\n",
       "  February                                3459.941429\n",
       "  March                                   4175.600000\n",
       "  April                                   3303.217857\n",
       "  May                                        0.000000\n",
       "  June                                    3522.209231\n",
       "  July                                       0.000000\n",
       "  August                                  3127.880000\n",
       "  September                               3484.888000\n",
       "  October                                 4322.742778\n",
       "  November                                   0.000000\n",
       "  December                                   0.000000,\n",
       "     Singapore Average Sale per Order by Quarter\n",
       "                      Average Sale per Order ($)\n",
       "  Q1                                 3549.398750\n",
       "  Q2                                 3408.658148\n",
       "  Q3                                 3471.156923\n",
       "  Q4                                 4322.742778,\n",
       "                   Singapore Orders per Product\n",
       "                                         Orders\n",
       "  Classic Cars                               32\n",
       "  Vintage Cars                               14\n",
       "  Trains                                      5\n",
       "  Ships                                       4\n",
       "  Trucks and Buses                           23\n",
       "  Motorcycles                                 1\n",
       "  Planes                                      0],\n",
       " 'Austria': [          Austria Orders by Month\n",
       "                             Orders\n",
       "  January                         0\n",
       "  February                        0\n",
       "  March                           3\n",
       "  April                          14\n",
       "  May                            14\n",
       "  June                            0\n",
       "  July                            2\n",
       "  August                          0\n",
       "  September                       0\n",
       "  October                         8\n",
       "  November                       14\n",
       "  December                        0,\n",
       "     Austria Orders by Quarter\n",
       "                        Orders\n",
       "  Q1                         3\n",
       "  Q2                        28\n",
       "  Q3                         2\n",
       "  Q4                        22,\n",
       "            Austria Total Sales by Month\n",
       "                               Sales ($)\n",
       "  January                           0.00\n",
       "  February                          0.00\n",
       "  March                          8775.16\n",
       "  April                         38629.14\n",
       "  May                           59475.10\n",
       "  June                              0.00\n",
       "  July                           6693.28\n",
       "  August                            0.00\n",
       "  September                         0.00\n",
       "  October                       28550.59\n",
       "  November                      59939.26\n",
       "  December                          0.00,\n",
       "     Austria Total Sales by Quarter\n",
       "                          Sales ($)\n",
       "  Q1                        8775.16\n",
       "  Q2                       98104.24\n",
       "  Q3                        6693.28\n",
       "  Q4                       88489.85,\n",
       "            Austria Average Sale per Order by Month\n",
       "                         Average Sale per Order ($)\n",
       "  January                                  0.000000\n",
       "  February                                 0.000000\n",
       "  March                                 2925.053333\n",
       "  April                                 2759.224286\n",
       "  May                                   4248.221429\n",
       "  June                                     0.000000\n",
       "  July                                  3346.640000\n",
       "  August                                   0.000000\n",
       "  September                                0.000000\n",
       "  October                               3568.823750\n",
       "  November                              4281.375714\n",
       "  December                                 0.000000,\n",
       "     Austria Average Sale per Order by Quarter\n",
       "                    Average Sale per Order ($)\n",
       "  Q1                               2925.053333\n",
       "  Q2                               3503.722857\n",
       "  Q3                               3346.640000\n",
       "  Q4                               4022.265909,\n",
       "                   Austria Orders per Product\n",
       "                                       Orders\n",
       "  Classic Cars                             25\n",
       "  Planes                                    6\n",
       "  Ships                                     4\n",
       "  Vintage Cars                             10\n",
       "  Trucks and Buses                          5\n",
       "  Motorcycles                               5\n",
       "  Trains                                    0],\n",
       " 'Australia': [          Australia Orders by Month\n",
       "                               Orders\n",
       "  January                           9\n",
       "  February                         21\n",
       "  March                            10\n",
       "  April                            15\n",
       "  May                              20\n",
       "  June                              0\n",
       "  July                             21\n",
       "  August                            0\n",
       "  September                        18\n",
       "  October                           0\n",
       "  November                         57\n",
       "  December                         14,\n",
       "     Australia Orders by Quarter\n",
       "                          Orders\n",
       "  Q1                          40\n",
       "  Q2                          35\n",
       "  Q3                          39\n",
       "  Q4                          71,\n",
       "            Australia Total Sales by Month\n",
       "                                 Sales ($)\n",
       "  January                         29852.17\n",
       "  February                        71367.60\n",
       "  March                           35160.25\n",
       "  April                           50397.66\n",
       "  May                             68087.70\n",
       "  June                                0.00\n",
       "  July                            82029.22\n",
       "  August                              0.00\n",
       "  September                       57832.05\n",
       "  October                             0.00\n",
       "  November                       197991.30\n",
       "  December                        37905.15,\n",
       "     Australia Total Sales by Quarter\n",
       "                            Sales ($)\n",
       "  Q1                        136380.02\n",
       "  Q2                        118485.36\n",
       "  Q3                        139861.27\n",
       "  Q4                        235896.45,\n",
       "            Australia Average Sale per Order by Month\n",
       "                           Average Sale per Order ($)\n",
       "  January                                 3316.907778\n",
       "  February                                3398.457143\n",
       "  March                                   3516.025000\n",
       "  April                                   3359.844000\n",
       "  May                                     3404.385000\n",
       "  June                                       0.000000\n",
       "  July                                    3906.153333\n",
       "  August                                     0.000000\n",
       "  September                               3212.891667\n",
       "  October                                    0.000000\n",
       "  November                                3473.531579\n",
       "  December                                2707.510714,\n",
       "     Australia Average Sale per Order by Quarter\n",
       "                      Average Sale per Order ($)\n",
       "  Q1                                 3409.500500\n",
       "  Q2                                 3385.296000\n",
       "  Q3                                 3586.186410\n",
       "  Q4                                 3322.485211,\n",
       "                   Australia Orders per Product\n",
       "                                         Orders\n",
       "  Motorcycles                                26\n",
       "  Planes                                     25\n",
       "  Vintage Cars                               58\n",
       "  Classic Cars                               53\n",
       "  Trains                                      1\n",
       "  Trucks and Buses                           20\n",
       "  Ships                                       2],\n",
       " 'Finland': [          Finland Orders by Month\n",
       "                             Orders\n",
       "  January                        32\n",
       "  February                        6\n",
       "  March                           0\n",
       "  April                           5\n",
       "  May                             6\n",
       "  June                            0\n",
       "  July                            0\n",
       "  August                          9\n",
       "  September                      21\n",
       "  October                        13\n",
       "  November                        0\n",
       "  December                        0,\n",
       "     Finland Orders by Quarter\n",
       "                        Orders\n",
       "  Q1                        38\n",
       "  Q2                        11\n",
       "  Q3                        30\n",
       "  Q4                        13,\n",
       "            Finland Total Sales by Month\n",
       "                               Sales ($)\n",
       "  January                      100428.89\n",
       "  February                      26422.82\n",
       "  March                             0.00\n",
       "  April                         17813.40\n",
       "  May                           31018.23\n",
       "  June                              0.00\n",
       "  July                              0.00\n",
       "  August                        31569.43\n",
       "  September                     80245.64\n",
       "  October                       42083.50\n",
       "  November                          0.00\n",
       "  December                          0.00,\n",
       "     Finland Total Sales by Quarter\n",
       "                          Sales ($)\n",
       "  Q1                      126851.71\n",
       "  Q2                       48831.63\n",
       "  Q3                      111815.07\n",
       "  Q4                       42083.50,\n",
       "            Finland Average Sale per Order by Month\n",
       "                         Average Sale per Order ($)\n",
       "  January                               3138.402812\n",
       "  February                              4403.803333\n",
       "  March                                    0.000000\n",
       "  April                                 3562.680000\n",
       "  May                                   5169.705000\n",
       "  June                                     0.000000\n",
       "  July                                     0.000000\n",
       "  August                                3507.714444\n",
       "  September                             3821.220952\n",
       "  October                               3237.192308\n",
       "  November                                 0.000000\n",
       "  December                                 0.000000,\n",
       "     Finland Average Sale per Order by Quarter\n",
       "                    Average Sale per Order ($)\n",
       "  Q1                               3338.202895\n",
       "  Q2                               4439.239091\n",
       "  Q3                               3727.169000\n",
       "  Q4                               3237.192308,\n",
       "                   Finland Orders per Product\n",
       "                                       Orders\n",
       "  Trucks and Buses                         11\n",
       "  Classic Cars                             38\n",
       "  Planes                                   12\n",
       "  Ships                                     9\n",
       "  Vintage Cars                              7\n",
       "  Trains                                    2\n",
       "  Motorcycles                              13],\n",
       " 'Canada': [          Canada Orders by Month\n",
       "                            Orders\n",
       "  January                        0\n",
       "  February                       0\n",
       "  March                          0\n",
       "  April                         12\n",
       "  May                            9\n",
       "  June                           9\n",
       "  July                           0\n",
       "  August                        14\n",
       "  September                      0\n",
       "  October                       11\n",
       "  November                       4\n",
       "  December                      11,\n",
       "     Canada Orders by Quarter\n",
       "                       Orders\n",
       "  Q1                        0\n",
       "  Q2                       30\n",
       "  Q3                       14\n",
       "  Q4                       26,\n",
       "            Canada Total Sales by Month\n",
       "                              Sales ($)\n",
       "  January                          0.00\n",
       "  February                         0.00\n",
       "  March                            0.00\n",
       "  April                        31302.50\n",
       "  May                          33692.97\n",
       "  June                         24564.53\n",
       "  July                             0.00\n",
       "  August                       43332.35\n",
       "  September                        0.00\n",
       "  October                      36576.71\n",
       "  November                     15947.29\n",
       "  December                     38662.21,\n",
       "     Canada Total Sales by Quarter\n",
       "                         Sales ($)\n",
       "  Q1                          0.00\n",
       "  Q2                      89560.00\n",
       "  Q3                      43332.35\n",
       "  Q4                      91186.21,\n",
       "            Canada Average Sale per Order by Month\n",
       "                        Average Sale per Order ($)\n",
       "  January                                 0.000000\n",
       "  February                                0.000000\n",
       "  March                                   0.000000\n",
       "  April                                2608.541667\n",
       "  May                                  3743.663333\n",
       "  June                                 2729.392222\n",
       "  July                                    0.000000\n",
       "  August                               3095.167857\n",
       "  September                               0.000000\n",
       "  October                              3325.155455\n",
       "  November                             3986.822500\n",
       "  December                             3514.746364,\n",
       "     Canada Average Sale per Order by Quarter\n",
       "                   Average Sale per Order ($)\n",
       "  Q1                                 0.000000\n",
       "  Q2                              2985.333333\n",
       "  Q3                              3095.167857\n",
       "  Q4                              3507.161923,\n",
       "                   Canada Orders per Product\n",
       "                                      Orders\n",
       "  Classic Cars                            14\n",
       "  Trucks and Buses                        16\n",
       "  Vintage Cars                            15\n",
       "  Planes                                  10\n",
       "  Motorcycles                              1\n",
       "  Ships                                   14\n",
       "  Trains                                   0],\n",
       " 'Japan': [          Japan Orders by Month\n",
       "                           Orders\n",
       "  January                      26\n",
       "  February                      0\n",
       "  March                         0\n",
       "  April                         4\n",
       "  May                           0\n",
       "  June                          6\n",
       "  July                          0\n",
       "  August                        0\n",
       "  September                     0\n",
       "  October                       0\n",
       "  November                     16\n",
       "  December                      0,\n",
       "     Japan Orders by Quarter\n",
       "                      Orders\n",
       "  Q1                      26\n",
       "  Q2                      10\n",
       "  Q3                       0\n",
       "  Q4                      16,\n",
       "            Japan Total Sales by Month\n",
       "                             Sales ($)\n",
       "  January                     88682.03\n",
       "  February                        0.00\n",
       "  March                           0.00\n",
       "  April                       17668.38\n",
       "  May                             0.00\n",
       "  June                        25928.75\n",
       "  July                            0.00\n",
       "  August                          0.00\n",
       "  September                       0.00\n",
       "  October                         0.00\n",
       "  November                    55888.65\n",
       "  December                        0.00,\n",
       "     Japan Total Sales by Quarter\n",
       "                        Sales ($)\n",
       "  Q1                     88682.03\n",
       "  Q2                     43597.13\n",
       "  Q3                         0.00\n",
       "  Q4                     55888.65,\n",
       "            Japan Average Sale per Order by Month\n",
       "                       Average Sale per Order ($)\n",
       "  January                             3410.847308\n",
       "  February                               0.000000\n",
       "  March                                  0.000000\n",
       "  April                               4417.095000\n",
       "  May                                    0.000000\n",
       "  June                                4321.458333\n",
       "  July                                   0.000000\n",
       "  August                                 0.000000\n",
       "  September                              0.000000\n",
       "  October                                0.000000\n",
       "  November                            3493.040625\n",
       "  December                               0.000000,\n",
       "     Japan Average Sale per Order by Quarter\n",
       "                  Average Sale per Order ($)\n",
       "  Q1                             3410.847308\n",
       "  Q2                             4359.713000\n",
       "  Q3                                0.000000\n",
       "  Q4                             3493.040625,\n",
       "                   Japan Orders per Product\n",
       "                                     Orders\n",
       "  Motorcycles                             9\n",
       "  Planes                                 16\n",
       "  Vintage Cars                            9\n",
       "  Classic Cars                            8\n",
       "  Trucks and Buses                        3\n",
       "  Ships                                   5\n",
       "  Trains                                  2],\n",
       " 'Ireland': [          Ireland Orders by Month\n",
       "                             Orders\n",
       "  January                         0\n",
       "  February                        9\n",
       "  March                           0\n",
       "  April                           0\n",
       "  May                             0\n",
       "  June                            0\n",
       "  July                            0\n",
       "  August                          0\n",
       "  September                       7\n",
       "  October                         0\n",
       "  November                        0\n",
       "  December                        0,\n",
       "     Ireland Orders by Quarter\n",
       "                        Orders\n",
       "  Q1                         9\n",
       "  Q2                         0\n",
       "  Q3                         7\n",
       "  Q4                         0,\n",
       "            Ireland Total Sales by Month\n",
       "                               Sales ($)\n",
       "  January                           0.00\n",
       "  February                      38784.47\n",
       "  March                             0.00\n",
       "  April                             0.00\n",
       "  May                               0.00\n",
       "  June                              0.00\n",
       "  July                              0.00\n",
       "  August                            0.00\n",
       "  September                     18971.96\n",
       "  October                           0.00\n",
       "  November                          0.00\n",
       "  December                          0.00,\n",
       "     Ireland Total Sales by Quarter\n",
       "                          Sales ($)\n",
       "  Q1                       38784.47\n",
       "  Q2                           0.00\n",
       "  Q3                       18971.96\n",
       "  Q4                           0.00,\n",
       "            Ireland Average Sale per Order by Month\n",
       "                         Average Sale per Order ($)\n",
       "  January                                  0.000000\n",
       "  February                              4309.385556\n",
       "  March                                    0.000000\n",
       "  April                                    0.000000\n",
       "  May                                      0.000000\n",
       "  June                                     0.000000\n",
       "  July                                     0.000000\n",
       "  August                                   0.000000\n",
       "  September                             2710.280000\n",
       "  October                                  0.000000\n",
       "  November                                 0.000000\n",
       "  December                                 0.000000,\n",
       "     Ireland Average Sale per Order by Quarter\n",
       "                    Average Sale per Order ($)\n",
       "  Q1                               4309.385556\n",
       "  Q2                                  0.000000\n",
       "  Q3                               2710.280000\n",
       "  Q4                                  0.000000,\n",
       "                   Ireland Orders per Product\n",
       "                                       Orders\n",
       "  Classic Cars                              6\n",
       "  Trains                                    2\n",
       "  Trucks and Buses                          1\n",
       "  Planes                                    4\n",
       "  Motorcycles                               2\n",
       "  Vintage Cars                              1\n",
       "  Ships                                     0],\n",
       " 'Switzerland': [          Switzerland Orders by Month\n",
       "                                 Orders\n",
       "  January                             0\n",
       "  February                           14\n",
       "  March                               0\n",
       "  April                               0\n",
       "  May                                 0\n",
       "  June                                0\n",
       "  July                                0\n",
       "  August                             17\n",
       "  September                           0\n",
       "  October                             0\n",
       "  November                            0\n",
       "  December                            0,\n",
       "     Switzerland Orders by Quarter\n",
       "                            Orders\n",
       "  Q1                            14\n",
       "  Q2                             0\n",
       "  Q3                            17\n",
       "  Q4                             0,\n",
       "            Switzerland Total Sales by Month\n",
       "                                   Sales ($)\n",
       "  January                               0.00\n",
       "  February                          50432.55\n",
       "  March                                 0.00\n",
       "  April                                 0.00\n",
       "  May                                   0.00\n",
       "  June                                  0.00\n",
       "  July                                  0.00\n",
       "  August                            67281.01\n",
       "  September                             0.00\n",
       "  October                               0.00\n",
       "  November                              0.00\n",
       "  December                              0.00,\n",
       "     Switzerland Total Sales by Quarter\n",
       "                              Sales ($)\n",
       "  Q1                           50432.55\n",
       "  Q2                               0.00\n",
       "  Q3                           67281.01\n",
       "  Q4                               0.00,\n",
       "            Switzerland Average Sale per Order by Month\n",
       "                             Average Sale per Order ($)\n",
       "  January                                      0.000000\n",
       "  February                                  3602.325000\n",
       "  March                                        0.000000\n",
       "  April                                        0.000000\n",
       "  May                                          0.000000\n",
       "  June                                         0.000000\n",
       "  July                                         0.000000\n",
       "  August                                    3957.706471\n",
       "  September                                    0.000000\n",
       "  October                                      0.000000\n",
       "  November                                     0.000000\n",
       "  December                                     0.000000,\n",
       "     Switzerland Average Sale per Order by Quarter\n",
       "                        Average Sale per Order ($)\n",
       "  Q1                                   3602.325000\n",
       "  Q2                                      0.000000\n",
       "  Q3                                   3957.706471\n",
       "  Q4                                      0.000000,\n",
       "                   Switzerland Orders per Product\n",
       "                                           Orders\n",
       "  Classic Cars                                 31\n",
       "  Vintage Cars                                  0\n",
       "  Motorcycles                                   0\n",
       "  Trucks and Buses                              0\n",
       "  Trains                                        0\n",
       "  Ships                                         0\n",
       "  Planes                                        0]}"
      ]
     },
     "execution_count": 6,
     "metadata": {},
     "output_type": "execute_result"
    }
   ],
   "source": [
    "data = tcs.generate_all_data()\n",
    "data"
   ]
  },
  {
   "cell_type": "code",
   "execution_count": 7,
   "metadata": {},
   "outputs": [
    {
     "name": "stderr",
     "output_type": "stream",
     "text": [
      "c:\\Users\\cochr\\OneDrive\\Libertas Data\\Projects\\Example Projects\\Toy Car Sales Project\\tcs_streamlit\\TCS_functions.py:152: FutureWarning:\n",
      "\n",
      "The behavior of array concatenation with empty entries is deprecated. In a future version, this will no longer exclude empty items when determining the result dtype. To retain the old behavior, exclude the empty entries before the concat operation.\n",
      "\n",
      "c:\\Users\\cochr\\OneDrive\\Libertas Data\\Projects\\Example Projects\\Toy Car Sales Project\\tcs_streamlit\\TCS_functions.py:162: FutureWarning:\n",
      "\n",
      "The behavior of array concatenation with empty entries is deprecated. In a future version, this will no longer exclude empty items when determining the result dtype. To retain the old behavior, exclude the empty entries before the concat operation.\n",
      "\n",
      "c:\\Users\\cochr\\OneDrive\\Libertas Data\\Projects\\Example Projects\\Toy Car Sales Project\\tcs_streamlit\\TCS_functions.py:152: FutureWarning:\n",
      "\n",
      "The behavior of array concatenation with empty entries is deprecated. In a future version, this will no longer exclude empty items when determining the result dtype. To retain the old behavior, exclude the empty entries before the concat operation.\n",
      "\n",
      "c:\\Users\\cochr\\OneDrive\\Libertas Data\\Projects\\Example Projects\\Toy Car Sales Project\\tcs_streamlit\\TCS_functions.py:162: FutureWarning:\n",
      "\n",
      "The behavior of array concatenation with empty entries is deprecated. In a future version, this will no longer exclude empty items when determining the result dtype. To retain the old behavior, exclude the empty entries before the concat operation.\n",
      "\n",
      "c:\\Users\\cochr\\OneDrive\\Libertas Data\\Projects\\Example Projects\\Toy Car Sales Project\\tcs_streamlit\\TCS_functions.py:152: FutureWarning:\n",
      "\n",
      "The behavior of array concatenation with empty entries is deprecated. In a future version, this will no longer exclude empty items when determining the result dtype. To retain the old behavior, exclude the empty entries before the concat operation.\n",
      "\n",
      "c:\\Users\\cochr\\OneDrive\\Libertas Data\\Projects\\Example Projects\\Toy Car Sales Project\\tcs_streamlit\\TCS_functions.py:162: FutureWarning:\n",
      "\n",
      "The behavior of array concatenation with empty entries is deprecated. In a future version, this will no longer exclude empty items when determining the result dtype. To retain the old behavior, exclude the empty entries before the concat operation.\n",
      "\n",
      "c:\\Users\\cochr\\OneDrive\\Libertas Data\\Projects\\Example Projects\\Toy Car Sales Project\\tcs_streamlit\\TCS_functions.py:152: FutureWarning:\n",
      "\n",
      "The behavior of array concatenation with empty entries is deprecated. In a future version, this will no longer exclude empty items when determining the result dtype. To retain the old behavior, exclude the empty entries before the concat operation.\n",
      "\n",
      "c:\\Users\\cochr\\OneDrive\\Libertas Data\\Projects\\Example Projects\\Toy Car Sales Project\\tcs_streamlit\\TCS_functions.py:162: FutureWarning:\n",
      "\n",
      "The behavior of array concatenation with empty entries is deprecated. In a future version, this will no longer exclude empty items when determining the result dtype. To retain the old behavior, exclude the empty entries before the concat operation.\n",
      "\n",
      "c:\\Users\\cochr\\OneDrive\\Libertas Data\\Projects\\Example Projects\\Toy Car Sales Project\\tcs_streamlit\\TCS_functions.py:152: FutureWarning:\n",
      "\n",
      "The behavior of array concatenation with empty entries is deprecated. In a future version, this will no longer exclude empty items when determining the result dtype. To retain the old behavior, exclude the empty entries before the concat operation.\n",
      "\n",
      "c:\\Users\\cochr\\OneDrive\\Libertas Data\\Projects\\Example Projects\\Toy Car Sales Project\\tcs_streamlit\\TCS_functions.py:162: FutureWarning:\n",
      "\n",
      "The behavior of array concatenation with empty entries is deprecated. In a future version, this will no longer exclude empty items when determining the result dtype. To retain the old behavior, exclude the empty entries before the concat operation.\n",
      "\n",
      "c:\\Users\\cochr\\OneDrive\\Libertas Data\\Projects\\Example Projects\\Toy Car Sales Project\\tcs_streamlit\\TCS_functions.py:152: FutureWarning:\n",
      "\n",
      "The behavior of array concatenation with empty entries is deprecated. In a future version, this will no longer exclude empty items when determining the result dtype. To retain the old behavior, exclude the empty entries before the concat operation.\n",
      "\n",
      "c:\\Users\\cochr\\OneDrive\\Libertas Data\\Projects\\Example Projects\\Toy Car Sales Project\\tcs_streamlit\\TCS_functions.py:162: FutureWarning:\n",
      "\n",
      "The behavior of array concatenation with empty entries is deprecated. In a future version, this will no longer exclude empty items when determining the result dtype. To retain the old behavior, exclude the empty entries before the concat operation.\n",
      "\n",
      "c:\\Users\\cochr\\OneDrive\\Libertas Data\\Projects\\Example Projects\\Toy Car Sales Project\\tcs_streamlit\\TCS_functions.py:152: FutureWarning:\n",
      "\n",
      "The behavior of array concatenation with empty entries is deprecated. In a future version, this will no longer exclude empty items when determining the result dtype. To retain the old behavior, exclude the empty entries before the concat operation.\n",
      "\n",
      "c:\\Users\\cochr\\OneDrive\\Libertas Data\\Projects\\Example Projects\\Toy Car Sales Project\\tcs_streamlit\\TCS_functions.py:162: FutureWarning:\n",
      "\n",
      "The behavior of array concatenation with empty entries is deprecated. In a future version, this will no longer exclude empty items when determining the result dtype. To retain the old behavior, exclude the empty entries before the concat operation.\n",
      "\n",
      "c:\\Users\\cochr\\OneDrive\\Libertas Data\\Projects\\Example Projects\\Toy Car Sales Project\\tcs_streamlit\\TCS_functions.py:152: FutureWarning:\n",
      "\n",
      "The behavior of array concatenation with empty entries is deprecated. In a future version, this will no longer exclude empty items when determining the result dtype. To retain the old behavior, exclude the empty entries before the concat operation.\n",
      "\n",
      "c:\\Users\\cochr\\OneDrive\\Libertas Data\\Projects\\Example Projects\\Toy Car Sales Project\\tcs_streamlit\\TCS_functions.py:162: FutureWarning:\n",
      "\n",
      "The behavior of array concatenation with empty entries is deprecated. In a future version, this will no longer exclude empty items when determining the result dtype. To retain the old behavior, exclude the empty entries before the concat operation.\n",
      "\n",
      "c:\\Users\\cochr\\OneDrive\\Libertas Data\\Projects\\Example Projects\\Toy Car Sales Project\\tcs_streamlit\\TCS_functions.py:152: FutureWarning:\n",
      "\n",
      "The behavior of array concatenation with empty entries is deprecated. In a future version, this will no longer exclude empty items when determining the result dtype. To retain the old behavior, exclude the empty entries before the concat operation.\n",
      "\n",
      "c:\\Users\\cochr\\OneDrive\\Libertas Data\\Projects\\Example Projects\\Toy Car Sales Project\\tcs_streamlit\\TCS_functions.py:162: FutureWarning:\n",
      "\n",
      "The behavior of array concatenation with empty entries is deprecated. In a future version, this will no longer exclude empty items when determining the result dtype. To retain the old behavior, exclude the empty entries before the concat operation.\n",
      "\n",
      "c:\\Users\\cochr\\OneDrive\\Libertas Data\\Projects\\Example Projects\\Toy Car Sales Project\\tcs_streamlit\\TCS_functions.py:152: FutureWarning:\n",
      "\n",
      "The behavior of array concatenation with empty entries is deprecated. In a future version, this will no longer exclude empty items when determining the result dtype. To retain the old behavior, exclude the empty entries before the concat operation.\n",
      "\n",
      "c:\\Users\\cochr\\OneDrive\\Libertas Data\\Projects\\Example Projects\\Toy Car Sales Project\\tcs_streamlit\\TCS_functions.py:162: FutureWarning:\n",
      "\n",
      "The behavior of array concatenation with empty entries is deprecated. In a future version, this will no longer exclude empty items when determining the result dtype. To retain the old behavior, exclude the empty entries before the concat operation.\n",
      "\n",
      "c:\\Users\\cochr\\OneDrive\\Libertas Data\\Projects\\Example Projects\\Toy Car Sales Project\\tcs_streamlit\\TCS_functions.py:152: FutureWarning:\n",
      "\n",
      "The behavior of array concatenation with empty entries is deprecated. In a future version, this will no longer exclude empty items when determining the result dtype. To retain the old behavior, exclude the empty entries before the concat operation.\n",
      "\n",
      "c:\\Users\\cochr\\OneDrive\\Libertas Data\\Projects\\Example Projects\\Toy Car Sales Project\\tcs_streamlit\\TCS_functions.py:162: FutureWarning:\n",
      "\n",
      "The behavior of array concatenation with empty entries is deprecated. In a future version, this will no longer exclude empty items when determining the result dtype. To retain the old behavior, exclude the empty entries before the concat operation.\n",
      "\n",
      "c:\\Users\\cochr\\OneDrive\\Libertas Data\\Projects\\Example Projects\\Toy Car Sales Project\\tcs_streamlit\\TCS_functions.py:152: FutureWarning:\n",
      "\n",
      "The behavior of array concatenation with empty entries is deprecated. In a future version, this will no longer exclude empty items when determining the result dtype. To retain the old behavior, exclude the empty entries before the concat operation.\n",
      "\n",
      "c:\\Users\\cochr\\OneDrive\\Libertas Data\\Projects\\Example Projects\\Toy Car Sales Project\\tcs_streamlit\\TCS_functions.py:162: FutureWarning:\n",
      "\n",
      "The behavior of array concatenation with empty entries is deprecated. In a future version, this will no longer exclude empty items when determining the result dtype. To retain the old behavior, exclude the empty entries before the concat operation.\n",
      "\n",
      "c:\\Users\\cochr\\OneDrive\\Libertas Data\\Projects\\Example Projects\\Toy Car Sales Project\\tcs_streamlit\\TCS_functions.py:152: FutureWarning:\n",
      "\n",
      "The behavior of array concatenation with empty entries is deprecated. In a future version, this will no longer exclude empty items when determining the result dtype. To retain the old behavior, exclude the empty entries before the concat operation.\n",
      "\n",
      "c:\\Users\\cochr\\OneDrive\\Libertas Data\\Projects\\Example Projects\\Toy Car Sales Project\\tcs_streamlit\\TCS_functions.py:162: FutureWarning:\n",
      "\n",
      "The behavior of array concatenation with empty entries is deprecated. In a future version, this will no longer exclude empty items when determining the result dtype. To retain the old behavior, exclude the empty entries before the concat operation.\n",
      "\n",
      "c:\\Users\\cochr\\OneDrive\\Libertas Data\\Projects\\Example Projects\\Toy Car Sales Project\\tcs_streamlit\\TCS_functions.py:152: FutureWarning:\n",
      "\n",
      "The behavior of array concatenation with empty entries is deprecated. In a future version, this will no longer exclude empty items when determining the result dtype. To retain the old behavior, exclude the empty entries before the concat operation.\n",
      "\n",
      "c:\\Users\\cochr\\OneDrive\\Libertas Data\\Projects\\Example Projects\\Toy Car Sales Project\\tcs_streamlit\\TCS_functions.py:162: FutureWarning:\n",
      "\n",
      "The behavior of array concatenation with empty entries is deprecated. In a future version, this will no longer exclude empty items when determining the result dtype. To retain the old behavior, exclude the empty entries before the concat operation.\n",
      "\n",
      "c:\\Users\\cochr\\OneDrive\\Libertas Data\\Projects\\Example Projects\\Toy Car Sales Project\\tcs_streamlit\\TCS_functions.py:152: FutureWarning:\n",
      "\n",
      "The behavior of array concatenation with empty entries is deprecated. In a future version, this will no longer exclude empty items when determining the result dtype. To retain the old behavior, exclude the empty entries before the concat operation.\n",
      "\n",
      "c:\\Users\\cochr\\OneDrive\\Libertas Data\\Projects\\Example Projects\\Toy Car Sales Project\\tcs_streamlit\\TCS_functions.py:162: FutureWarning:\n",
      "\n",
      "The behavior of array concatenation with empty entries is deprecated. In a future version, this will no longer exclude empty items when determining the result dtype. To retain the old behavior, exclude the empty entries before the concat operation.\n",
      "\n",
      "c:\\Users\\cochr\\OneDrive\\Libertas Data\\Projects\\Example Projects\\Toy Car Sales Project\\tcs_streamlit\\TCS_functions.py:152: FutureWarning:\n",
      "\n",
      "The behavior of array concatenation with empty entries is deprecated. In a future version, this will no longer exclude empty items when determining the result dtype. To retain the old behavior, exclude the empty entries before the concat operation.\n",
      "\n",
      "c:\\Users\\cochr\\OneDrive\\Libertas Data\\Projects\\Example Projects\\Toy Car Sales Project\\tcs_streamlit\\TCS_functions.py:162: FutureWarning:\n",
      "\n",
      "The behavior of array concatenation with empty entries is deprecated. In a future version, this will no longer exclude empty items when determining the result dtype. To retain the old behavior, exclude the empty entries before the concat operation.\n",
      "\n",
      "c:\\Users\\cochr\\OneDrive\\Libertas Data\\Projects\\Example Projects\\Toy Car Sales Project\\tcs_streamlit\\TCS_functions.py:152: FutureWarning:\n",
      "\n",
      "The behavior of array concatenation with empty entries is deprecated. In a future version, this will no longer exclude empty items when determining the result dtype. To retain the old behavior, exclude the empty entries before the concat operation.\n",
      "\n",
      "c:\\Users\\cochr\\OneDrive\\Libertas Data\\Projects\\Example Projects\\Toy Car Sales Project\\tcs_streamlit\\TCS_functions.py:162: FutureWarning:\n",
      "\n",
      "The behavior of array concatenation with empty entries is deprecated. In a future version, this will no longer exclude empty items when determining the result dtype. To retain the old behavior, exclude the empty entries before the concat operation.\n",
      "\n",
      "c:\\Users\\cochr\\OneDrive\\Libertas Data\\Projects\\Example Projects\\Toy Car Sales Project\\tcs_streamlit\\TCS_functions.py:152: FutureWarning:\n",
      "\n",
      "The behavior of array concatenation with empty entries is deprecated. In a future version, this will no longer exclude empty items when determining the result dtype. To retain the old behavior, exclude the empty entries before the concat operation.\n",
      "\n",
      "c:\\Users\\cochr\\OneDrive\\Libertas Data\\Projects\\Example Projects\\Toy Car Sales Project\\tcs_streamlit\\TCS_functions.py:162: FutureWarning:\n",
      "\n",
      "The behavior of array concatenation with empty entries is deprecated. In a future version, this will no longer exclude empty items when determining the result dtype. To retain the old behavior, exclude the empty entries before the concat operation.\n",
      "\n",
      "c:\\Users\\cochr\\OneDrive\\Libertas Data\\Projects\\Example Projects\\Toy Car Sales Project\\tcs_streamlit\\TCS_functions.py:152: FutureWarning:\n",
      "\n",
      "The behavior of array concatenation with empty entries is deprecated. In a future version, this will no longer exclude empty items when determining the result dtype. To retain the old behavior, exclude the empty entries before the concat operation.\n",
      "\n",
      "c:\\Users\\cochr\\OneDrive\\Libertas Data\\Projects\\Example Projects\\Toy Car Sales Project\\tcs_streamlit\\TCS_functions.py:162: FutureWarning:\n",
      "\n",
      "The behavior of array concatenation with empty entries is deprecated. In a future version, this will no longer exclude empty items when determining the result dtype. To retain the old behavior, exclude the empty entries before the concat operation.\n",
      "\n"
     ]
    }
   ],
   "source": [
    "# Generating the dataframes showin the top three sale/orders countries\n",
    "\n",
    "index = tcs.df_indice_list()\n",
    "data = tcs.generate_all_data()\n",
    "countries = tcs.country_list()\n",
    "sales = []\n",
    "orders = []\n",
    "\n",
    "for country in countries:\n",
    "        sales.append(data[f'{country}'][index['country_monthly_total_sales']][f'{country} Total Sales by Month']['Sales ($)'].sum())\n",
    "        orders.append(data[f'{country}'][index['country_orders_by_month']][f'{country} Orders by Month']['Orders'].sum())\n",
    "\n"
   ]
  },
  {
   "cell_type": "code",
   "execution_count": 8,
   "metadata": {},
   "outputs": [],
   "source": [
    "orders_dict = {'Country':countries,'Orders':orders}\n",
    "sales_dict = {'Country':countries,'Sales ($)':sales}\n",
    "\n",
    "orders_df = pd.DataFrame(orders_dict).sort_values(by='Orders',ascending=False)\n",
    "sales_df = pd.DataFrame(sales_dict).sort_values(by='Sales ($)',ascending=False)\n",
    "\n",
    "orders_df = orders_df.head(3)\n",
    "sales_df = sales_df.head(3)"
   ]
  },
  {
   "cell_type": "code",
   "execution_count": 9,
   "metadata": {},
   "outputs": [
    {
     "data": {
      "text/html": [
       "<div>\n",
       "<style scoped>\n",
       "    .dataframe tbody tr th:only-of-type {\n",
       "        vertical-align: middle;\n",
       "    }\n",
       "\n",
       "    .dataframe tbody tr th {\n",
       "        vertical-align: top;\n",
       "    }\n",
       "\n",
       "    .dataframe thead th {\n",
       "        text-align: right;\n",
       "    }\n",
       "</style>\n",
       "<table border=\"1\" class=\"dataframe\">\n",
       "  <thead>\n",
       "    <tr style=\"text-align: right;\">\n",
       "      <th></th>\n",
       "      <th>Country</th>\n",
       "      <th>Orders</th>\n",
       "    </tr>\n",
       "  </thead>\n",
       "  <tbody>\n",
       "    <tr>\n",
       "      <th>0</th>\n",
       "      <td>USA</td>\n",
       "      <td>1004</td>\n",
       "    </tr>\n",
       "    <tr>\n",
       "      <th>3</th>\n",
       "      <td>Spain</td>\n",
       "      <td>342</td>\n",
       "    </tr>\n",
       "    <tr>\n",
       "      <th>9</th>\n",
       "      <td>France</td>\n",
       "      <td>314</td>\n",
       "    </tr>\n",
       "  </tbody>\n",
       "</table>\n",
       "</div>"
      ],
      "text/plain": [
       "  Country  Orders\n",
       "0     USA    1004\n",
       "3   Spain     342\n",
       "9  France     314"
      ]
     },
     "execution_count": 9,
     "metadata": {},
     "output_type": "execute_result"
    }
   ],
   "source": [
    "orders_df"
   ]
  },
  {
   "cell_type": "code",
   "execution_count": 10,
   "metadata": {},
   "outputs": [
    {
     "data": {
      "text/html": [
       "<div>\n",
       "<style scoped>\n",
       "    .dataframe tbody tr th:only-of-type {\n",
       "        vertical-align: middle;\n",
       "    }\n",
       "\n",
       "    .dataframe tbody tr th {\n",
       "        vertical-align: top;\n",
       "    }\n",
       "\n",
       "    .dataframe thead th {\n",
       "        text-align: right;\n",
       "    }\n",
       "</style>\n",
       "<table border=\"1\" class=\"dataframe\">\n",
       "  <thead>\n",
       "    <tr style=\"text-align: right;\">\n",
       "      <th></th>\n",
       "      <th>Country</th>\n",
       "      <th>Sales ($)</th>\n",
       "    </tr>\n",
       "  </thead>\n",
       "  <tbody>\n",
       "    <tr>\n",
       "      <th>0</th>\n",
       "      <td>USA</td>\n",
       "      <td>3627982.83</td>\n",
       "    </tr>\n",
       "    <tr>\n",
       "      <th>3</th>\n",
       "      <td>Spain</td>\n",
       "      <td>1215686.92</td>\n",
       "    </tr>\n",
       "    <tr>\n",
       "      <th>9</th>\n",
       "      <td>France</td>\n",
       "      <td>1110916.52</td>\n",
       "    </tr>\n",
       "  </tbody>\n",
       "</table>\n",
       "</div>"
      ],
      "text/plain": [
       "  Country   Sales ($)\n",
       "0     USA  3627982.83\n",
       "3   Spain  1215686.92\n",
       "9  France  1110916.52"
      ]
     },
     "execution_count": 10,
     "metadata": {},
     "output_type": "execute_result"
    }
   ],
   "source": [
    "sales_df = sales_df.head(3)\n",
    "sales_df"
   ]
  },
  {
   "cell_type": "code",
   "execution_count": 11,
   "metadata": {},
   "outputs": [],
   "source": [
    "def top_three_country():\n",
    "    index = tcs.df_indice_list()\n",
    "    data = tcs.generate_all_data()\n",
    "    countries = tcs.country_list()\n",
    "    sales = []\n",
    "    orders = []\n",
    "\n",
    "    for country in countries:\n",
    "            sales.append(data[f'{country}'][index['country_monthly_total_sales']][f'{country} Total Sales by Month']['Sales ($)'].sum())\n",
    "            orders.append(data[f'{country}'][index['country_orders_by_month']][f'{country} Orders by Month']['Orders'].sum())\n",
    "\n",
    "    orders_dict = {'Country':countries,'Orders':orders}\n",
    "    sales_dict = {'Country':countries,'Sales ($)':sales}\n",
    "\n",
    "    orders_df = pd.DataFrame(orders_dict).sort_values(by='Orders',ascending=False)\n",
    "    sales_df = pd.DataFrame(sales_dict).sort_values(by='Sales ($)',ascending=False)\n",
    "\n",
    "    orders_df = orders_df.head(3)\n",
    "    sales_df = sales_df.head(3)\n",
    "\n",
    "    return orders_df, sales_df\n",
    "            "
   ]
  },
  {
   "cell_type": "code",
   "execution_count": 12,
   "metadata": {},
   "outputs": [
    {
     "name": "stderr",
     "output_type": "stream",
     "text": [
      "c:\\Users\\cochr\\OneDrive\\Libertas Data\\Projects\\Example Projects\\Toy Car Sales Project\\tcs_streamlit\\TCS_functions.py:152: FutureWarning:\n",
      "\n",
      "The behavior of array concatenation with empty entries is deprecated. In a future version, this will no longer exclude empty items when determining the result dtype. To retain the old behavior, exclude the empty entries before the concat operation.\n",
      "\n",
      "c:\\Users\\cochr\\OneDrive\\Libertas Data\\Projects\\Example Projects\\Toy Car Sales Project\\tcs_streamlit\\TCS_functions.py:162: FutureWarning:\n",
      "\n",
      "The behavior of array concatenation with empty entries is deprecated. In a future version, this will no longer exclude empty items when determining the result dtype. To retain the old behavior, exclude the empty entries before the concat operation.\n",
      "\n",
      "c:\\Users\\cochr\\OneDrive\\Libertas Data\\Projects\\Example Projects\\Toy Car Sales Project\\tcs_streamlit\\TCS_functions.py:152: FutureWarning:\n",
      "\n",
      "The behavior of array concatenation with empty entries is deprecated. In a future version, this will no longer exclude empty items when determining the result dtype. To retain the old behavior, exclude the empty entries before the concat operation.\n",
      "\n",
      "c:\\Users\\cochr\\OneDrive\\Libertas Data\\Projects\\Example Projects\\Toy Car Sales Project\\tcs_streamlit\\TCS_functions.py:162: FutureWarning:\n",
      "\n",
      "The behavior of array concatenation with empty entries is deprecated. In a future version, this will no longer exclude empty items when determining the result dtype. To retain the old behavior, exclude the empty entries before the concat operation.\n",
      "\n",
      "c:\\Users\\cochr\\OneDrive\\Libertas Data\\Projects\\Example Projects\\Toy Car Sales Project\\tcs_streamlit\\TCS_functions.py:152: FutureWarning:\n",
      "\n",
      "The behavior of array concatenation with empty entries is deprecated. In a future version, this will no longer exclude empty items when determining the result dtype. To retain the old behavior, exclude the empty entries before the concat operation.\n",
      "\n",
      "c:\\Users\\cochr\\OneDrive\\Libertas Data\\Projects\\Example Projects\\Toy Car Sales Project\\tcs_streamlit\\TCS_functions.py:162: FutureWarning:\n",
      "\n",
      "The behavior of array concatenation with empty entries is deprecated. In a future version, this will no longer exclude empty items when determining the result dtype. To retain the old behavior, exclude the empty entries before the concat operation.\n",
      "\n",
      "c:\\Users\\cochr\\OneDrive\\Libertas Data\\Projects\\Example Projects\\Toy Car Sales Project\\tcs_streamlit\\TCS_functions.py:152: FutureWarning:\n",
      "\n",
      "The behavior of array concatenation with empty entries is deprecated. In a future version, this will no longer exclude empty items when determining the result dtype. To retain the old behavior, exclude the empty entries before the concat operation.\n",
      "\n",
      "c:\\Users\\cochr\\OneDrive\\Libertas Data\\Projects\\Example Projects\\Toy Car Sales Project\\tcs_streamlit\\TCS_functions.py:162: FutureWarning:\n",
      "\n",
      "The behavior of array concatenation with empty entries is deprecated. In a future version, this will no longer exclude empty items when determining the result dtype. To retain the old behavior, exclude the empty entries before the concat operation.\n",
      "\n",
      "c:\\Users\\cochr\\OneDrive\\Libertas Data\\Projects\\Example Projects\\Toy Car Sales Project\\tcs_streamlit\\TCS_functions.py:152: FutureWarning:\n",
      "\n",
      "The behavior of array concatenation with empty entries is deprecated. In a future version, this will no longer exclude empty items when determining the result dtype. To retain the old behavior, exclude the empty entries before the concat operation.\n",
      "\n",
      "c:\\Users\\cochr\\OneDrive\\Libertas Data\\Projects\\Example Projects\\Toy Car Sales Project\\tcs_streamlit\\TCS_functions.py:162: FutureWarning:\n",
      "\n",
      "The behavior of array concatenation with empty entries is deprecated. In a future version, this will no longer exclude empty items when determining the result dtype. To retain the old behavior, exclude the empty entries before the concat operation.\n",
      "\n",
      "c:\\Users\\cochr\\OneDrive\\Libertas Data\\Projects\\Example Projects\\Toy Car Sales Project\\tcs_streamlit\\TCS_functions.py:152: FutureWarning:\n",
      "\n",
      "The behavior of array concatenation with empty entries is deprecated. In a future version, this will no longer exclude empty items when determining the result dtype. To retain the old behavior, exclude the empty entries before the concat operation.\n",
      "\n",
      "c:\\Users\\cochr\\OneDrive\\Libertas Data\\Projects\\Example Projects\\Toy Car Sales Project\\tcs_streamlit\\TCS_functions.py:162: FutureWarning:\n",
      "\n",
      "The behavior of array concatenation with empty entries is deprecated. In a future version, this will no longer exclude empty items when determining the result dtype. To retain the old behavior, exclude the empty entries before the concat operation.\n",
      "\n",
      "c:\\Users\\cochr\\OneDrive\\Libertas Data\\Projects\\Example Projects\\Toy Car Sales Project\\tcs_streamlit\\TCS_functions.py:152: FutureWarning:\n",
      "\n",
      "The behavior of array concatenation with empty entries is deprecated. In a future version, this will no longer exclude empty items when determining the result dtype. To retain the old behavior, exclude the empty entries before the concat operation.\n",
      "\n",
      "c:\\Users\\cochr\\OneDrive\\Libertas Data\\Projects\\Example Projects\\Toy Car Sales Project\\tcs_streamlit\\TCS_functions.py:162: FutureWarning:\n",
      "\n",
      "The behavior of array concatenation with empty entries is deprecated. In a future version, this will no longer exclude empty items when determining the result dtype. To retain the old behavior, exclude the empty entries before the concat operation.\n",
      "\n",
      "c:\\Users\\cochr\\OneDrive\\Libertas Data\\Projects\\Example Projects\\Toy Car Sales Project\\tcs_streamlit\\TCS_functions.py:152: FutureWarning:\n",
      "\n",
      "The behavior of array concatenation with empty entries is deprecated. In a future version, this will no longer exclude empty items when determining the result dtype. To retain the old behavior, exclude the empty entries before the concat operation.\n",
      "\n",
      "c:\\Users\\cochr\\OneDrive\\Libertas Data\\Projects\\Example Projects\\Toy Car Sales Project\\tcs_streamlit\\TCS_functions.py:162: FutureWarning:\n",
      "\n",
      "The behavior of array concatenation with empty entries is deprecated. In a future version, this will no longer exclude empty items when determining the result dtype. To retain the old behavior, exclude the empty entries before the concat operation.\n",
      "\n",
      "c:\\Users\\cochr\\OneDrive\\Libertas Data\\Projects\\Example Projects\\Toy Car Sales Project\\tcs_streamlit\\TCS_functions.py:152: FutureWarning:\n",
      "\n",
      "The behavior of array concatenation with empty entries is deprecated. In a future version, this will no longer exclude empty items when determining the result dtype. To retain the old behavior, exclude the empty entries before the concat operation.\n",
      "\n",
      "c:\\Users\\cochr\\OneDrive\\Libertas Data\\Projects\\Example Projects\\Toy Car Sales Project\\tcs_streamlit\\TCS_functions.py:162: FutureWarning:\n",
      "\n",
      "The behavior of array concatenation with empty entries is deprecated. In a future version, this will no longer exclude empty items when determining the result dtype. To retain the old behavior, exclude the empty entries before the concat operation.\n",
      "\n",
      "c:\\Users\\cochr\\OneDrive\\Libertas Data\\Projects\\Example Projects\\Toy Car Sales Project\\tcs_streamlit\\TCS_functions.py:152: FutureWarning:\n",
      "\n",
      "The behavior of array concatenation with empty entries is deprecated. In a future version, this will no longer exclude empty items when determining the result dtype. To retain the old behavior, exclude the empty entries before the concat operation.\n",
      "\n",
      "c:\\Users\\cochr\\OneDrive\\Libertas Data\\Projects\\Example Projects\\Toy Car Sales Project\\tcs_streamlit\\TCS_functions.py:162: FutureWarning:\n",
      "\n",
      "The behavior of array concatenation with empty entries is deprecated. In a future version, this will no longer exclude empty items when determining the result dtype. To retain the old behavior, exclude the empty entries before the concat operation.\n",
      "\n",
      "c:\\Users\\cochr\\OneDrive\\Libertas Data\\Projects\\Example Projects\\Toy Car Sales Project\\tcs_streamlit\\TCS_functions.py:152: FutureWarning:\n",
      "\n",
      "The behavior of array concatenation with empty entries is deprecated. In a future version, this will no longer exclude empty items when determining the result dtype. To retain the old behavior, exclude the empty entries before the concat operation.\n",
      "\n",
      "c:\\Users\\cochr\\OneDrive\\Libertas Data\\Projects\\Example Projects\\Toy Car Sales Project\\tcs_streamlit\\TCS_functions.py:162: FutureWarning:\n",
      "\n",
      "The behavior of array concatenation with empty entries is deprecated. In a future version, this will no longer exclude empty items when determining the result dtype. To retain the old behavior, exclude the empty entries before the concat operation.\n",
      "\n",
      "c:\\Users\\cochr\\OneDrive\\Libertas Data\\Projects\\Example Projects\\Toy Car Sales Project\\tcs_streamlit\\TCS_functions.py:152: FutureWarning:\n",
      "\n",
      "The behavior of array concatenation with empty entries is deprecated. In a future version, this will no longer exclude empty items when determining the result dtype. To retain the old behavior, exclude the empty entries before the concat operation.\n",
      "\n",
      "c:\\Users\\cochr\\OneDrive\\Libertas Data\\Projects\\Example Projects\\Toy Car Sales Project\\tcs_streamlit\\TCS_functions.py:162: FutureWarning:\n",
      "\n",
      "The behavior of array concatenation with empty entries is deprecated. In a future version, this will no longer exclude empty items when determining the result dtype. To retain the old behavior, exclude the empty entries before the concat operation.\n",
      "\n",
      "c:\\Users\\cochr\\OneDrive\\Libertas Data\\Projects\\Example Projects\\Toy Car Sales Project\\tcs_streamlit\\TCS_functions.py:152: FutureWarning:\n",
      "\n",
      "The behavior of array concatenation with empty entries is deprecated. In a future version, this will no longer exclude empty items when determining the result dtype. To retain the old behavior, exclude the empty entries before the concat operation.\n",
      "\n",
      "c:\\Users\\cochr\\OneDrive\\Libertas Data\\Projects\\Example Projects\\Toy Car Sales Project\\tcs_streamlit\\TCS_functions.py:162: FutureWarning:\n",
      "\n",
      "The behavior of array concatenation with empty entries is deprecated. In a future version, this will no longer exclude empty items when determining the result dtype. To retain the old behavior, exclude the empty entries before the concat operation.\n",
      "\n",
      "c:\\Users\\cochr\\OneDrive\\Libertas Data\\Projects\\Example Projects\\Toy Car Sales Project\\tcs_streamlit\\TCS_functions.py:152: FutureWarning:\n",
      "\n",
      "The behavior of array concatenation with empty entries is deprecated. In a future version, this will no longer exclude empty items when determining the result dtype. To retain the old behavior, exclude the empty entries before the concat operation.\n",
      "\n",
      "c:\\Users\\cochr\\OneDrive\\Libertas Data\\Projects\\Example Projects\\Toy Car Sales Project\\tcs_streamlit\\TCS_functions.py:162: FutureWarning:\n",
      "\n",
      "The behavior of array concatenation with empty entries is deprecated. In a future version, this will no longer exclude empty items when determining the result dtype. To retain the old behavior, exclude the empty entries before the concat operation.\n",
      "\n",
      "c:\\Users\\cochr\\OneDrive\\Libertas Data\\Projects\\Example Projects\\Toy Car Sales Project\\tcs_streamlit\\TCS_functions.py:152: FutureWarning:\n",
      "\n",
      "The behavior of array concatenation with empty entries is deprecated. In a future version, this will no longer exclude empty items when determining the result dtype. To retain the old behavior, exclude the empty entries before the concat operation.\n",
      "\n",
      "c:\\Users\\cochr\\OneDrive\\Libertas Data\\Projects\\Example Projects\\Toy Car Sales Project\\tcs_streamlit\\TCS_functions.py:162: FutureWarning:\n",
      "\n",
      "The behavior of array concatenation with empty entries is deprecated. In a future version, this will no longer exclude empty items when determining the result dtype. To retain the old behavior, exclude the empty entries before the concat operation.\n",
      "\n",
      "c:\\Users\\cochr\\OneDrive\\Libertas Data\\Projects\\Example Projects\\Toy Car Sales Project\\tcs_streamlit\\TCS_functions.py:152: FutureWarning:\n",
      "\n",
      "The behavior of array concatenation with empty entries is deprecated. In a future version, this will no longer exclude empty items when determining the result dtype. To retain the old behavior, exclude the empty entries before the concat operation.\n",
      "\n",
      "c:\\Users\\cochr\\OneDrive\\Libertas Data\\Projects\\Example Projects\\Toy Car Sales Project\\tcs_streamlit\\TCS_functions.py:162: FutureWarning:\n",
      "\n",
      "The behavior of array concatenation with empty entries is deprecated. In a future version, this will no longer exclude empty items when determining the result dtype. To retain the old behavior, exclude the empty entries before the concat operation.\n",
      "\n",
      "c:\\Users\\cochr\\OneDrive\\Libertas Data\\Projects\\Example Projects\\Toy Car Sales Project\\tcs_streamlit\\TCS_functions.py:152: FutureWarning:\n",
      "\n",
      "The behavior of array concatenation with empty entries is deprecated. In a future version, this will no longer exclude empty items when determining the result dtype. To retain the old behavior, exclude the empty entries before the concat operation.\n",
      "\n",
      "c:\\Users\\cochr\\OneDrive\\Libertas Data\\Projects\\Example Projects\\Toy Car Sales Project\\tcs_streamlit\\TCS_functions.py:162: FutureWarning:\n",
      "\n",
      "The behavior of array concatenation with empty entries is deprecated. In a future version, this will no longer exclude empty items when determining the result dtype. To retain the old behavior, exclude the empty entries before the concat operation.\n",
      "\n",
      "c:\\Users\\cochr\\OneDrive\\Libertas Data\\Projects\\Example Projects\\Toy Car Sales Project\\tcs_streamlit\\TCS_functions.py:152: FutureWarning:\n",
      "\n",
      "The behavior of array concatenation with empty entries is deprecated. In a future version, this will no longer exclude empty items when determining the result dtype. To retain the old behavior, exclude the empty entries before the concat operation.\n",
      "\n",
      "c:\\Users\\cochr\\OneDrive\\Libertas Data\\Projects\\Example Projects\\Toy Car Sales Project\\tcs_streamlit\\TCS_functions.py:162: FutureWarning:\n",
      "\n",
      "The behavior of array concatenation with empty entries is deprecated. In a future version, this will no longer exclude empty items when determining the result dtype. To retain the old behavior, exclude the empty entries before the concat operation.\n",
      "\n",
      "c:\\Users\\cochr\\OneDrive\\Libertas Data\\Projects\\Example Projects\\Toy Car Sales Project\\tcs_streamlit\\TCS_functions.py:152: FutureWarning:\n",
      "\n",
      "The behavior of array concatenation with empty entries is deprecated. In a future version, this will no longer exclude empty items when determining the result dtype. To retain the old behavior, exclude the empty entries before the concat operation.\n",
      "\n",
      "c:\\Users\\cochr\\OneDrive\\Libertas Data\\Projects\\Example Projects\\Toy Car Sales Project\\tcs_streamlit\\TCS_functions.py:162: FutureWarning:\n",
      "\n",
      "The behavior of array concatenation with empty entries is deprecated. In a future version, this will no longer exclude empty items when determining the result dtype. To retain the old behavior, exclude the empty entries before the concat operation.\n",
      "\n"
     ]
    }
   ],
   "source": [
    "test_orders, test_sales = top_three_country()"
   ]
  },
  {
   "cell_type": "code",
   "execution_count": 13,
   "metadata": {},
   "outputs": [
    {
     "data": {
      "text/html": [
       "<div>\n",
       "<style scoped>\n",
       "    .dataframe tbody tr th:only-of-type {\n",
       "        vertical-align: middle;\n",
       "    }\n",
       "\n",
       "    .dataframe tbody tr th {\n",
       "        vertical-align: top;\n",
       "    }\n",
       "\n",
       "    .dataframe thead th {\n",
       "        text-align: right;\n",
       "    }\n",
       "</style>\n",
       "<table border=\"1\" class=\"dataframe\">\n",
       "  <thead>\n",
       "    <tr style=\"text-align: right;\">\n",
       "      <th></th>\n",
       "      <th>Country</th>\n",
       "      <th>Orders</th>\n",
       "    </tr>\n",
       "  </thead>\n",
       "  <tbody>\n",
       "    <tr>\n",
       "      <th>0</th>\n",
       "      <td>USA</td>\n",
       "      <td>1004</td>\n",
       "    </tr>\n",
       "    <tr>\n",
       "      <th>3</th>\n",
       "      <td>Spain</td>\n",
       "      <td>342</td>\n",
       "    </tr>\n",
       "    <tr>\n",
       "      <th>9</th>\n",
       "      <td>France</td>\n",
       "      <td>314</td>\n",
       "    </tr>\n",
       "  </tbody>\n",
       "</table>\n",
       "</div>"
      ],
      "text/plain": [
       "  Country  Orders\n",
       "0     USA    1004\n",
       "3   Spain     342\n",
       "9  France     314"
      ]
     },
     "execution_count": 13,
     "metadata": {},
     "output_type": "execute_result"
    }
   ],
   "source": [
    "test_orders"
   ]
  },
  {
   "cell_type": "code",
   "execution_count": 14,
   "metadata": {},
   "outputs": [
    {
     "data": {
      "text/html": [
       "<div>\n",
       "<style scoped>\n",
       "    .dataframe tbody tr th:only-of-type {\n",
       "        vertical-align: middle;\n",
       "    }\n",
       "\n",
       "    .dataframe tbody tr th {\n",
       "        vertical-align: top;\n",
       "    }\n",
       "\n",
       "    .dataframe thead th {\n",
       "        text-align: right;\n",
       "    }\n",
       "</style>\n",
       "<table border=\"1\" class=\"dataframe\">\n",
       "  <thead>\n",
       "    <tr style=\"text-align: right;\">\n",
       "      <th></th>\n",
       "      <th>Country</th>\n",
       "      <th>Sales ($)</th>\n",
       "    </tr>\n",
       "  </thead>\n",
       "  <tbody>\n",
       "    <tr>\n",
       "      <th>0</th>\n",
       "      <td>USA</td>\n",
       "      <td>3627982.83</td>\n",
       "    </tr>\n",
       "    <tr>\n",
       "      <th>3</th>\n",
       "      <td>Spain</td>\n",
       "      <td>1215686.92</td>\n",
       "    </tr>\n",
       "    <tr>\n",
       "      <th>9</th>\n",
       "      <td>France</td>\n",
       "      <td>1110916.52</td>\n",
       "    </tr>\n",
       "  </tbody>\n",
       "</table>\n",
       "</div>"
      ],
      "text/plain": [
       "  Country   Sales ($)\n",
       "0     USA  3627982.83\n",
       "3   Spain  1215686.92\n",
       "9  France  1110916.52"
      ]
     },
     "execution_count": 14,
     "metadata": {},
     "output_type": "execute_result"
    }
   ],
   "source": [
    "test_sales"
   ]
  },
  {
   "cell_type": "code",
   "execution_count": 15,
   "metadata": {},
   "outputs": [
    {
     "name": "stderr",
     "output_type": "stream",
     "text": [
      "c:\\Users\\cochr\\OneDrive\\Libertas Data\\Projects\\Example Projects\\Toy Car Sales Project\\tcs_streamlit\\TCS_functions.py:152: FutureWarning:\n",
      "\n",
      "The behavior of array concatenation with empty entries is deprecated. In a future version, this will no longer exclude empty items when determining the result dtype. To retain the old behavior, exclude the empty entries before the concat operation.\n",
      "\n",
      "c:\\Users\\cochr\\OneDrive\\Libertas Data\\Projects\\Example Projects\\Toy Car Sales Project\\tcs_streamlit\\TCS_functions.py:162: FutureWarning:\n",
      "\n",
      "The behavior of array concatenation with empty entries is deprecated. In a future version, this will no longer exclude empty items when determining the result dtype. To retain the old behavior, exclude the empty entries before the concat operation.\n",
      "\n"
     ]
    }
   ],
   "source": [
    "usa_data = tcs.TCSpipelineCountry(country='USA')\n",
    "tcs.fill_m_q_p(usa_data)"
   ]
  },
  {
   "cell_type": "code",
   "execution_count": 16,
   "metadata": {},
   "outputs": [
    {
     "data": {
      "image/png": "[encoded data removed]",
      "text/plain": [
       "<Figure size 1000x400 with 1 Axes>"
      ]
     },
     "metadata": {},
     "output_type": "display_data"
    }
   ],
   "source": [
    "usa_product_pie = tcs.return_pie_plot_orders_country(data=usa_data,country_name='USA')"
   ]
  },
  {
   "cell_type": "code",
   "execution_count": 17,
   "metadata": {},
   "outputs": [
    {
     "name": "stderr",
     "output_type": "stream",
     "text": [
      "c:\\Users\\cochr\\OneDrive\\Libertas Data\\Projects\\Example Projects\\Toy Car Sales Project\\tcs_streamlit\\TCS_functions.py:152: FutureWarning:\n",
      "\n",
      "The behavior of array concatenation with empty entries is deprecated. In a future version, this will no longer exclude empty items when determining the result dtype. To retain the old behavior, exclude the empty entries before the concat operation.\n",
      "\n",
      "c:\\Users\\cochr\\OneDrive\\Libertas Data\\Projects\\Example Projects\\Toy Car Sales Project\\tcs_streamlit\\TCS_functions.py:162: FutureWarning:\n",
      "\n",
      "The behavior of array concatenation with empty entries is deprecated. In a future version, this will no longer exclude empty items when determining the result dtype. To retain the old behavior, exclude the empty entries before the concat operation.\n",
      "\n"
     ]
    }
   ],
   "source": [
    "usa_data = tcs.TCSpipelineCountry(country='USA')\n",
    "tcs.fill_m_q_p(usa_data)\n",
    "\n",
    "data_indices = tcs.df_indice_list()\n",
    "country_product_orders_index = data_indices['country_orders_per_product']\n",
    "product_data = usa_data[country_product_orders_index]\n",
    "#products = product_data['Country']\n",
    "orders = list(product_data[0].values)\n",
    "products = list(product_data[0].index)"
   ]
  },
  {
   "cell_type": "code",
   "execution_count": 18,
   "metadata": {},
   "outputs": [
    {
     "data": {
      "text/plain": [
       "[224, 149, 329, 112, 25, 70, 95]"
      ]
     },
     "execution_count": 18,
     "metadata": {},
     "output_type": "execute_result"
    }
   ],
   "source": [
    "orders"
   ]
  },
  {
   "cell_type": "code",
   "execution_count": 19,
   "metadata": {},
   "outputs": [
    {
     "data": {
      "text/plain": [
       "['Vintage Cars',\n",
       " 'Motorcycles',\n",
       " 'Classic Cars',\n",
       " 'Trucks and Buses',\n",
       " 'Trains',\n",
       " 'Ships',\n",
       " 'Planes']"
      ]
     },
     "execution_count": 19,
     "metadata": {},
     "output_type": "execute_result"
    }
   ],
   "source": [
    "products"
   ]
  }
 ],
 "metadata": {
  "kernelspec": {
   "display_name": "Python 3",
   "language": "python",
   "name": "python3"
  },
  "language_info": {
   "codemirror_mode": {
    "name": "ipython",
    "version": 3
   },
   "file_extension": ".py",
   "mimetype": "text/x-python",
   "name": "python",
   "nbconvert_exporter": "python",
   "pygments_lexer": "ipython3",
   "version": "3.12.0"
  }
 },
 "nbformat": 4,
 "nbformat_minor": 2
}
